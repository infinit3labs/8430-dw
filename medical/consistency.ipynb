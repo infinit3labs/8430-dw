{
 "cells": [
  {
   "cell_type": "code",
   "execution_count": 1,
   "metadata": {
    "collapsed": true
   },
   "outputs": [],
   "source": [
    "import pandas as pd\n",
    "\n",
    "pd.set_option('display.max_columns', None)\n",
    "df = pd.read_csv('data_wrangling_medical_2022_u4587426.csv', dtype=str)"
   ]
  },
  {
   "cell_type": "code",
   "execution_count": 2,
   "outputs": [
    {
     "data": {
      "text/plain": "Index(['rec_id', 'ssn', 'first_name', 'middle_name', 'last_name', 'gender',\n       'age_at_consultation', 'birth_date', 'medicare_number',\n       'street_address', 'suburb', 'postcode', 'state', 'phone', 'email',\n       'marital_status', 'height', 'weight', 'bmi', 'blood_pressure',\n       'cholesterol_level', 'smoking_status', 'clinical_notes',\n       'consultation_timestamp'],\n      dtype='object')"
     },
     "execution_count": 2,
     "metadata": {},
     "output_type": "execute_result"
    }
   ],
   "source": [
    "df.columns"
   ],
   "metadata": {
    "collapsed": false,
    "pycharm": {
     "name": "#%%\n"
    }
   }
  },
  {
   "cell_type": "code",
   "execution_count": 11,
   "outputs": [],
   "source": [
    "# rec_id: Does each record use the format rec-#####? - Yes\n",
    "import re\n",
    "regex = '^rec-\\d{1,5}$'\n",
    "df['rec_id_conform'] = [1 for x in df['rec_id'] if re.search(regex, x)]"
   ],
   "metadata": {
    "collapsed": false,
    "pycharm": {
     "name": "#%%\n"
    }
   }
  },
  {
   "cell_type": "code",
   "execution_count": 13,
   "outputs": [
    {
     "data": {
      "text/plain": "20000"
     },
     "execution_count": 13,
     "metadata": {},
     "output_type": "execute_result"
    }
   ],
   "source": [
    "df['rec_id_conform'].sum()"
   ],
   "metadata": {
    "collapsed": false,
    "pycharm": {
     "name": "#%%\n"
    }
   }
  },
  {
   "cell_type": "code",
   "execution_count": 14,
   "outputs": [
    {
     "data": {
      "text/plain": "          rec_id         ssn first_name middle_name  last_name gender  \\\n0      rec-72052  i116534747     donald      lydell    manning      f   \n1      rec-66635  g196248364     george       allen   morrison      m   \n2      rec-73551  e111796351    stephon        hill     warren      f   \n3      rec-52311  f113787195    matthew           e      heuer      m   \n4      rec-49632  g166722356     melisa         NaN    kellogg      f   \n...          ...         ...        ...         ...        ...    ...   \n19995  rec-15872  i161581251     gracie      little  ratcliffe      f   \n19996  rec-53302  g152500166      allan      landon     hurdle      m   \n19997  rec-90066  g178482871     joshua     michael       munn      f   \n19998  rec-51517  h169776084      carol     lucille      harms      m   \n19999  rec-11861  d142380248      javon        karl      golly      m   \n\n      age_at_consultation  birth_date      medicare_number  \\\n0                      13    4/6/2004   1671  32219  1  2    \n1                      10   12/3/2010   9823  28679  1  2    \n2                      28  25/12/1989   7824  89557  1  1    \n3                      18   3/11/1997   6509  52553  2  3    \n4                      59  12/11/1957   8926  29925  1  2    \n...                   ...         ...                  ...   \n19995                   6   12/8/2008   9039  89959  1  2    \n19996                  49    3/8/1968   4148  98301  2  2    \n19997                   7   22/4/2008   7737  88451  1  2    \n19998                  59   1/12/1956   9535  28015  2  1    \n19999                  15   29/1/1999   4465  34238  2  2    \n\n                                  street_address            suburb postcode  \\\n0                   1  gisborne  road  goodmans    bacchus  marsh      3340   \n1            1  leura  lane  watersley  cottage           hamilton     3300   \n2          39  mcnabb  loop  collier  park  vlg               como     6152   \n3                    5  harrys  road  rivendell    arthurs  creek      3099   \n4          9  hallett  close  riverside  garden            douglas     4814   \n...                                          ...               ...      ...   \n19995   501  little  collins  street  aprt  701          melbourne     3000   \n19996       5  barrett  drive  floreat  village    alice  springs      0870   \n19997        49  ellis  road  whispering  pines        alstonville     2477   \n19998             360  eusdale  road  woodlands           yetholme     2795   \n19999           118  jandowae  road  kensington              warra     4411   \n\n      state             phone                       email marital_status  \\\n0       vic   03  8224  2324   donald.manning@hotmail.com            NaN   \n1       vic               NaN         spfefrcmeq@mail.com            NaN   \n2        wa   08  7124  5514                          NaN        married   \n3       vic   03  0697  4454             heuer21@mail.com    not-married   \n4       qld   07  3290  2798                          NaN        married   \n...     ...               ...                         ...            ...   \n19995   vic   03  0379  4953     gracie.ratcliffe@aol.com            NaN   \n19996    nt   08  6004  7509                          NaN        married   \n19997   nsw   02  5963  3249      joshua.munn@mail.com.au            NaN   \n19998   nsw               NaN        harms.carol@mail.com        married   \n19999   qld   07  2229  6586      javon.golly@mail.com.au        married   \n\n      height weight bmi blood_pressure cholesterol_level smoking_status  \\\n0        139     67  34             71               134              0   \n1        120     50  34             69                97              0   \n2        167    141  50             74               129              0   \n3        172     66  22             73               128              1   \n4        185    122  35             73               119              0   \n...      ...    ...  ..            ...               ...            ...   \n19995    123     25  16             70               131              0   \n19996    180    138  42             80               152              0   \n19997    112     26  20             76               187              0   \n19998    193    123  33             74               138              0   \n19999    178     92  29             81               238              1   \n\n                                          clinical_notes  \\\n0      basal-cell-carcinoma---skin-leasion-to-left-as...   \n1                                         depressed-mood   \n2                                             low-energy   \n3                                    atrial-fibrillation   \n4                                          low-back-pain   \n...                                                  ...   \n19995                                         depression   \n19996                                       ringing-ears   \n19997                       cataract-surgery---right-eye   \n19998                                         bronchitis   \n19999                                       constipation   \n\n       consultation_timestamp  rec_id_conform  \n0      2017-11-15t10:10+00:00               1  \n1      2020-07-20t10:22+00:00               1  \n2      2017-02-23t11:13+00:00               1  \n3      2015-04-04t14:39+00:00               1  \n4      2016-06-13t19:26+00:00               1  \n...                       ...             ...  \n19995  2014-04-07t23:47+00:00               1  \n19996  2017-02-09t20:48+00:00               1  \n19997  2015-07-06t07:17+00:00               1  \n19998  2015-09-19t05:22+00:00               1  \n19999  2014-10-18t10:06+00:00               1  \n\n[20000 rows x 25 columns]",
      "text/html": "<div>\n<style scoped>\n    .dataframe tbody tr th:only-of-type {\n        vertical-align: middle;\n    }\n\n    .dataframe tbody tr th {\n        vertical-align: top;\n    }\n\n    .dataframe thead th {\n        text-align: right;\n    }\n</style>\n<table border=\"1\" class=\"dataframe\">\n  <thead>\n    <tr style=\"text-align: right;\">\n      <th></th>\n      <th>rec_id</th>\n      <th>ssn</th>\n      <th>first_name</th>\n      <th>middle_name</th>\n      <th>last_name</th>\n      <th>gender</th>\n      <th>age_at_consultation</th>\n      <th>birth_date</th>\n      <th>medicare_number</th>\n      <th>street_address</th>\n      <th>suburb</th>\n      <th>postcode</th>\n      <th>state</th>\n      <th>phone</th>\n      <th>email</th>\n      <th>marital_status</th>\n      <th>height</th>\n      <th>weight</th>\n      <th>bmi</th>\n      <th>blood_pressure</th>\n      <th>cholesterol_level</th>\n      <th>smoking_status</th>\n      <th>clinical_notes</th>\n      <th>consultation_timestamp</th>\n      <th>rec_id_conform</th>\n    </tr>\n  </thead>\n  <tbody>\n    <tr>\n      <th>0</th>\n      <td>rec-72052</td>\n      <td>i116534747</td>\n      <td>donald</td>\n      <td>lydell</td>\n      <td>manning</td>\n      <td>f</td>\n      <td>13</td>\n      <td>4/6/2004</td>\n      <td>1671  32219  1  2</td>\n      <td>1  gisborne  road  goodmans</td>\n      <td>bacchus  marsh</td>\n      <td>3340</td>\n      <td>vic</td>\n      <td>03  8224  2324</td>\n      <td>donald.manning@hotmail.com</td>\n      <td>NaN</td>\n      <td>139</td>\n      <td>67</td>\n      <td>34</td>\n      <td>71</td>\n      <td>134</td>\n      <td>0</td>\n      <td>basal-cell-carcinoma---skin-leasion-to-left-as...</td>\n      <td>2017-11-15t10:10+00:00</td>\n      <td>1</td>\n    </tr>\n    <tr>\n      <th>1</th>\n      <td>rec-66635</td>\n      <td>g196248364</td>\n      <td>george</td>\n      <td>allen</td>\n      <td>morrison</td>\n      <td>m</td>\n      <td>10</td>\n      <td>12/3/2010</td>\n      <td>9823  28679  1  2</td>\n      <td>1  leura  lane  watersley  cottage</td>\n      <td>hamilton</td>\n      <td>3300</td>\n      <td>vic</td>\n      <td>NaN</td>\n      <td>spfefrcmeq@mail.com</td>\n      <td>NaN</td>\n      <td>120</td>\n      <td>50</td>\n      <td>34</td>\n      <td>69</td>\n      <td>97</td>\n      <td>0</td>\n      <td>depressed-mood</td>\n      <td>2020-07-20t10:22+00:00</td>\n      <td>1</td>\n    </tr>\n    <tr>\n      <th>2</th>\n      <td>rec-73551</td>\n      <td>e111796351</td>\n      <td>stephon</td>\n      <td>hill</td>\n      <td>warren</td>\n      <td>f</td>\n      <td>28</td>\n      <td>25/12/1989</td>\n      <td>7824  89557  1  1</td>\n      <td>39  mcnabb  loop  collier  park  vlg</td>\n      <td>como</td>\n      <td>6152</td>\n      <td>wa</td>\n      <td>08  7124  5514</td>\n      <td>NaN</td>\n      <td>married</td>\n      <td>167</td>\n      <td>141</td>\n      <td>50</td>\n      <td>74</td>\n      <td>129</td>\n      <td>0</td>\n      <td>low-energy</td>\n      <td>2017-02-23t11:13+00:00</td>\n      <td>1</td>\n    </tr>\n    <tr>\n      <th>3</th>\n      <td>rec-52311</td>\n      <td>f113787195</td>\n      <td>matthew</td>\n      <td>e</td>\n      <td>heuer</td>\n      <td>m</td>\n      <td>18</td>\n      <td>3/11/1997</td>\n      <td>6509  52553  2  3</td>\n      <td>5  harrys  road  rivendell</td>\n      <td>arthurs  creek</td>\n      <td>3099</td>\n      <td>vic</td>\n      <td>03  0697  4454</td>\n      <td>heuer21@mail.com</td>\n      <td>not-married</td>\n      <td>172</td>\n      <td>66</td>\n      <td>22</td>\n      <td>73</td>\n      <td>128</td>\n      <td>1</td>\n      <td>atrial-fibrillation</td>\n      <td>2015-04-04t14:39+00:00</td>\n      <td>1</td>\n    </tr>\n    <tr>\n      <th>4</th>\n      <td>rec-49632</td>\n      <td>g166722356</td>\n      <td>melisa</td>\n      <td>NaN</td>\n      <td>kellogg</td>\n      <td>f</td>\n      <td>59</td>\n      <td>12/11/1957</td>\n      <td>8926  29925  1  2</td>\n      <td>9  hallett  close  riverside  garden</td>\n      <td>douglas</td>\n      <td>4814</td>\n      <td>qld</td>\n      <td>07  3290  2798</td>\n      <td>NaN</td>\n      <td>married</td>\n      <td>185</td>\n      <td>122</td>\n      <td>35</td>\n      <td>73</td>\n      <td>119</td>\n      <td>0</td>\n      <td>low-back-pain</td>\n      <td>2016-06-13t19:26+00:00</td>\n      <td>1</td>\n    </tr>\n    <tr>\n      <th>...</th>\n      <td>...</td>\n      <td>...</td>\n      <td>...</td>\n      <td>...</td>\n      <td>...</td>\n      <td>...</td>\n      <td>...</td>\n      <td>...</td>\n      <td>...</td>\n      <td>...</td>\n      <td>...</td>\n      <td>...</td>\n      <td>...</td>\n      <td>...</td>\n      <td>...</td>\n      <td>...</td>\n      <td>...</td>\n      <td>...</td>\n      <td>...</td>\n      <td>...</td>\n      <td>...</td>\n      <td>...</td>\n      <td>...</td>\n      <td>...</td>\n      <td>...</td>\n    </tr>\n    <tr>\n      <th>19995</th>\n      <td>rec-15872</td>\n      <td>i161581251</td>\n      <td>gracie</td>\n      <td>little</td>\n      <td>ratcliffe</td>\n      <td>f</td>\n      <td>6</td>\n      <td>12/8/2008</td>\n      <td>9039  89959  1  2</td>\n      <td>501  little  collins  street  aprt  701</td>\n      <td>melbourne</td>\n      <td>3000</td>\n      <td>vic</td>\n      <td>03  0379  4953</td>\n      <td>gracie.ratcliffe@aol.com</td>\n      <td>NaN</td>\n      <td>123</td>\n      <td>25</td>\n      <td>16</td>\n      <td>70</td>\n      <td>131</td>\n      <td>0</td>\n      <td>depression</td>\n      <td>2014-04-07t23:47+00:00</td>\n      <td>1</td>\n    </tr>\n    <tr>\n      <th>19996</th>\n      <td>rec-53302</td>\n      <td>g152500166</td>\n      <td>allan</td>\n      <td>landon</td>\n      <td>hurdle</td>\n      <td>m</td>\n      <td>49</td>\n      <td>3/8/1968</td>\n      <td>4148  98301  2  2</td>\n      <td>5  barrett  drive  floreat  village</td>\n      <td>alice  springs</td>\n      <td>0870</td>\n      <td>nt</td>\n      <td>08  6004  7509</td>\n      <td>NaN</td>\n      <td>married</td>\n      <td>180</td>\n      <td>138</td>\n      <td>42</td>\n      <td>80</td>\n      <td>152</td>\n      <td>0</td>\n      <td>ringing-ears</td>\n      <td>2017-02-09t20:48+00:00</td>\n      <td>1</td>\n    </tr>\n    <tr>\n      <th>19997</th>\n      <td>rec-90066</td>\n      <td>g178482871</td>\n      <td>joshua</td>\n      <td>michael</td>\n      <td>munn</td>\n      <td>f</td>\n      <td>7</td>\n      <td>22/4/2008</td>\n      <td>7737  88451  1  2</td>\n      <td>49  ellis  road  whispering  pines</td>\n      <td>alstonville</td>\n      <td>2477</td>\n      <td>nsw</td>\n      <td>02  5963  3249</td>\n      <td>joshua.munn@mail.com.au</td>\n      <td>NaN</td>\n      <td>112</td>\n      <td>26</td>\n      <td>20</td>\n      <td>76</td>\n      <td>187</td>\n      <td>0</td>\n      <td>cataract-surgery---right-eye</td>\n      <td>2015-07-06t07:17+00:00</td>\n      <td>1</td>\n    </tr>\n    <tr>\n      <th>19998</th>\n      <td>rec-51517</td>\n      <td>h169776084</td>\n      <td>carol</td>\n      <td>lucille</td>\n      <td>harms</td>\n      <td>m</td>\n      <td>59</td>\n      <td>1/12/1956</td>\n      <td>9535  28015  2  1</td>\n      <td>360  eusdale  road  woodlands</td>\n      <td>yetholme</td>\n      <td>2795</td>\n      <td>nsw</td>\n      <td>NaN</td>\n      <td>harms.carol@mail.com</td>\n      <td>married</td>\n      <td>193</td>\n      <td>123</td>\n      <td>33</td>\n      <td>74</td>\n      <td>138</td>\n      <td>0</td>\n      <td>bronchitis</td>\n      <td>2015-09-19t05:22+00:00</td>\n      <td>1</td>\n    </tr>\n    <tr>\n      <th>19999</th>\n      <td>rec-11861</td>\n      <td>d142380248</td>\n      <td>javon</td>\n      <td>karl</td>\n      <td>golly</td>\n      <td>m</td>\n      <td>15</td>\n      <td>29/1/1999</td>\n      <td>4465  34238  2  2</td>\n      <td>118  jandowae  road  kensington</td>\n      <td>warra</td>\n      <td>4411</td>\n      <td>qld</td>\n      <td>07  2229  6586</td>\n      <td>javon.golly@mail.com.au</td>\n      <td>married</td>\n      <td>178</td>\n      <td>92</td>\n      <td>29</td>\n      <td>81</td>\n      <td>238</td>\n      <td>1</td>\n      <td>constipation</td>\n      <td>2014-10-18t10:06+00:00</td>\n      <td>1</td>\n    </tr>\n  </tbody>\n</table>\n<p>20000 rows × 25 columns</p>\n</div>"
     },
     "metadata": {},
     "output_type": "display_data"
    }
   ],
   "source": [
    "display(df)"
   ],
   "metadata": {
    "collapsed": false,
    "pycharm": {
     "name": "#%%\n"
    }
   }
  },
  {
   "cell_type": "code",
   "execution_count": 17,
   "outputs": [],
   "source": [
    "# ssn: Does each record use the format n#########?\n",
    "import re\n",
    "regex = '^[A-Za-z]\\d{1,9}$'\n",
    "df['ssn_conform'] = [1 for x in df['ssn'] if re.search(regex, x)]"
   ],
   "metadata": {
    "collapsed": false,
    "pycharm": {
     "name": "#%%\n"
    }
   }
  },
  {
   "cell_type": "code",
   "execution_count": 18,
   "outputs": [
    {
     "data": {
      "text/plain": "20000"
     },
     "execution_count": 18,
     "metadata": {},
     "output_type": "execute_result"
    }
   ],
   "source": [
    "df['ssn_conform'].sum()"
   ],
   "metadata": {
    "collapsed": false,
    "pycharm": {
     "name": "#%%\n"
    }
   }
  },
  {
   "cell_type": "code",
   "execution_count": null,
   "outputs": [],
   "source": [],
   "metadata": {
    "collapsed": false,
    "pycharm": {
     "name": "#%%\n"
    }
   }
  }
 ],
 "metadata": {
  "kernelspec": {
   "display_name": "Python 3",
   "language": "python",
   "name": "python3"
  },
  "language_info": {
   "codemirror_mode": {
    "name": "ipython",
    "version": 2
   },
   "file_extension": ".py",
   "mimetype": "text/x-python",
   "name": "python",
   "nbconvert_exporter": "python",
   "pygments_lexer": "ipython2",
   "version": "2.7.6"
  }
 },
 "nbformat": 4,
 "nbformat_minor": 0
}