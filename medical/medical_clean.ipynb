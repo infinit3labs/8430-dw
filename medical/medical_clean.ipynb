{
 "cells": [
  {
   "cell_type": "code",
   "execution_count": 100,
   "outputs": [],
   "source": [
    "import pandas as pd\n",
    "import numpy as np"
   ],
   "metadata": {
    "collapsed": false,
    "pycharm": {
     "name": "#%%\n"
    }
   }
  },
  {
   "cell_type": "code",
   "execution_count": 101,
   "outputs": [],
   "source": [
    "pd.set_option('display.max_columns', None)"
   ],
   "metadata": {
    "collapsed": false,
    "pycharm": {
     "name": "#%%\n"
    }
   }
  },
  {
   "cell_type": "code",
   "execution_count": 102,
   "metadata": {
    "collapsed": true
   },
   "outputs": [],
   "source": [
    "df = pd.read_csv('data_wrangling_medical_2022_u4587426.csv', dtype=str)"
   ]
  },
  {
   "cell_type": "code",
   "execution_count": 103,
   "outputs": [],
   "source": [
    "def fix_email(row):\n",
    "    email = str(row['email'])\n",
    "    if '@' not in email:\n",
    "        try:\n",
    "            pre = email.split('.com')[0]\n",
    "            post = email.split('.com')[1]\n",
    "            pre_dot = pre.rfind('.')\n",
    "            domain = pre[pre_dot+1:]\n",
    "            user = pre[:pre_dot]\n",
    "            return f'{user}@{domain}.com{post}'\n",
    "        except IndexError:\n",
    "            return 'unknown'\n",
    "    else:\n",
    "        return email"
   ],
   "metadata": {
    "collapsed": false,
    "pycharm": {
     "name": "#%%\n"
    }
   }
  },
  {
   "cell_type": "code",
   "execution_count": 104,
   "outputs": [],
   "source": [
    "for col in df.columns:\n",
    "    df[col] = df[col].str.strip()\n",
    "    df[col] = df[col].str.replace('  ', ' ')"
   ],
   "metadata": {
    "collapsed": false,
    "pycharm": {
     "name": "#%%\n"
    }
   }
  },
  {
   "cell_type": "code",
   "execution_count": 105,
   "outputs": [],
   "source": [
    "# Clean medicare and phone\n",
    "cols = ['medicare_number', 'phone']\n",
    "for col in cols:\n",
    "    df[col] = df[col].str.replace(' ', '')"
   ],
   "metadata": {
    "collapsed": false,
    "pycharm": {
     "name": "#%%\n"
    }
   }
  },
  {
   "cell_type": "code",
   "execution_count": 106,
   "outputs": [],
   "source": [
    "# Fix '24' in timestamp - should be 00\n",
    "cols = ['consultation_timestamp']\n",
    "for col in cols:\n",
    "    df[col] = df[col].str.replace('t24', 't00')"
   ],
   "metadata": {
    "collapsed": false,
    "pycharm": {
     "name": "#%%\n"
    }
   }
  },
  {
   "cell_type": "code",
   "execution_count": 107,
   "outputs": [],
   "source": [
    "from datetime import datetime\n",
    "df['consult_ts'] = [datetime.strptime(x, '%Y-%m-%dt%H:%M%z') for x in df['consultation_timestamp']]"
   ],
   "metadata": {
    "collapsed": false,
    "pycharm": {
     "name": "#%%\n"
    }
   }
  },
  {
   "cell_type": "code",
   "execution_count": 108,
   "outputs": [],
   "source": [
    "df['consult_year'] = [x.year for x in df['consult_ts']]\n",
    "df['consult_month'] = [x.month for x in df['consult_ts']]\n",
    "df['consult_day'] = [x.day for x in df['consult_ts']]\n",
    "df['consult_hour'] = [x.hour for x in df['consult_ts']]\n",
    "df['consult_minute'] = [x.minute for x in df['consult_ts']]\n",
    "df['consult_dt'] = [x.date() for x in df['consult_ts']]"
   ],
   "metadata": {
    "collapsed": false,
    "pycharm": {
     "name": "#%%\n"
    }
   }
  },
  {
   "cell_type": "code",
   "execution_count": 109,
   "outputs": [],
   "source": [
    "df['email_fix'] = df.apply(lambda row: fix_email(row), axis=1)"
   ],
   "metadata": {
    "collapsed": false,
    "pycharm": {
     "name": "#%%\n"
    }
   }
  },
  {
   "cell_type": "code",
   "execution_count": 110,
   "outputs": [
    {
     "data": {
      "text/plain": "          rec_id         ssn first_name middle_name  last_name gender  \\\n0      rec-72052  i116534747     donald      lydell    manning      f   \n1      rec-66635  g196248364     george       allen   morrison      m   \n2      rec-73551  e111796351    stephon        hill     warren      f   \n3      rec-52311  f113787195    matthew           e      heuer      m   \n4      rec-49632  g166722356     melisa         NaN    kellogg      f   \n...          ...         ...        ...         ...        ...    ...   \n19995  rec-15872  i161581251     gracie      little  ratcliffe      f   \n19996  rec-53302  g152500166      allan      landon     hurdle      m   \n19997  rec-90066  g178482871     joshua     michael       munn      f   \n19998  rec-51517  h169776084      carol     lucille      harms      m   \n19999  rec-11861  d142380248      javon        karl      golly      m   \n\n      age_at_consultation  birth_date medicare_number  \\\n0                      13    4/6/2004     16713221912   \n1                      10   12/3/2010     98232867912   \n2                      28  25/12/1989     78248955711   \n3                      18   3/11/1997     65095255323   \n4                      59  12/11/1957     89262992512   \n...                   ...         ...             ...   \n19995                   6   12/8/2008     90398995912   \n19996                  49    3/8/1968     41489830122   \n19997                   7   22/4/2008     77378845112   \n19998                  59   1/12/1956     95352801521   \n19999                  15   29/1/1999     44653423822   \n\n                           street_address         suburb postcode state  \\\n0                1 gisborne road goodmans  bacchus marsh     3340   vic   \n1          1 leura lane watersley cottage       hamilton     3300   vic   \n2         39 mcnabb loop collier park vlg           como     6152    wa   \n3                 5 harrys road rivendell  arthurs creek     3099   vic   \n4        9 hallett close riverside garden        douglas     4814   qld   \n...                                   ...            ...      ...   ...   \n19995  501 little collins street aprt 701      melbourne     3000   vic   \n19996     5 barrett drive floreat village  alice springs     0870    nt   \n19997      49 ellis road whispering pines    alstonville     2477   nsw   \n19998          360 eusdale road woodlands       yetholme     2795   nsw   \n19999        118 jandowae road kensington          warra     4411   qld   \n\n            phone                       email marital_status height weight  \\\n0      0382242324  donald.manning@hotmail.com            NaN    139     67   \n1             NaN         spfefrcmeq@mail.com            NaN    120     50   \n2      0871245514                         NaN        married    167    141   \n3      0306974454            heuer21@mail.com    not-married    172     66   \n4      0732902798                         NaN        married    185    122   \n...           ...                         ...            ...    ...    ...   \n19995  0303794953    gracie.ratcliffe@aol.com            NaN    123     25   \n19996  0860047509                         NaN        married    180    138   \n19997  0259633249     joshua.munn@mail.com.au            NaN    112     26   \n19998         NaN        harms.carol@mail.com        married    193    123   \n19999  0722296586     javon.golly@mail.com.au        married    178     92   \n\n      bmi blood_pressure cholesterol_level smoking_status  \\\n0      34             71               134              0   \n1      34             69                97              0   \n2      50             74               129              0   \n3      22             73               128              1   \n4      35             73               119              0   \n...    ..            ...               ...            ...   \n19995  16             70               131              0   \n19996  42             80               152              0   \n19997  20             76               187              0   \n19998  33             74               138              0   \n19999  29             81               238              1   \n\n                                          clinical_notes  \\\n0      basal-cell-carcinoma---skin-leasion-to-left-as...   \n1                                         depressed-mood   \n2                                             low-energy   \n3                                    atrial-fibrillation   \n4                                          low-back-pain   \n...                                                  ...   \n19995                                         depression   \n19996                                       ringing-ears   \n19997                       cataract-surgery---right-eye   \n19998                                         bronchitis   \n19999                                       constipation   \n\n       consultation_timestamp                consult_ts  consult_year  \\\n0      2017-11-15t10:10+00:00 2017-11-15 10:10:00+00:00          2017   \n1      2020-07-20t10:22+00:00 2020-07-20 10:22:00+00:00          2020   \n2      2017-02-23t11:13+00:00 2017-02-23 11:13:00+00:00          2017   \n3      2015-04-04t14:39+00:00 2015-04-04 14:39:00+00:00          2015   \n4      2016-06-13t19:26+00:00 2016-06-13 19:26:00+00:00          2016   \n...                       ...                       ...           ...   \n19995  2014-04-07t23:47+00:00 2014-04-07 23:47:00+00:00          2014   \n19996  2017-02-09t20:48+00:00 2017-02-09 20:48:00+00:00          2017   \n19997  2015-07-06t07:17+00:00 2015-07-06 07:17:00+00:00          2015   \n19998  2015-09-19t05:22+00:00 2015-09-19 05:22:00+00:00          2015   \n19999  2014-10-18t10:06+00:00 2014-10-18 10:06:00+00:00          2014   \n\n       consult_month  consult_day  consult_hour  consult_minute  consult_dt  \\\n0                 11           15            10              10  2017-11-15   \n1                  7           20            10              22  2020-07-20   \n2                  2           23            11              13  2017-02-23   \n3                  4            4            14              39  2015-04-04   \n4                  6           13            19              26  2016-06-13   \n...              ...          ...           ...             ...         ...   \n19995              4            7            23              47  2014-04-07   \n19996              2            9            20              48  2017-02-09   \n19997              7            6             7              17  2015-07-06   \n19998              9           19             5              22  2015-09-19   \n19999             10           18            10               6  2014-10-18   \n\n                        email_fix  \n0      donald.manning@hotmail.com  \n1             spfefrcmeq@mail.com  \n2                         unknown  \n3                heuer21@mail.com  \n4                         unknown  \n...                           ...  \n19995    gracie.ratcliffe@aol.com  \n19996                     unknown  \n19997     joshua.munn@mail.com.au  \n19998        harms.carol@mail.com  \n19999     javon.golly@mail.com.au  \n\n[20000 rows x 32 columns]",
      "text/html": "<div>\n<style scoped>\n    .dataframe tbody tr th:only-of-type {\n        vertical-align: middle;\n    }\n\n    .dataframe tbody tr th {\n        vertical-align: top;\n    }\n\n    .dataframe thead th {\n        text-align: right;\n    }\n</style>\n<table border=\"1\" class=\"dataframe\">\n  <thead>\n    <tr style=\"text-align: right;\">\n      <th></th>\n      <th>rec_id</th>\n      <th>ssn</th>\n      <th>first_name</th>\n      <th>middle_name</th>\n      <th>last_name</th>\n      <th>gender</th>\n      <th>age_at_consultation</th>\n      <th>birth_date</th>\n      <th>medicare_number</th>\n      <th>street_address</th>\n      <th>suburb</th>\n      <th>postcode</th>\n      <th>state</th>\n      <th>phone</th>\n      <th>email</th>\n      <th>marital_status</th>\n      <th>height</th>\n      <th>weight</th>\n      <th>bmi</th>\n      <th>blood_pressure</th>\n      <th>cholesterol_level</th>\n      <th>smoking_status</th>\n      <th>clinical_notes</th>\n      <th>consultation_timestamp</th>\n      <th>consult_ts</th>\n      <th>consult_year</th>\n      <th>consult_month</th>\n      <th>consult_day</th>\n      <th>consult_hour</th>\n      <th>consult_minute</th>\n      <th>consult_dt</th>\n      <th>email_fix</th>\n    </tr>\n  </thead>\n  <tbody>\n    <tr>\n      <th>0</th>\n      <td>rec-72052</td>\n      <td>i116534747</td>\n      <td>donald</td>\n      <td>lydell</td>\n      <td>manning</td>\n      <td>f</td>\n      <td>13</td>\n      <td>4/6/2004</td>\n      <td>16713221912</td>\n      <td>1 gisborne road goodmans</td>\n      <td>bacchus marsh</td>\n      <td>3340</td>\n      <td>vic</td>\n      <td>0382242324</td>\n      <td>donald.manning@hotmail.com</td>\n      <td>NaN</td>\n      <td>139</td>\n      <td>67</td>\n      <td>34</td>\n      <td>71</td>\n      <td>134</td>\n      <td>0</td>\n      <td>basal-cell-carcinoma---skin-leasion-to-left-as...</td>\n      <td>2017-11-15t10:10+00:00</td>\n      <td>2017-11-15 10:10:00+00:00</td>\n      <td>2017</td>\n      <td>11</td>\n      <td>15</td>\n      <td>10</td>\n      <td>10</td>\n      <td>2017-11-15</td>\n      <td>donald.manning@hotmail.com</td>\n    </tr>\n    <tr>\n      <th>1</th>\n      <td>rec-66635</td>\n      <td>g196248364</td>\n      <td>george</td>\n      <td>allen</td>\n      <td>morrison</td>\n      <td>m</td>\n      <td>10</td>\n      <td>12/3/2010</td>\n      <td>98232867912</td>\n      <td>1 leura lane watersley cottage</td>\n      <td>hamilton</td>\n      <td>3300</td>\n      <td>vic</td>\n      <td>NaN</td>\n      <td>spfefrcmeq@mail.com</td>\n      <td>NaN</td>\n      <td>120</td>\n      <td>50</td>\n      <td>34</td>\n      <td>69</td>\n      <td>97</td>\n      <td>0</td>\n      <td>depressed-mood</td>\n      <td>2020-07-20t10:22+00:00</td>\n      <td>2020-07-20 10:22:00+00:00</td>\n      <td>2020</td>\n      <td>7</td>\n      <td>20</td>\n      <td>10</td>\n      <td>22</td>\n      <td>2020-07-20</td>\n      <td>spfefrcmeq@mail.com</td>\n    </tr>\n    <tr>\n      <th>2</th>\n      <td>rec-73551</td>\n      <td>e111796351</td>\n      <td>stephon</td>\n      <td>hill</td>\n      <td>warren</td>\n      <td>f</td>\n      <td>28</td>\n      <td>25/12/1989</td>\n      <td>78248955711</td>\n      <td>39 mcnabb loop collier park vlg</td>\n      <td>como</td>\n      <td>6152</td>\n      <td>wa</td>\n      <td>0871245514</td>\n      <td>NaN</td>\n      <td>married</td>\n      <td>167</td>\n      <td>141</td>\n      <td>50</td>\n      <td>74</td>\n      <td>129</td>\n      <td>0</td>\n      <td>low-energy</td>\n      <td>2017-02-23t11:13+00:00</td>\n      <td>2017-02-23 11:13:00+00:00</td>\n      <td>2017</td>\n      <td>2</td>\n      <td>23</td>\n      <td>11</td>\n      <td>13</td>\n      <td>2017-02-23</td>\n      <td>unknown</td>\n    </tr>\n    <tr>\n      <th>3</th>\n      <td>rec-52311</td>\n      <td>f113787195</td>\n      <td>matthew</td>\n      <td>e</td>\n      <td>heuer</td>\n      <td>m</td>\n      <td>18</td>\n      <td>3/11/1997</td>\n      <td>65095255323</td>\n      <td>5 harrys road rivendell</td>\n      <td>arthurs creek</td>\n      <td>3099</td>\n      <td>vic</td>\n      <td>0306974454</td>\n      <td>heuer21@mail.com</td>\n      <td>not-married</td>\n      <td>172</td>\n      <td>66</td>\n      <td>22</td>\n      <td>73</td>\n      <td>128</td>\n      <td>1</td>\n      <td>atrial-fibrillation</td>\n      <td>2015-04-04t14:39+00:00</td>\n      <td>2015-04-04 14:39:00+00:00</td>\n      <td>2015</td>\n      <td>4</td>\n      <td>4</td>\n      <td>14</td>\n      <td>39</td>\n      <td>2015-04-04</td>\n      <td>heuer21@mail.com</td>\n    </tr>\n    <tr>\n      <th>4</th>\n      <td>rec-49632</td>\n      <td>g166722356</td>\n      <td>melisa</td>\n      <td>NaN</td>\n      <td>kellogg</td>\n      <td>f</td>\n      <td>59</td>\n      <td>12/11/1957</td>\n      <td>89262992512</td>\n      <td>9 hallett close riverside garden</td>\n      <td>douglas</td>\n      <td>4814</td>\n      <td>qld</td>\n      <td>0732902798</td>\n      <td>NaN</td>\n      <td>married</td>\n      <td>185</td>\n      <td>122</td>\n      <td>35</td>\n      <td>73</td>\n      <td>119</td>\n      <td>0</td>\n      <td>low-back-pain</td>\n      <td>2016-06-13t19:26+00:00</td>\n      <td>2016-06-13 19:26:00+00:00</td>\n      <td>2016</td>\n      <td>6</td>\n      <td>13</td>\n      <td>19</td>\n      <td>26</td>\n      <td>2016-06-13</td>\n      <td>unknown</td>\n    </tr>\n    <tr>\n      <th>...</th>\n      <td>...</td>\n      <td>...</td>\n      <td>...</td>\n      <td>...</td>\n      <td>...</td>\n      <td>...</td>\n      <td>...</td>\n      <td>...</td>\n      <td>...</td>\n      <td>...</td>\n      <td>...</td>\n      <td>...</td>\n      <td>...</td>\n      <td>...</td>\n      <td>...</td>\n      <td>...</td>\n      <td>...</td>\n      <td>...</td>\n      <td>...</td>\n      <td>...</td>\n      <td>...</td>\n      <td>...</td>\n      <td>...</td>\n      <td>...</td>\n      <td>...</td>\n      <td>...</td>\n      <td>...</td>\n      <td>...</td>\n      <td>...</td>\n      <td>...</td>\n      <td>...</td>\n      <td>...</td>\n    </tr>\n    <tr>\n      <th>19995</th>\n      <td>rec-15872</td>\n      <td>i161581251</td>\n      <td>gracie</td>\n      <td>little</td>\n      <td>ratcliffe</td>\n      <td>f</td>\n      <td>6</td>\n      <td>12/8/2008</td>\n      <td>90398995912</td>\n      <td>501 little collins street aprt 701</td>\n      <td>melbourne</td>\n      <td>3000</td>\n      <td>vic</td>\n      <td>0303794953</td>\n      <td>gracie.ratcliffe@aol.com</td>\n      <td>NaN</td>\n      <td>123</td>\n      <td>25</td>\n      <td>16</td>\n      <td>70</td>\n      <td>131</td>\n      <td>0</td>\n      <td>depression</td>\n      <td>2014-04-07t23:47+00:00</td>\n      <td>2014-04-07 23:47:00+00:00</td>\n      <td>2014</td>\n      <td>4</td>\n      <td>7</td>\n      <td>23</td>\n      <td>47</td>\n      <td>2014-04-07</td>\n      <td>gracie.ratcliffe@aol.com</td>\n    </tr>\n    <tr>\n      <th>19996</th>\n      <td>rec-53302</td>\n      <td>g152500166</td>\n      <td>allan</td>\n      <td>landon</td>\n      <td>hurdle</td>\n      <td>m</td>\n      <td>49</td>\n      <td>3/8/1968</td>\n      <td>41489830122</td>\n      <td>5 barrett drive floreat village</td>\n      <td>alice springs</td>\n      <td>0870</td>\n      <td>nt</td>\n      <td>0860047509</td>\n      <td>NaN</td>\n      <td>married</td>\n      <td>180</td>\n      <td>138</td>\n      <td>42</td>\n      <td>80</td>\n      <td>152</td>\n      <td>0</td>\n      <td>ringing-ears</td>\n      <td>2017-02-09t20:48+00:00</td>\n      <td>2017-02-09 20:48:00+00:00</td>\n      <td>2017</td>\n      <td>2</td>\n      <td>9</td>\n      <td>20</td>\n      <td>48</td>\n      <td>2017-02-09</td>\n      <td>unknown</td>\n    </tr>\n    <tr>\n      <th>19997</th>\n      <td>rec-90066</td>\n      <td>g178482871</td>\n      <td>joshua</td>\n      <td>michael</td>\n      <td>munn</td>\n      <td>f</td>\n      <td>7</td>\n      <td>22/4/2008</td>\n      <td>77378845112</td>\n      <td>49 ellis road whispering pines</td>\n      <td>alstonville</td>\n      <td>2477</td>\n      <td>nsw</td>\n      <td>0259633249</td>\n      <td>joshua.munn@mail.com.au</td>\n      <td>NaN</td>\n      <td>112</td>\n      <td>26</td>\n      <td>20</td>\n      <td>76</td>\n      <td>187</td>\n      <td>0</td>\n      <td>cataract-surgery---right-eye</td>\n      <td>2015-07-06t07:17+00:00</td>\n      <td>2015-07-06 07:17:00+00:00</td>\n      <td>2015</td>\n      <td>7</td>\n      <td>6</td>\n      <td>7</td>\n      <td>17</td>\n      <td>2015-07-06</td>\n      <td>joshua.munn@mail.com.au</td>\n    </tr>\n    <tr>\n      <th>19998</th>\n      <td>rec-51517</td>\n      <td>h169776084</td>\n      <td>carol</td>\n      <td>lucille</td>\n      <td>harms</td>\n      <td>m</td>\n      <td>59</td>\n      <td>1/12/1956</td>\n      <td>95352801521</td>\n      <td>360 eusdale road woodlands</td>\n      <td>yetholme</td>\n      <td>2795</td>\n      <td>nsw</td>\n      <td>NaN</td>\n      <td>harms.carol@mail.com</td>\n      <td>married</td>\n      <td>193</td>\n      <td>123</td>\n      <td>33</td>\n      <td>74</td>\n      <td>138</td>\n      <td>0</td>\n      <td>bronchitis</td>\n      <td>2015-09-19t05:22+00:00</td>\n      <td>2015-09-19 05:22:00+00:00</td>\n      <td>2015</td>\n      <td>9</td>\n      <td>19</td>\n      <td>5</td>\n      <td>22</td>\n      <td>2015-09-19</td>\n      <td>harms.carol@mail.com</td>\n    </tr>\n    <tr>\n      <th>19999</th>\n      <td>rec-11861</td>\n      <td>d142380248</td>\n      <td>javon</td>\n      <td>karl</td>\n      <td>golly</td>\n      <td>m</td>\n      <td>15</td>\n      <td>29/1/1999</td>\n      <td>44653423822</td>\n      <td>118 jandowae road kensington</td>\n      <td>warra</td>\n      <td>4411</td>\n      <td>qld</td>\n      <td>0722296586</td>\n      <td>javon.golly@mail.com.au</td>\n      <td>married</td>\n      <td>178</td>\n      <td>92</td>\n      <td>29</td>\n      <td>81</td>\n      <td>238</td>\n      <td>1</td>\n      <td>constipation</td>\n      <td>2014-10-18t10:06+00:00</td>\n      <td>2014-10-18 10:06:00+00:00</td>\n      <td>2014</td>\n      <td>10</td>\n      <td>18</td>\n      <td>10</td>\n      <td>6</td>\n      <td>2014-10-18</td>\n      <td>javon.golly@mail.com.au</td>\n    </tr>\n  </tbody>\n</table>\n<p>20000 rows × 32 columns</p>\n</div>"
     },
     "metadata": {},
     "output_type": "display_data"
    }
   ],
   "source": [
    "display(df)"
   ],
   "metadata": {
    "collapsed": false,
    "pycharm": {
     "name": "#%%\n"
    }
   }
  },
  {
   "cell_type": "code",
   "execution_count": 111,
   "outputs": [],
   "source": [
    "# Validate if the suburb entered matches the postcode entered (0 = no, 1 = yes, invalid = postcode doesn't exist)\n",
    "pc = pd.read_csv('australian_postcodes.csv', dtype=str)\n",
    "pc = pc[['postcode', 'locality', 'state']]\n",
    "pc1 = pc.groupby('postcode')['locality'].apply(list)\n",
    "df = df.replace(np.nan, '', regex=True)"
   ],
   "metadata": {
    "collapsed": false,
    "pycharm": {
     "name": "#%%\n"
    }
   }
  },
  {
   "cell_type": "code",
   "execution_count": 112,
   "outputs": [],
   "source": [
    "def pcode_valid(row):\n",
    "    if row['postcode'] != '' and row['suburb'] != '':\n",
    "        try:\n",
    "            pcode_src = row['postcode']\n",
    "            suburb_src = row['suburb']\n",
    "            suburbs_lookup = [x.lower() for x in pc1[pcode_src]]\n",
    "            if suburb_src in suburbs_lookup:\n",
    "                return 1\n",
    "            else:\n",
    "                return 0\n",
    "        except KeyError:\n",
    "            return 'invalid postcode'"
   ],
   "metadata": {
    "collapsed": false,
    "pycharm": {
     "name": "#%%\n"
    }
   }
  },
  {
   "cell_type": "code",
   "execution_count": 113,
   "outputs": [],
   "source": [
    "df['pcode_check'] = df.apply(lambda row: pcode_valid(row), axis=1)"
   ],
   "metadata": {
    "collapsed": false,
    "pycharm": {
     "name": "#%%\n"
    }
   }
  },
  {
   "cell_type": "code",
   "execution_count": 114,
   "outputs": [],
   "source": [
    "pc2 = pc\n",
    "pc2['key'] = pc.locality + pc.state\n",
    "pc2['key'] = pc2.key.str.lower()"
   ],
   "metadata": {
    "collapsed": false,
    "pycharm": {
     "name": "#%%\n"
    }
   }
  },
  {
   "cell_type": "code",
   "execution_count": 115,
   "outputs": [
    {
     "data": {
      "text/plain": "      postcode                        locality state  \\\n0         0200                             ANU   ACT   \n1         0200  Australian National University   ACT   \n2         0800                          DARWIN    NT   \n3         0801                          DARWIN    NT   \n4         0804                           PARAP    NT   \n...        ...                             ...   ...   \n18436     9013                        BRISBANE   QLD   \n18437     9015                        BRISBANE   QLD   \n18438     9464                    NORTHGATE MC   QLD   \n18439     9726                   GOLD COAST MC   QLD   \n18440     9999                      NORTH POLE   VIC   \n\n                                     key  \n0                                 anuact  \n1      australian national universityact  \n2                               darwinnt  \n3                               darwinnt  \n4                                parapnt  \n...                                  ...  \n18436                        brisbaneqld  \n18437                        brisbaneqld  \n18438                    northgate mcqld  \n18439                   gold coast mcqld  \n18440                      north polevic  \n\n[18441 rows x 4 columns]",
      "text/html": "<div>\n<style scoped>\n    .dataframe tbody tr th:only-of-type {\n        vertical-align: middle;\n    }\n\n    .dataframe tbody tr th {\n        vertical-align: top;\n    }\n\n    .dataframe thead th {\n        text-align: right;\n    }\n</style>\n<table border=\"1\" class=\"dataframe\">\n  <thead>\n    <tr style=\"text-align: right;\">\n      <th></th>\n      <th>postcode</th>\n      <th>locality</th>\n      <th>state</th>\n      <th>key</th>\n    </tr>\n  </thead>\n  <tbody>\n    <tr>\n      <th>0</th>\n      <td>0200</td>\n      <td>ANU</td>\n      <td>ACT</td>\n      <td>anuact</td>\n    </tr>\n    <tr>\n      <th>1</th>\n      <td>0200</td>\n      <td>Australian National University</td>\n      <td>ACT</td>\n      <td>australian national universityact</td>\n    </tr>\n    <tr>\n      <th>2</th>\n      <td>0800</td>\n      <td>DARWIN</td>\n      <td>NT</td>\n      <td>darwinnt</td>\n    </tr>\n    <tr>\n      <th>3</th>\n      <td>0801</td>\n      <td>DARWIN</td>\n      <td>NT</td>\n      <td>darwinnt</td>\n    </tr>\n    <tr>\n      <th>4</th>\n      <td>0804</td>\n      <td>PARAP</td>\n      <td>NT</td>\n      <td>parapnt</td>\n    </tr>\n    <tr>\n      <th>...</th>\n      <td>...</td>\n      <td>...</td>\n      <td>...</td>\n      <td>...</td>\n    </tr>\n    <tr>\n      <th>18436</th>\n      <td>9013</td>\n      <td>BRISBANE</td>\n      <td>QLD</td>\n      <td>brisbaneqld</td>\n    </tr>\n    <tr>\n      <th>18437</th>\n      <td>9015</td>\n      <td>BRISBANE</td>\n      <td>QLD</td>\n      <td>brisbaneqld</td>\n    </tr>\n    <tr>\n      <th>18438</th>\n      <td>9464</td>\n      <td>NORTHGATE MC</td>\n      <td>QLD</td>\n      <td>northgate mcqld</td>\n    </tr>\n    <tr>\n      <th>18439</th>\n      <td>9726</td>\n      <td>GOLD COAST MC</td>\n      <td>QLD</td>\n      <td>gold coast mcqld</td>\n    </tr>\n    <tr>\n      <th>18440</th>\n      <td>9999</td>\n      <td>NORTH POLE</td>\n      <td>VIC</td>\n      <td>north polevic</td>\n    </tr>\n  </tbody>\n</table>\n<p>18441 rows × 4 columns</p>\n</div>"
     },
     "metadata": {},
     "output_type": "display_data"
    }
   ],
   "source": [
    "display(pc2)"
   ],
   "metadata": {
    "collapsed": false,
    "pycharm": {
     "name": "#%%\n"
    }
   }
  },
  {
   "cell_type": "code",
   "execution_count": 116,
   "outputs": [],
   "source": [
    "def suburb_valid(row):\n",
    "    if row['postcode'] != '' and row['suburb'] != '' and row['state'] != '':\n",
    "        pcode_src = row['postcode']\n",
    "        suburb_src = row['suburb']\n",
    "        state_src = row['state']\n",
    "        src_key = suburb_src + state_src\n",
    "        try:\n",
    "            postcode_lookup = pc2.loc[pc2['key'] == src_key]['postcode'].values[0]\n",
    "            if pcode_src == postcode_lookup:\n",
    "                return 1\n",
    "            else:\n",
    "                return 0\n",
    "        except IndexError:\n",
    "            return 'invalid locality'"
   ],
   "metadata": {
    "collapsed": false,
    "pycharm": {
     "name": "#%%\n"
    }
   }
  },
  {
   "cell_type": "code",
   "execution_count": 117,
   "outputs": [],
   "source": [
    "df['suburb_check'] = df.apply(lambda row: suburb_valid(row), axis=1)"
   ],
   "metadata": {
    "collapsed": false,
    "pycharm": {
     "name": "#%%\n"
    }
   }
  },
  {
   "cell_type": "code",
   "execution_count": 118,
   "outputs": [],
   "source": [
    "# Convert date columns\n",
    "cols = ['birth_date']\n",
    "for col in cols:\n",
    "    df[col+'_dt'] = [datetime.strptime(x, '%d/%m/%Y') for x in df[col]]"
   ],
   "metadata": {
    "collapsed": false,
    "pycharm": {
     "name": "#%%\n"
    }
   }
  },
  {
   "cell_type": "code",
   "execution_count": 119,
   "outputs": [
    {
     "data": {
      "text/plain": "          rec_id         ssn first_name middle_name  last_name gender  \\\n0      rec-72052  i116534747     donald      lydell    manning      f   \n1      rec-66635  g196248364     george       allen   morrison      m   \n2      rec-73551  e111796351    stephon        hill     warren      f   \n3      rec-52311  f113787195    matthew           e      heuer      m   \n4      rec-49632  g166722356     melisa                kellogg      f   \n...          ...         ...        ...         ...        ...    ...   \n19995  rec-15872  i161581251     gracie      little  ratcliffe      f   \n19996  rec-53302  g152500166      allan      landon     hurdle      m   \n19997  rec-90066  g178482871     joshua     michael       munn      f   \n19998  rec-51517  h169776084      carol     lucille      harms      m   \n19999  rec-11861  d142380248      javon        karl      golly      m   \n\n      age_at_consultation  birth_date medicare_number  \\\n0                      13    4/6/2004     16713221912   \n1                      10   12/3/2010     98232867912   \n2                      28  25/12/1989     78248955711   \n3                      18   3/11/1997     65095255323   \n4                      59  12/11/1957     89262992512   \n...                   ...         ...             ...   \n19995                   6   12/8/2008     90398995912   \n19996                  49    3/8/1968     41489830122   \n19997                   7   22/4/2008     77378845112   \n19998                  59   1/12/1956     95352801521   \n19999                  15   29/1/1999     44653423822   \n\n                           street_address         suburb postcode state  \\\n0                1 gisborne road goodmans  bacchus marsh     3340   vic   \n1          1 leura lane watersley cottage       hamilton     3300   vic   \n2         39 mcnabb loop collier park vlg           como     6152    wa   \n3                 5 harrys road rivendell  arthurs creek     3099   vic   \n4        9 hallett close riverside garden        douglas     4814   qld   \n...                                   ...            ...      ...   ...   \n19995  501 little collins street aprt 701      melbourne     3000   vic   \n19996     5 barrett drive floreat village  alice springs     0870    nt   \n19997      49 ellis road whispering pines    alstonville     2477   nsw   \n19998          360 eusdale road woodlands       yetholme     2795   nsw   \n19999        118 jandowae road kensington          warra     4411   qld   \n\n            phone                       email marital_status height weight  \\\n0      0382242324  donald.manning@hotmail.com                   139     67   \n1                         spfefrcmeq@mail.com                   120     50   \n2      0871245514                                    married    167    141   \n3      0306974454            heuer21@mail.com    not-married    172     66   \n4      0732902798                                    married    185    122   \n...           ...                         ...            ...    ...    ...   \n19995  0303794953    gracie.ratcliffe@aol.com                   123     25   \n19996  0860047509                                    married    180    138   \n19997  0259633249     joshua.munn@mail.com.au                   112     26   \n19998                    harms.carol@mail.com        married    193    123   \n19999  0722296586     javon.golly@mail.com.au        married    178     92   \n\n      bmi blood_pressure cholesterol_level smoking_status  \\\n0      34             71               134              0   \n1      34             69                97              0   \n2      50             74               129              0   \n3      22             73               128              1   \n4      35             73               119              0   \n...    ..            ...               ...            ...   \n19995  16             70               131              0   \n19996  42             80               152              0   \n19997  20             76               187              0   \n19998  33             74               138              0   \n19999  29             81               238              1   \n\n                                          clinical_notes  \\\n0      basal-cell-carcinoma---skin-leasion-to-left-as...   \n1                                         depressed-mood   \n2                                             low-energy   \n3                                    atrial-fibrillation   \n4                                          low-back-pain   \n...                                                  ...   \n19995                                         depression   \n19996                                       ringing-ears   \n19997                       cataract-surgery---right-eye   \n19998                                         bronchitis   \n19999                                       constipation   \n\n       consultation_timestamp                consult_ts  consult_year  \\\n0      2017-11-15t10:10+00:00 2017-11-15 10:10:00+00:00          2017   \n1      2020-07-20t10:22+00:00 2020-07-20 10:22:00+00:00          2020   \n2      2017-02-23t11:13+00:00 2017-02-23 11:13:00+00:00          2017   \n3      2015-04-04t14:39+00:00 2015-04-04 14:39:00+00:00          2015   \n4      2016-06-13t19:26+00:00 2016-06-13 19:26:00+00:00          2016   \n...                       ...                       ...           ...   \n19995  2014-04-07t23:47+00:00 2014-04-07 23:47:00+00:00          2014   \n19996  2017-02-09t20:48+00:00 2017-02-09 20:48:00+00:00          2017   \n19997  2015-07-06t07:17+00:00 2015-07-06 07:17:00+00:00          2015   \n19998  2015-09-19t05:22+00:00 2015-09-19 05:22:00+00:00          2015   \n19999  2014-10-18t10:06+00:00 2014-10-18 10:06:00+00:00          2014   \n\n       consult_month  consult_day  consult_hour  consult_minute  consult_dt  \\\n0                 11           15            10              10  2017-11-15   \n1                  7           20            10              22  2020-07-20   \n2                  2           23            11              13  2017-02-23   \n3                  4            4            14              39  2015-04-04   \n4                  6           13            19              26  2016-06-13   \n...              ...          ...           ...             ...         ...   \n19995              4            7            23              47  2014-04-07   \n19996              2            9            20              48  2017-02-09   \n19997              7            6             7              17  2015-07-06   \n19998              9           19             5              22  2015-09-19   \n19999             10           18            10               6  2014-10-18   \n\n                        email_fix pcode_check suburb_check birth_date_dt  \n0      donald.manning@hotmail.com           1            1    2004-06-04  \n1             spfefrcmeq@mail.com           1            1    2010-03-12  \n2                         unknown           1            1    1989-12-25  \n3                heuer21@mail.com           1            1    1997-11-03  \n4                         unknown           1            0    1957-11-12  \n...                           ...         ...          ...           ...  \n19995    gracie.ratcliffe@aol.com           1            1    2008-08-12  \n19996                     unknown           1            1    1968-08-03  \n19997     joshua.munn@mail.com.au           1            1    2008-04-22  \n19998        harms.carol@mail.com           1            1    1956-12-01  \n19999     javon.golly@mail.com.au           1            1    1999-01-29  \n\n[20000 rows x 35 columns]",
      "text/html": "<div>\n<style scoped>\n    .dataframe tbody tr th:only-of-type {\n        vertical-align: middle;\n    }\n\n    .dataframe tbody tr th {\n        vertical-align: top;\n    }\n\n    .dataframe thead th {\n        text-align: right;\n    }\n</style>\n<table border=\"1\" class=\"dataframe\">\n  <thead>\n    <tr style=\"text-align: right;\">\n      <th></th>\n      <th>rec_id</th>\n      <th>ssn</th>\n      <th>first_name</th>\n      <th>middle_name</th>\n      <th>last_name</th>\n      <th>gender</th>\n      <th>age_at_consultation</th>\n      <th>birth_date</th>\n      <th>medicare_number</th>\n      <th>street_address</th>\n      <th>suburb</th>\n      <th>postcode</th>\n      <th>state</th>\n      <th>phone</th>\n      <th>email</th>\n      <th>marital_status</th>\n      <th>height</th>\n      <th>weight</th>\n      <th>bmi</th>\n      <th>blood_pressure</th>\n      <th>cholesterol_level</th>\n      <th>smoking_status</th>\n      <th>clinical_notes</th>\n      <th>consultation_timestamp</th>\n      <th>consult_ts</th>\n      <th>consult_year</th>\n      <th>consult_month</th>\n      <th>consult_day</th>\n      <th>consult_hour</th>\n      <th>consult_minute</th>\n      <th>consult_dt</th>\n      <th>email_fix</th>\n      <th>pcode_check</th>\n      <th>suburb_check</th>\n      <th>birth_date_dt</th>\n    </tr>\n  </thead>\n  <tbody>\n    <tr>\n      <th>0</th>\n      <td>rec-72052</td>\n      <td>i116534747</td>\n      <td>donald</td>\n      <td>lydell</td>\n      <td>manning</td>\n      <td>f</td>\n      <td>13</td>\n      <td>4/6/2004</td>\n      <td>16713221912</td>\n      <td>1 gisborne road goodmans</td>\n      <td>bacchus marsh</td>\n      <td>3340</td>\n      <td>vic</td>\n      <td>0382242324</td>\n      <td>donald.manning@hotmail.com</td>\n      <td></td>\n      <td>139</td>\n      <td>67</td>\n      <td>34</td>\n      <td>71</td>\n      <td>134</td>\n      <td>0</td>\n      <td>basal-cell-carcinoma---skin-leasion-to-left-as...</td>\n      <td>2017-11-15t10:10+00:00</td>\n      <td>2017-11-15 10:10:00+00:00</td>\n      <td>2017</td>\n      <td>11</td>\n      <td>15</td>\n      <td>10</td>\n      <td>10</td>\n      <td>2017-11-15</td>\n      <td>donald.manning@hotmail.com</td>\n      <td>1</td>\n      <td>1</td>\n      <td>2004-06-04</td>\n    </tr>\n    <tr>\n      <th>1</th>\n      <td>rec-66635</td>\n      <td>g196248364</td>\n      <td>george</td>\n      <td>allen</td>\n      <td>morrison</td>\n      <td>m</td>\n      <td>10</td>\n      <td>12/3/2010</td>\n      <td>98232867912</td>\n      <td>1 leura lane watersley cottage</td>\n      <td>hamilton</td>\n      <td>3300</td>\n      <td>vic</td>\n      <td></td>\n      <td>spfefrcmeq@mail.com</td>\n      <td></td>\n      <td>120</td>\n      <td>50</td>\n      <td>34</td>\n      <td>69</td>\n      <td>97</td>\n      <td>0</td>\n      <td>depressed-mood</td>\n      <td>2020-07-20t10:22+00:00</td>\n      <td>2020-07-20 10:22:00+00:00</td>\n      <td>2020</td>\n      <td>7</td>\n      <td>20</td>\n      <td>10</td>\n      <td>22</td>\n      <td>2020-07-20</td>\n      <td>spfefrcmeq@mail.com</td>\n      <td>1</td>\n      <td>1</td>\n      <td>2010-03-12</td>\n    </tr>\n    <tr>\n      <th>2</th>\n      <td>rec-73551</td>\n      <td>e111796351</td>\n      <td>stephon</td>\n      <td>hill</td>\n      <td>warren</td>\n      <td>f</td>\n      <td>28</td>\n      <td>25/12/1989</td>\n      <td>78248955711</td>\n      <td>39 mcnabb loop collier park vlg</td>\n      <td>como</td>\n      <td>6152</td>\n      <td>wa</td>\n      <td>0871245514</td>\n      <td></td>\n      <td>married</td>\n      <td>167</td>\n      <td>141</td>\n      <td>50</td>\n      <td>74</td>\n      <td>129</td>\n      <td>0</td>\n      <td>low-energy</td>\n      <td>2017-02-23t11:13+00:00</td>\n      <td>2017-02-23 11:13:00+00:00</td>\n      <td>2017</td>\n      <td>2</td>\n      <td>23</td>\n      <td>11</td>\n      <td>13</td>\n      <td>2017-02-23</td>\n      <td>unknown</td>\n      <td>1</td>\n      <td>1</td>\n      <td>1989-12-25</td>\n    </tr>\n    <tr>\n      <th>3</th>\n      <td>rec-52311</td>\n      <td>f113787195</td>\n      <td>matthew</td>\n      <td>e</td>\n      <td>heuer</td>\n      <td>m</td>\n      <td>18</td>\n      <td>3/11/1997</td>\n      <td>65095255323</td>\n      <td>5 harrys road rivendell</td>\n      <td>arthurs creek</td>\n      <td>3099</td>\n      <td>vic</td>\n      <td>0306974454</td>\n      <td>heuer21@mail.com</td>\n      <td>not-married</td>\n      <td>172</td>\n      <td>66</td>\n      <td>22</td>\n      <td>73</td>\n      <td>128</td>\n      <td>1</td>\n      <td>atrial-fibrillation</td>\n      <td>2015-04-04t14:39+00:00</td>\n      <td>2015-04-04 14:39:00+00:00</td>\n      <td>2015</td>\n      <td>4</td>\n      <td>4</td>\n      <td>14</td>\n      <td>39</td>\n      <td>2015-04-04</td>\n      <td>heuer21@mail.com</td>\n      <td>1</td>\n      <td>1</td>\n      <td>1997-11-03</td>\n    </tr>\n    <tr>\n      <th>4</th>\n      <td>rec-49632</td>\n      <td>g166722356</td>\n      <td>melisa</td>\n      <td></td>\n      <td>kellogg</td>\n      <td>f</td>\n      <td>59</td>\n      <td>12/11/1957</td>\n      <td>89262992512</td>\n      <td>9 hallett close riverside garden</td>\n      <td>douglas</td>\n      <td>4814</td>\n      <td>qld</td>\n      <td>0732902798</td>\n      <td></td>\n      <td>married</td>\n      <td>185</td>\n      <td>122</td>\n      <td>35</td>\n      <td>73</td>\n      <td>119</td>\n      <td>0</td>\n      <td>low-back-pain</td>\n      <td>2016-06-13t19:26+00:00</td>\n      <td>2016-06-13 19:26:00+00:00</td>\n      <td>2016</td>\n      <td>6</td>\n      <td>13</td>\n      <td>19</td>\n      <td>26</td>\n      <td>2016-06-13</td>\n      <td>unknown</td>\n      <td>1</td>\n      <td>0</td>\n      <td>1957-11-12</td>\n    </tr>\n    <tr>\n      <th>...</th>\n      <td>...</td>\n      <td>...</td>\n      <td>...</td>\n      <td>...</td>\n      <td>...</td>\n      <td>...</td>\n      <td>...</td>\n      <td>...</td>\n      <td>...</td>\n      <td>...</td>\n      <td>...</td>\n      <td>...</td>\n      <td>...</td>\n      <td>...</td>\n      <td>...</td>\n      <td>...</td>\n      <td>...</td>\n      <td>...</td>\n      <td>...</td>\n      <td>...</td>\n      <td>...</td>\n      <td>...</td>\n      <td>...</td>\n      <td>...</td>\n      <td>...</td>\n      <td>...</td>\n      <td>...</td>\n      <td>...</td>\n      <td>...</td>\n      <td>...</td>\n      <td>...</td>\n      <td>...</td>\n      <td>...</td>\n      <td>...</td>\n      <td>...</td>\n    </tr>\n    <tr>\n      <th>19995</th>\n      <td>rec-15872</td>\n      <td>i161581251</td>\n      <td>gracie</td>\n      <td>little</td>\n      <td>ratcliffe</td>\n      <td>f</td>\n      <td>6</td>\n      <td>12/8/2008</td>\n      <td>90398995912</td>\n      <td>501 little collins street aprt 701</td>\n      <td>melbourne</td>\n      <td>3000</td>\n      <td>vic</td>\n      <td>0303794953</td>\n      <td>gracie.ratcliffe@aol.com</td>\n      <td></td>\n      <td>123</td>\n      <td>25</td>\n      <td>16</td>\n      <td>70</td>\n      <td>131</td>\n      <td>0</td>\n      <td>depression</td>\n      <td>2014-04-07t23:47+00:00</td>\n      <td>2014-04-07 23:47:00+00:00</td>\n      <td>2014</td>\n      <td>4</td>\n      <td>7</td>\n      <td>23</td>\n      <td>47</td>\n      <td>2014-04-07</td>\n      <td>gracie.ratcliffe@aol.com</td>\n      <td>1</td>\n      <td>1</td>\n      <td>2008-08-12</td>\n    </tr>\n    <tr>\n      <th>19996</th>\n      <td>rec-53302</td>\n      <td>g152500166</td>\n      <td>allan</td>\n      <td>landon</td>\n      <td>hurdle</td>\n      <td>m</td>\n      <td>49</td>\n      <td>3/8/1968</td>\n      <td>41489830122</td>\n      <td>5 barrett drive floreat village</td>\n      <td>alice springs</td>\n      <td>0870</td>\n      <td>nt</td>\n      <td>0860047509</td>\n      <td></td>\n      <td>married</td>\n      <td>180</td>\n      <td>138</td>\n      <td>42</td>\n      <td>80</td>\n      <td>152</td>\n      <td>0</td>\n      <td>ringing-ears</td>\n      <td>2017-02-09t20:48+00:00</td>\n      <td>2017-02-09 20:48:00+00:00</td>\n      <td>2017</td>\n      <td>2</td>\n      <td>9</td>\n      <td>20</td>\n      <td>48</td>\n      <td>2017-02-09</td>\n      <td>unknown</td>\n      <td>1</td>\n      <td>1</td>\n      <td>1968-08-03</td>\n    </tr>\n    <tr>\n      <th>19997</th>\n      <td>rec-90066</td>\n      <td>g178482871</td>\n      <td>joshua</td>\n      <td>michael</td>\n      <td>munn</td>\n      <td>f</td>\n      <td>7</td>\n      <td>22/4/2008</td>\n      <td>77378845112</td>\n      <td>49 ellis road whispering pines</td>\n      <td>alstonville</td>\n      <td>2477</td>\n      <td>nsw</td>\n      <td>0259633249</td>\n      <td>joshua.munn@mail.com.au</td>\n      <td></td>\n      <td>112</td>\n      <td>26</td>\n      <td>20</td>\n      <td>76</td>\n      <td>187</td>\n      <td>0</td>\n      <td>cataract-surgery---right-eye</td>\n      <td>2015-07-06t07:17+00:00</td>\n      <td>2015-07-06 07:17:00+00:00</td>\n      <td>2015</td>\n      <td>7</td>\n      <td>6</td>\n      <td>7</td>\n      <td>17</td>\n      <td>2015-07-06</td>\n      <td>joshua.munn@mail.com.au</td>\n      <td>1</td>\n      <td>1</td>\n      <td>2008-04-22</td>\n    </tr>\n    <tr>\n      <th>19998</th>\n      <td>rec-51517</td>\n      <td>h169776084</td>\n      <td>carol</td>\n      <td>lucille</td>\n      <td>harms</td>\n      <td>m</td>\n      <td>59</td>\n      <td>1/12/1956</td>\n      <td>95352801521</td>\n      <td>360 eusdale road woodlands</td>\n      <td>yetholme</td>\n      <td>2795</td>\n      <td>nsw</td>\n      <td></td>\n      <td>harms.carol@mail.com</td>\n      <td>married</td>\n      <td>193</td>\n      <td>123</td>\n      <td>33</td>\n      <td>74</td>\n      <td>138</td>\n      <td>0</td>\n      <td>bronchitis</td>\n      <td>2015-09-19t05:22+00:00</td>\n      <td>2015-09-19 05:22:00+00:00</td>\n      <td>2015</td>\n      <td>9</td>\n      <td>19</td>\n      <td>5</td>\n      <td>22</td>\n      <td>2015-09-19</td>\n      <td>harms.carol@mail.com</td>\n      <td>1</td>\n      <td>1</td>\n      <td>1956-12-01</td>\n    </tr>\n    <tr>\n      <th>19999</th>\n      <td>rec-11861</td>\n      <td>d142380248</td>\n      <td>javon</td>\n      <td>karl</td>\n      <td>golly</td>\n      <td>m</td>\n      <td>15</td>\n      <td>29/1/1999</td>\n      <td>44653423822</td>\n      <td>118 jandowae road kensington</td>\n      <td>warra</td>\n      <td>4411</td>\n      <td>qld</td>\n      <td>0722296586</td>\n      <td>javon.golly@mail.com.au</td>\n      <td>married</td>\n      <td>178</td>\n      <td>92</td>\n      <td>29</td>\n      <td>81</td>\n      <td>238</td>\n      <td>1</td>\n      <td>constipation</td>\n      <td>2014-10-18t10:06+00:00</td>\n      <td>2014-10-18 10:06:00+00:00</td>\n      <td>2014</td>\n      <td>10</td>\n      <td>18</td>\n      <td>10</td>\n      <td>6</td>\n      <td>2014-10-18</td>\n      <td>javon.golly@mail.com.au</td>\n      <td>1</td>\n      <td>1</td>\n      <td>1999-01-29</td>\n    </tr>\n  </tbody>\n</table>\n<p>20000 rows × 35 columns</p>\n</div>"
     },
     "metadata": {},
     "output_type": "display_data"
    }
   ],
   "source": [
    "display(df)"
   ],
   "metadata": {
    "collapsed": false,
    "pycharm": {
     "name": "#%%\n"
    }
   }
  },
  {
   "cell_type": "code",
   "execution_count": 99,
   "outputs": [],
   "source": [
    "df.to_csv('medical_clean_2.csv', index=False)"
   ],
   "metadata": {
    "collapsed": false,
    "pycharm": {
     "name": "#%%\n"
    }
   }
  }
 ],
 "metadata": {
  "kernelspec": {
   "display_name": "Python 3",
   "language": "python",
   "name": "python3"
  },
  "language_info": {
   "codemirror_mode": {
    "name": "ipython",
    "version": 2
   },
   "file_extension": ".py",
   "mimetype": "text/x-python",
   "name": "python",
   "nbconvert_exporter": "python",
   "pygments_lexer": "ipython2",
   "version": "2.7.6"
  }
 },
 "nbformat": 4,
 "nbformat_minor": 0
}