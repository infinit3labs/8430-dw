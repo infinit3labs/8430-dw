{
 "cells": [
  {
   "cell_type": "code",
   "execution_count": 54,
   "outputs": [],
   "source": [
    "def get_gmaps_data(address):\n",
    "    import googlemaps\n",
    "    import os\n",
    "    key = os.getenv('GOOGLE_API_KEY')\n",
    "    gmaps = googlemaps.Client(key=key)\n",
    "    geocode_result = gmaps.geocode(f'{address}')\n",
    "\n",
    "    postcode = None\n",
    "    suburb = None\n",
    "    for i in geocode_result[0]['address_components']:\n",
    "        if 'postal_code' in i['types']:\n",
    "            postcode = i['long_name']\n",
    "        elif 'locality' in i['types']:\n",
    "            suburb = i['long_name']\n",
    "    return {'postcode': postcode, 'suburb': suburb}"
   ],
   "metadata": {
    "collapsed": false,
    "pycharm": {
     "name": "#%%\n"
    }
   }
  }
 ],
 "metadata": {
  "kernelspec": {
   "display_name": "Python 3",
   "language": "python",
   "name": "python3"
  },
  "language_info": {
   "codemirror_mode": {
    "name": "ipython",
    "version": 2
   },
   "file_extension": ".py",
   "mimetype": "text/x-python",
   "name": "python",
   "nbconvert_exporter": "python",
   "pygments_lexer": "ipython2",
   "version": "2.7.6"
  }
 },
 "nbformat": 4,
 "nbformat_minor": 0
}