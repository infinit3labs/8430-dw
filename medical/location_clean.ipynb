{
 "cells": [
  {
   "cell_type": "code",
   "execution_count": 77,
   "metadata": {
    "collapsed": true
   },
   "outputs": [],
   "source": [
    "import pandas as pd\n",
    "import numpy as np"
   ]
  },
  {
   "cell_type": "code",
   "execution_count": 78,
   "outputs": [],
   "source": [
    "pd.set_option('display.max_columns', None)"
   ],
   "metadata": {
    "collapsed": false,
    "pycharm": {
     "name": "#%%\n"
    }
   }
  },
  {
   "cell_type": "code",
   "execution_count": 79,
   "outputs": [],
   "source": [
    "df = pd.read_csv('medical_clean.csv', dtype=str)"
   ],
   "metadata": {
    "collapsed": false,
    "pycharm": {
     "name": "#%%\n"
    }
   }
  },
  {
   "cell_type": "code",
   "execution_count": 80,
   "outputs": [],
   "source": [
    "pc = pd.read_csv('australian_postcodes.csv', dtype=str)"
   ],
   "metadata": {
    "collapsed": false,
    "pycharm": {
     "name": "#%%\n"
    }
   }
  },
  {
   "cell_type": "code",
   "execution_count": 81,
   "outputs": [
    {
     "data": {
      "text/plain": "          id postcode                        locality state        long  \\\n0        230     0200                             ANU   ACT     149.119   \n1      21820     0200  Australian National University   ACT    149.1189   \n2        232     0800                          DARWIN    NT   130.83668   \n3        233     0801                          DARWIN    NT   130.83668   \n4        234     0804                           PARAP    NT  130.873315   \n...      ...      ...                             ...   ...         ...   \n18436  11186     9013                        BRISBANE   QLD  152.823141   \n18437  11187     9015                        BRISBANE   QLD  152.823141   \n18438  11196     9464                    NORTHGATE MC   QLD  153.074982   \n18439  11197     9726                   GOLD COAST MC   QLD  153.412197   \n18440  23878     9999                      NORTH POLE   VIC  144.956776   \n\n              lat                    dc           type  \\\n0        -35.2777                   NaN            NaN   \n1        -35.2777                   NaN            NaN   \n2      -12.458684                   NaN            NaN   \n3      -12.458684                   NaN            NaN   \n4      -12.428017                   NaN            NaN   \n...           ...                   ...            ...   \n18436  -27.603479    CITY DC - BRISBANE            LVR   \n18437  -27.603479    CITY DC - BRISBANE            LVR   \n18438  -27.397055                   NaN            NaN   \n18439  -28.008783                   NaN            NaN   \n18440  -37.817403  CITY DELIVERY CENTRE  Delivery Area   \n\n                        status    sa3                sa3name  sa4  \\\n0                          NaN    NaN                    NaN  NaN   \n1            Added 19-Jan-2020    NaN                    NaN  NaN   \n2           Updated 6-Feb-2020  70101            Darwin City  701   \n3      Updated 25-Mar-2020 SA3  70101            Darwin City  701   \n4      Updated 25-Mar-2020 SA3  70102         Darwin Suburbs  701   \n...                        ...    ...                    ...  ...   \n18436  Updated 25-Mar-2020 SA3  30504  Brisbane Inner - West  305   \n18437  Updated 25-Mar-2020 SA3  30504  Brisbane Inner - West  305   \n18438  Updated 25-Mar-2020 SA3  30203                 Nundah  302   \n18439  Updated 25-Mar-2020 SA3  30910       Surfers Paradise  309   \n18440        Added 1-July-2021  20604         Melbourne City  206   \n\n                   sa4name region  Lat_precise Long_precise SA1_MAINCODE_2011  \\\n0                      NaN     R1     -35.2777      149.119       80105104901   \n1                      NaN     R1  -35.2776999   149.118527       80105104901   \n2                   Darwin     R1  -12.3932794  130.7766611       70101100203   \n3                   Darwin     R1  -12.4634403  130.8456418       70101100208   \n4                   Darwin     R1  -12.4324801  130.8462536       70101100704   \n...                    ...    ...          ...          ...               ...   \n18436  Brisbane Inner City     R1  -27.4697707  153.0251235       30501110512   \n18437  Brisbane Inner City     R1  -27.4697707  153.0251235       30501110512   \n18438     Brisbane - North     R1       -27.39      153.066       30203103806   \n18439           Gold Coast     R2     -28.0167        153.4       30910126812   \n18440    Melbourne - Inner     R1  -37.8152065   144.963937       20604112209   \n\n      SA1_MAINCODE_2016 SA2_MAINCODE_2016         SA2_NAME_2016 SA3_CODE_2016  \\\n0           80105104901         801051049                 Acton         80105   \n1           80105104901         801051049                 Acton         80105   \n2           70101100218         701011002           Darwin City         70101   \n3           70101100208         701011002           Darwin City         70101   \n4           70101100704         701011007                 Parap         70101   \n...                 ...               ...                   ...           ...   \n18436       30501110512         305011105         Brisbane City         30501   \n18437       30501110512         305011105         Brisbane City         30501   \n18438       30203103806         302031038  Northgate - Virginia         30203   \n18439       30910126812         309101268               Bundall         30910   \n18440       20604112209         206041122             Melbourne         20604   \n\n          SA3_NAME_2016 SA4_CODE_2016                 SA4_NAME_2016 RA_2011  \\\n0        North Canberra           801  Australian Capital Territory       1   \n1        North Canberra           801  Australian Capital Territory       1   \n2           Darwin City           701                        Darwin       3   \n3           Darwin City           701                        Darwin       3   \n4           Darwin City           701                        Darwin       3   \n...                 ...           ...                           ...     ...   \n18436    Brisbane Inner           305           Brisbane Inner City       1   \n18437    Brisbane Inner           305           Brisbane Inner City       1   \n18438            Nundah           302              Brisbane - North       1   \n18439  Surfers Paradise           309                    Gold Coast       1   \n18440    Melbourne City           206             Melbourne - Inner       1   \n\n      RA_2016 MMM_2015 MMM_2019        ced          altitude chargezone  \\\n0           1        1        1        NaN               NaN         N2   \n1           1        1        1        NaN               NaN         N2   \n2           3        2        2        NaN               NaN        NT1   \n3           3        2        2        NaN               NaN        NT1   \n4           3        2        2        NaN               NaN        NT1   \n...       ...      ...      ...        ...               ...        ...   \n18436       1        1        1        NaN  44.3497924804688         Q1   \n18437       1        1        1        NaN  44.3497924804688         Q1   \n18438       1        1        1        NaN               NaN         Q1   \n18439       1        1        1  Moncrieff               NaN         Q1   \n18440       1        1        1  Melbourne  15.2447509765625        NaN   \n\n      phn_code            phn_name  \n0          NaN                 NaN  \n1          NaN                 NaN  \n2       PHN701  Northern Territory  \n3       PHN701                 NaN  \n4       PHN701                 NaN  \n...        ...                 ...  \n18436   PHN301                 NaN  \n18437   PHN301                 NaN  \n18438   PHN301                 NaN  \n18439   PHN303                 NaN  \n18440      NaN                 NaN  \n\n[18441 rows x 33 columns]",
      "text/html": "<div>\n<style scoped>\n    .dataframe tbody tr th:only-of-type {\n        vertical-align: middle;\n    }\n\n    .dataframe tbody tr th {\n        vertical-align: top;\n    }\n\n    .dataframe thead th {\n        text-align: right;\n    }\n</style>\n<table border=\"1\" class=\"dataframe\">\n  <thead>\n    <tr style=\"text-align: right;\">\n      <th></th>\n      <th>id</th>\n      <th>postcode</th>\n      <th>locality</th>\n      <th>state</th>\n      <th>long</th>\n      <th>lat</th>\n      <th>dc</th>\n      <th>type</th>\n      <th>status</th>\n      <th>sa3</th>\n      <th>sa3name</th>\n      <th>sa4</th>\n      <th>sa4name</th>\n      <th>region</th>\n      <th>Lat_precise</th>\n      <th>Long_precise</th>\n      <th>SA1_MAINCODE_2011</th>\n      <th>SA1_MAINCODE_2016</th>\n      <th>SA2_MAINCODE_2016</th>\n      <th>SA2_NAME_2016</th>\n      <th>SA3_CODE_2016</th>\n      <th>SA3_NAME_2016</th>\n      <th>SA4_CODE_2016</th>\n      <th>SA4_NAME_2016</th>\n      <th>RA_2011</th>\n      <th>RA_2016</th>\n      <th>MMM_2015</th>\n      <th>MMM_2019</th>\n      <th>ced</th>\n      <th>altitude</th>\n      <th>chargezone</th>\n      <th>phn_code</th>\n      <th>phn_name</th>\n    </tr>\n  </thead>\n  <tbody>\n    <tr>\n      <th>0</th>\n      <td>230</td>\n      <td>0200</td>\n      <td>ANU</td>\n      <td>ACT</td>\n      <td>149.119</td>\n      <td>-35.2777</td>\n      <td>NaN</td>\n      <td>NaN</td>\n      <td>NaN</td>\n      <td>NaN</td>\n      <td>NaN</td>\n      <td>NaN</td>\n      <td>NaN</td>\n      <td>R1</td>\n      <td>-35.2777</td>\n      <td>149.119</td>\n      <td>80105104901</td>\n      <td>80105104901</td>\n      <td>801051049</td>\n      <td>Acton</td>\n      <td>80105</td>\n      <td>North Canberra</td>\n      <td>801</td>\n      <td>Australian Capital Territory</td>\n      <td>1</td>\n      <td>1</td>\n      <td>1</td>\n      <td>1</td>\n      <td>NaN</td>\n      <td>NaN</td>\n      <td>N2</td>\n      <td>NaN</td>\n      <td>NaN</td>\n    </tr>\n    <tr>\n      <th>1</th>\n      <td>21820</td>\n      <td>0200</td>\n      <td>Australian National University</td>\n      <td>ACT</td>\n      <td>149.1189</td>\n      <td>-35.2777</td>\n      <td>NaN</td>\n      <td>NaN</td>\n      <td>Added 19-Jan-2020</td>\n      <td>NaN</td>\n      <td>NaN</td>\n      <td>NaN</td>\n      <td>NaN</td>\n      <td>R1</td>\n      <td>-35.2776999</td>\n      <td>149.118527</td>\n      <td>80105104901</td>\n      <td>80105104901</td>\n      <td>801051049</td>\n      <td>Acton</td>\n      <td>80105</td>\n      <td>North Canberra</td>\n      <td>801</td>\n      <td>Australian Capital Territory</td>\n      <td>1</td>\n      <td>1</td>\n      <td>1</td>\n      <td>1</td>\n      <td>NaN</td>\n      <td>NaN</td>\n      <td>N2</td>\n      <td>NaN</td>\n      <td>NaN</td>\n    </tr>\n    <tr>\n      <th>2</th>\n      <td>232</td>\n      <td>0800</td>\n      <td>DARWIN</td>\n      <td>NT</td>\n      <td>130.83668</td>\n      <td>-12.458684</td>\n      <td>NaN</td>\n      <td>NaN</td>\n      <td>Updated 6-Feb-2020</td>\n      <td>70101</td>\n      <td>Darwin City</td>\n      <td>701</td>\n      <td>Darwin</td>\n      <td>R1</td>\n      <td>-12.3932794</td>\n      <td>130.7766611</td>\n      <td>70101100203</td>\n      <td>70101100218</td>\n      <td>701011002</td>\n      <td>Darwin City</td>\n      <td>70101</td>\n      <td>Darwin City</td>\n      <td>701</td>\n      <td>Darwin</td>\n      <td>3</td>\n      <td>3</td>\n      <td>2</td>\n      <td>2</td>\n      <td>NaN</td>\n      <td>NaN</td>\n      <td>NT1</td>\n      <td>PHN701</td>\n      <td>Northern Territory</td>\n    </tr>\n    <tr>\n      <th>3</th>\n      <td>233</td>\n      <td>0801</td>\n      <td>DARWIN</td>\n      <td>NT</td>\n      <td>130.83668</td>\n      <td>-12.458684</td>\n      <td>NaN</td>\n      <td>NaN</td>\n      <td>Updated 25-Mar-2020 SA3</td>\n      <td>70101</td>\n      <td>Darwin City</td>\n      <td>701</td>\n      <td>Darwin</td>\n      <td>R1</td>\n      <td>-12.4634403</td>\n      <td>130.8456418</td>\n      <td>70101100208</td>\n      <td>70101100208</td>\n      <td>701011002</td>\n      <td>Darwin City</td>\n      <td>70101</td>\n      <td>Darwin City</td>\n      <td>701</td>\n      <td>Darwin</td>\n      <td>3</td>\n      <td>3</td>\n      <td>2</td>\n      <td>2</td>\n      <td>NaN</td>\n      <td>NaN</td>\n      <td>NT1</td>\n      <td>PHN701</td>\n      <td>NaN</td>\n    </tr>\n    <tr>\n      <th>4</th>\n      <td>234</td>\n      <td>0804</td>\n      <td>PARAP</td>\n      <td>NT</td>\n      <td>130.873315</td>\n      <td>-12.428017</td>\n      <td>NaN</td>\n      <td>NaN</td>\n      <td>Updated 25-Mar-2020 SA3</td>\n      <td>70102</td>\n      <td>Darwin Suburbs</td>\n      <td>701</td>\n      <td>Darwin</td>\n      <td>R1</td>\n      <td>-12.4324801</td>\n      <td>130.8462536</td>\n      <td>70101100704</td>\n      <td>70101100704</td>\n      <td>701011007</td>\n      <td>Parap</td>\n      <td>70101</td>\n      <td>Darwin City</td>\n      <td>701</td>\n      <td>Darwin</td>\n      <td>3</td>\n      <td>3</td>\n      <td>2</td>\n      <td>2</td>\n      <td>NaN</td>\n      <td>NaN</td>\n      <td>NT1</td>\n      <td>PHN701</td>\n      <td>NaN</td>\n    </tr>\n    <tr>\n      <th>...</th>\n      <td>...</td>\n      <td>...</td>\n      <td>...</td>\n      <td>...</td>\n      <td>...</td>\n      <td>...</td>\n      <td>...</td>\n      <td>...</td>\n      <td>...</td>\n      <td>...</td>\n      <td>...</td>\n      <td>...</td>\n      <td>...</td>\n      <td>...</td>\n      <td>...</td>\n      <td>...</td>\n      <td>...</td>\n      <td>...</td>\n      <td>...</td>\n      <td>...</td>\n      <td>...</td>\n      <td>...</td>\n      <td>...</td>\n      <td>...</td>\n      <td>...</td>\n      <td>...</td>\n      <td>...</td>\n      <td>...</td>\n      <td>...</td>\n      <td>...</td>\n      <td>...</td>\n      <td>...</td>\n      <td>...</td>\n    </tr>\n    <tr>\n      <th>18436</th>\n      <td>11186</td>\n      <td>9013</td>\n      <td>BRISBANE</td>\n      <td>QLD</td>\n      <td>152.823141</td>\n      <td>-27.603479</td>\n      <td>CITY DC - BRISBANE</td>\n      <td>LVR</td>\n      <td>Updated 25-Mar-2020 SA3</td>\n      <td>30504</td>\n      <td>Brisbane Inner - West</td>\n      <td>305</td>\n      <td>Brisbane Inner City</td>\n      <td>R1</td>\n      <td>-27.4697707</td>\n      <td>153.0251235</td>\n      <td>30501110512</td>\n      <td>30501110512</td>\n      <td>305011105</td>\n      <td>Brisbane City</td>\n      <td>30501</td>\n      <td>Brisbane Inner</td>\n      <td>305</td>\n      <td>Brisbane Inner City</td>\n      <td>1</td>\n      <td>1</td>\n      <td>1</td>\n      <td>1</td>\n      <td>NaN</td>\n      <td>44.3497924804688</td>\n      <td>Q1</td>\n      <td>PHN301</td>\n      <td>NaN</td>\n    </tr>\n    <tr>\n      <th>18437</th>\n      <td>11187</td>\n      <td>9015</td>\n      <td>BRISBANE</td>\n      <td>QLD</td>\n      <td>152.823141</td>\n      <td>-27.603479</td>\n      <td>CITY DC - BRISBANE</td>\n      <td>LVR</td>\n      <td>Updated 25-Mar-2020 SA3</td>\n      <td>30504</td>\n      <td>Brisbane Inner - West</td>\n      <td>305</td>\n      <td>Brisbane Inner City</td>\n      <td>R1</td>\n      <td>-27.4697707</td>\n      <td>153.0251235</td>\n      <td>30501110512</td>\n      <td>30501110512</td>\n      <td>305011105</td>\n      <td>Brisbane City</td>\n      <td>30501</td>\n      <td>Brisbane Inner</td>\n      <td>305</td>\n      <td>Brisbane Inner City</td>\n      <td>1</td>\n      <td>1</td>\n      <td>1</td>\n      <td>1</td>\n      <td>NaN</td>\n      <td>44.3497924804688</td>\n      <td>Q1</td>\n      <td>PHN301</td>\n      <td>NaN</td>\n    </tr>\n    <tr>\n      <th>18438</th>\n      <td>11196</td>\n      <td>9464</td>\n      <td>NORTHGATE MC</td>\n      <td>QLD</td>\n      <td>153.074982</td>\n      <td>-27.397055</td>\n      <td>NaN</td>\n      <td>NaN</td>\n      <td>Updated 25-Mar-2020 SA3</td>\n      <td>30203</td>\n      <td>Nundah</td>\n      <td>302</td>\n      <td>Brisbane - North</td>\n      <td>R1</td>\n      <td>-27.39</td>\n      <td>153.066</td>\n      <td>30203103806</td>\n      <td>30203103806</td>\n      <td>302031038</td>\n      <td>Northgate - Virginia</td>\n      <td>30203</td>\n      <td>Nundah</td>\n      <td>302</td>\n      <td>Brisbane - North</td>\n      <td>1</td>\n      <td>1</td>\n      <td>1</td>\n      <td>1</td>\n      <td>NaN</td>\n      <td>NaN</td>\n      <td>Q1</td>\n      <td>PHN301</td>\n      <td>NaN</td>\n    </tr>\n    <tr>\n      <th>18439</th>\n      <td>11197</td>\n      <td>9726</td>\n      <td>GOLD COAST MC</td>\n      <td>QLD</td>\n      <td>153.412197</td>\n      <td>-28.008783</td>\n      <td>NaN</td>\n      <td>NaN</td>\n      <td>Updated 25-Mar-2020 SA3</td>\n      <td>30910</td>\n      <td>Surfers Paradise</td>\n      <td>309</td>\n      <td>Gold Coast</td>\n      <td>R2</td>\n      <td>-28.0167</td>\n      <td>153.4</td>\n      <td>30910126812</td>\n      <td>30910126812</td>\n      <td>309101268</td>\n      <td>Bundall</td>\n      <td>30910</td>\n      <td>Surfers Paradise</td>\n      <td>309</td>\n      <td>Gold Coast</td>\n      <td>1</td>\n      <td>1</td>\n      <td>1</td>\n      <td>1</td>\n      <td>Moncrieff</td>\n      <td>NaN</td>\n      <td>Q1</td>\n      <td>PHN303</td>\n      <td>NaN</td>\n    </tr>\n    <tr>\n      <th>18440</th>\n      <td>23878</td>\n      <td>9999</td>\n      <td>NORTH POLE</td>\n      <td>VIC</td>\n      <td>144.956776</td>\n      <td>-37.817403</td>\n      <td>CITY DELIVERY CENTRE</td>\n      <td>Delivery Area</td>\n      <td>Added 1-July-2021</td>\n      <td>20604</td>\n      <td>Melbourne City</td>\n      <td>206</td>\n      <td>Melbourne - Inner</td>\n      <td>R1</td>\n      <td>-37.8152065</td>\n      <td>144.963937</td>\n      <td>20604112209</td>\n      <td>20604112209</td>\n      <td>206041122</td>\n      <td>Melbourne</td>\n      <td>20604</td>\n      <td>Melbourne City</td>\n      <td>206</td>\n      <td>Melbourne - Inner</td>\n      <td>1</td>\n      <td>1</td>\n      <td>1</td>\n      <td>1</td>\n      <td>Melbourne</td>\n      <td>15.2447509765625</td>\n      <td>NaN</td>\n      <td>NaN</td>\n      <td>NaN</td>\n    </tr>\n  </tbody>\n</table>\n<p>18441 rows × 33 columns</p>\n</div>"
     },
     "metadata": {},
     "output_type": "display_data"
    }
   ],
   "source": [
    "display(pc)"
   ],
   "metadata": {
    "collapsed": false,
    "pycharm": {
     "name": "#%%\n"
    }
   }
  },
  {
   "cell_type": "code",
   "execution_count": 69,
   "outputs": [],
   "source": [
    "pc = pc[['postcode', 'locality', 'state']]"
   ],
   "metadata": {
    "collapsed": false,
    "pycharm": {
     "name": "#%%\n"
    }
   }
  },
  {
   "cell_type": "code",
   "execution_count": 70,
   "outputs": [],
   "source": [
    "pc1 = pc.groupby('postcode')['locality'].apply(list)"
   ],
   "metadata": {
    "collapsed": false,
    "pycharm": {
     "name": "#%%\n"
    }
   }
  },
  {
   "cell_type": "code",
   "execution_count": 71,
   "outputs": [],
   "source": [
    "df = df.replace(np.nan, '', regex=True)"
   ],
   "metadata": {
    "collapsed": false,
    "pycharm": {
     "name": "#%%\n"
    }
   }
  },
  {
   "cell_type": "code",
   "execution_count": 72,
   "outputs": [],
   "source": [
    "def pcode_valid(row):\n",
    "    if row['postcode'] != '' and row['suburb'] != '':\n",
    "        try:\n",
    "            pcode_src = row['postcode']\n",
    "            suburb_src = row['suburb']\n",
    "            suburbs_lookup = [x.lower() for x in pc1[pcode_src]]\n",
    "            if suburb_src in suburbs_lookup:\n",
    "                return 1\n",
    "            else:\n",
    "                return 0\n",
    "        except KeyError:\n",
    "            return 'invalid postcode'"
   ],
   "metadata": {
    "collapsed": false,
    "pycharm": {
     "name": "#%%\n"
    }
   }
  },
  {
   "cell_type": "code",
   "execution_count": 73,
   "outputs": [],
   "source": [
    "df['pcode_check'] = df.apply(lambda row: pcode_valid(row), axis=1)"
   ],
   "metadata": {
    "collapsed": false,
    "pycharm": {
     "name": "#%%\n"
    }
   }
  },
  {
   "cell_type": "code",
   "execution_count": 74,
   "outputs": [
    {
     "data": {
      "text/plain": "          rec_id         ssn first_name middle_name  last_name gender  \\\n0      rec-72052  i116534747     donald      lydell    manning      f   \n1      rec-66635  g196248364     george       allen   morrison      m   \n2      rec-73551  e111796351    stephon        hill     warren      f   \n3      rec-52311  f113787195    matthew           e      heuer      m   \n4      rec-49632  g166722356     melisa                kellogg      f   \n...          ...         ...        ...         ...        ...    ...   \n19995  rec-15872  i161581251     gracie      little  ratcliffe      f   \n19996  rec-53302  g152500166      allan      landon     hurdle      m   \n19997  rec-90066  g178482871     joshua     michael       munn      f   \n19998  rec-51517  h169776084      carol     lucille      harms      m   \n19999  rec-11861  d142380248      javon        karl      golly      m   \n\n      age_at_consultation  birth_date medicare_number  \\\n0                      13    4/6/2004     16713221912   \n1                      10   12/3/2010     98232867912   \n2                      28  25/12/1989     78248955711   \n3                      18   3/11/1997     65095255323   \n4                      59  12/11/1957     89262992512   \n...                   ...         ...             ...   \n19995                   6   12/8/2008     90398995912   \n19996                  49    3/8/1968     41489830122   \n19997                   7   22/4/2008     77378845112   \n19998                  59   1/12/1956     95352801521   \n19999                  15   29/1/1999     44653423822   \n\n                           street_address         suburb postcode state  \\\n0                1 gisborne road goodmans  bacchus marsh     3340   vic   \n1          1 leura lane watersley cottage       hamilton     3300   vic   \n2         39 mcnabb loop collier park vlg           como     6152    wa   \n3                 5 harrys road rivendell  arthurs creek     3099   vic   \n4        9 hallett close riverside garden        douglas     4814   qld   \n...                                   ...            ...      ...   ...   \n19995  501 little collins street aprt 701      melbourne     3000   vic   \n19996     5 barrett drive floreat village  alice springs     0870    nt   \n19997      49 ellis road whispering pines    alstonville     2477   nsw   \n19998          360 eusdale road woodlands       yetholme     2795   nsw   \n19999        118 jandowae road kensington          warra     4411   qld   \n\n            phone                       email marital_status height weight  \\\n0      0382242324  donald.manning@hotmail.com                   139     67   \n1                         spfefrcmeq@mail.com                   120     50   \n2      0871245514                                    married    167    141   \n3      0306974454            heuer21@mail.com    not-married    172     66   \n4      0732902798                                    married    185    122   \n...           ...                         ...            ...    ...    ...   \n19995  0303794953    gracie.ratcliffe@aol.com                   123     25   \n19996  0860047509                                    married    180    138   \n19997  0259633249     joshua.munn@mail.com.au                   112     26   \n19998                    harms.carol@mail.com        married    193    123   \n19999  0722296586     javon.golly@mail.com.au        married    178     92   \n\n      bmi blood_pressure cholesterol_level smoking_status  \\\n0      34             71               134              0   \n1      34             69                97              0   \n2      50             74               129              0   \n3      22             73               128              1   \n4      35             73               119              0   \n...    ..            ...               ...            ...   \n19995  16             70               131              0   \n19996  42             80               152              0   \n19997  20             76               187              0   \n19998  33             74               138              0   \n19999  29             81               238              1   \n\n                                          clinical_notes  \\\n0      basal-cell-carcinoma---skin-leasion-to-left-as...   \n1                                         depressed-mood   \n2                                             low-energy   \n3                                    atrial-fibrillation   \n4                                          low-back-pain   \n...                                                  ...   \n19995                                         depression   \n19996                                       ringing-ears   \n19997                       cataract-surgery---right-eye   \n19998                                         bronchitis   \n19999                                       constipation   \n\n       consultation_timestamp                 consult_ts consult_year  \\\n0      2017-11-15t10:10+00:00  2017-11-15 10:10:00+00:00         2017   \n1      2020-07-20t10:22+00:00  2020-07-20 10:22:00+00:00         2020   \n2      2017-02-23t11:13+00:00  2017-02-23 11:13:00+00:00         2017   \n3      2015-04-04t14:39+00:00  2015-04-04 14:39:00+00:00         2015   \n4      2016-06-13t19:26+00:00  2016-06-13 19:26:00+00:00         2016   \n...                       ...                        ...          ...   \n19995  2014-04-07t23:47+00:00  2014-04-07 23:47:00+00:00         2014   \n19996  2017-02-09t20:48+00:00  2017-02-09 20:48:00+00:00         2017   \n19997  2015-07-06t07:17+00:00  2015-07-06 07:17:00+00:00         2015   \n19998  2015-09-19t05:22+00:00  2015-09-19 05:22:00+00:00         2015   \n19999  2014-10-18t10:06+00:00  2014-10-18 10:06:00+00:00         2014   \n\n      consult_month consult_day consult_hour consult_minute  consult_dt  \\\n0                11          15           10             10  2017-11-15   \n1                 7          20           10             22  2020-07-20   \n2                 2          23           11             13  2017-02-23   \n3                 4           4           14             39  2015-04-04   \n4                 6          13           19             26  2016-06-13   \n...             ...         ...          ...            ...         ...   \n19995             4           7           23             47  2014-04-07   \n19996             2           9           20             48  2017-02-09   \n19997             7           6            7             17  2015-07-06   \n19998             9          19            5             22  2015-09-19   \n19999            10          18           10              6  2014-10-18   \n\n                        email_fix pcode_check  \n0      donald.manning@hotmail.com           1  \n1             spfefrcmeq@mail.com           1  \n2                         unknown           1  \n3                heuer21@mail.com           1  \n4                         unknown           1  \n...                           ...         ...  \n19995    gracie.ratcliffe@aol.com           1  \n19996                     unknown           1  \n19997     joshua.munn@mail.com.au           1  \n19998        harms.carol@mail.com           1  \n19999     javon.golly@mail.com.au           1  \n\n[20000 rows x 33 columns]",
      "text/html": "<div>\n<style scoped>\n    .dataframe tbody tr th:only-of-type {\n        vertical-align: middle;\n    }\n\n    .dataframe tbody tr th {\n        vertical-align: top;\n    }\n\n    .dataframe thead th {\n        text-align: right;\n    }\n</style>\n<table border=\"1\" class=\"dataframe\">\n  <thead>\n    <tr style=\"text-align: right;\">\n      <th></th>\n      <th>rec_id</th>\n      <th>ssn</th>\n      <th>first_name</th>\n      <th>middle_name</th>\n      <th>last_name</th>\n      <th>gender</th>\n      <th>age_at_consultation</th>\n      <th>birth_date</th>\n      <th>medicare_number</th>\n      <th>street_address</th>\n      <th>suburb</th>\n      <th>postcode</th>\n      <th>state</th>\n      <th>phone</th>\n      <th>email</th>\n      <th>marital_status</th>\n      <th>height</th>\n      <th>weight</th>\n      <th>bmi</th>\n      <th>blood_pressure</th>\n      <th>cholesterol_level</th>\n      <th>smoking_status</th>\n      <th>clinical_notes</th>\n      <th>consultation_timestamp</th>\n      <th>consult_ts</th>\n      <th>consult_year</th>\n      <th>consult_month</th>\n      <th>consult_day</th>\n      <th>consult_hour</th>\n      <th>consult_minute</th>\n      <th>consult_dt</th>\n      <th>email_fix</th>\n      <th>pcode_check</th>\n    </tr>\n  </thead>\n  <tbody>\n    <tr>\n      <th>0</th>\n      <td>rec-72052</td>\n      <td>i116534747</td>\n      <td>donald</td>\n      <td>lydell</td>\n      <td>manning</td>\n      <td>f</td>\n      <td>13</td>\n      <td>4/6/2004</td>\n      <td>16713221912</td>\n      <td>1 gisborne road goodmans</td>\n      <td>bacchus marsh</td>\n      <td>3340</td>\n      <td>vic</td>\n      <td>0382242324</td>\n      <td>donald.manning@hotmail.com</td>\n      <td></td>\n      <td>139</td>\n      <td>67</td>\n      <td>34</td>\n      <td>71</td>\n      <td>134</td>\n      <td>0</td>\n      <td>basal-cell-carcinoma---skin-leasion-to-left-as...</td>\n      <td>2017-11-15t10:10+00:00</td>\n      <td>2017-11-15 10:10:00+00:00</td>\n      <td>2017</td>\n      <td>11</td>\n      <td>15</td>\n      <td>10</td>\n      <td>10</td>\n      <td>2017-11-15</td>\n      <td>donald.manning@hotmail.com</td>\n      <td>1</td>\n    </tr>\n    <tr>\n      <th>1</th>\n      <td>rec-66635</td>\n      <td>g196248364</td>\n      <td>george</td>\n      <td>allen</td>\n      <td>morrison</td>\n      <td>m</td>\n      <td>10</td>\n      <td>12/3/2010</td>\n      <td>98232867912</td>\n      <td>1 leura lane watersley cottage</td>\n      <td>hamilton</td>\n      <td>3300</td>\n      <td>vic</td>\n      <td></td>\n      <td>spfefrcmeq@mail.com</td>\n      <td></td>\n      <td>120</td>\n      <td>50</td>\n      <td>34</td>\n      <td>69</td>\n      <td>97</td>\n      <td>0</td>\n      <td>depressed-mood</td>\n      <td>2020-07-20t10:22+00:00</td>\n      <td>2020-07-20 10:22:00+00:00</td>\n      <td>2020</td>\n      <td>7</td>\n      <td>20</td>\n      <td>10</td>\n      <td>22</td>\n      <td>2020-07-20</td>\n      <td>spfefrcmeq@mail.com</td>\n      <td>1</td>\n    </tr>\n    <tr>\n      <th>2</th>\n      <td>rec-73551</td>\n      <td>e111796351</td>\n      <td>stephon</td>\n      <td>hill</td>\n      <td>warren</td>\n      <td>f</td>\n      <td>28</td>\n      <td>25/12/1989</td>\n      <td>78248955711</td>\n      <td>39 mcnabb loop collier park vlg</td>\n      <td>como</td>\n      <td>6152</td>\n      <td>wa</td>\n      <td>0871245514</td>\n      <td></td>\n      <td>married</td>\n      <td>167</td>\n      <td>141</td>\n      <td>50</td>\n      <td>74</td>\n      <td>129</td>\n      <td>0</td>\n      <td>low-energy</td>\n      <td>2017-02-23t11:13+00:00</td>\n      <td>2017-02-23 11:13:00+00:00</td>\n      <td>2017</td>\n      <td>2</td>\n      <td>23</td>\n      <td>11</td>\n      <td>13</td>\n      <td>2017-02-23</td>\n      <td>unknown</td>\n      <td>1</td>\n    </tr>\n    <tr>\n      <th>3</th>\n      <td>rec-52311</td>\n      <td>f113787195</td>\n      <td>matthew</td>\n      <td>e</td>\n      <td>heuer</td>\n      <td>m</td>\n      <td>18</td>\n      <td>3/11/1997</td>\n      <td>65095255323</td>\n      <td>5 harrys road rivendell</td>\n      <td>arthurs creek</td>\n      <td>3099</td>\n      <td>vic</td>\n      <td>0306974454</td>\n      <td>heuer21@mail.com</td>\n      <td>not-married</td>\n      <td>172</td>\n      <td>66</td>\n      <td>22</td>\n      <td>73</td>\n      <td>128</td>\n      <td>1</td>\n      <td>atrial-fibrillation</td>\n      <td>2015-04-04t14:39+00:00</td>\n      <td>2015-04-04 14:39:00+00:00</td>\n      <td>2015</td>\n      <td>4</td>\n      <td>4</td>\n      <td>14</td>\n      <td>39</td>\n      <td>2015-04-04</td>\n      <td>heuer21@mail.com</td>\n      <td>1</td>\n    </tr>\n    <tr>\n      <th>4</th>\n      <td>rec-49632</td>\n      <td>g166722356</td>\n      <td>melisa</td>\n      <td></td>\n      <td>kellogg</td>\n      <td>f</td>\n      <td>59</td>\n      <td>12/11/1957</td>\n      <td>89262992512</td>\n      <td>9 hallett close riverside garden</td>\n      <td>douglas</td>\n      <td>4814</td>\n      <td>qld</td>\n      <td>0732902798</td>\n      <td></td>\n      <td>married</td>\n      <td>185</td>\n      <td>122</td>\n      <td>35</td>\n      <td>73</td>\n      <td>119</td>\n      <td>0</td>\n      <td>low-back-pain</td>\n      <td>2016-06-13t19:26+00:00</td>\n      <td>2016-06-13 19:26:00+00:00</td>\n      <td>2016</td>\n      <td>6</td>\n      <td>13</td>\n      <td>19</td>\n      <td>26</td>\n      <td>2016-06-13</td>\n      <td>unknown</td>\n      <td>1</td>\n    </tr>\n    <tr>\n      <th>...</th>\n      <td>...</td>\n      <td>...</td>\n      <td>...</td>\n      <td>...</td>\n      <td>...</td>\n      <td>...</td>\n      <td>...</td>\n      <td>...</td>\n      <td>...</td>\n      <td>...</td>\n      <td>...</td>\n      <td>...</td>\n      <td>...</td>\n      <td>...</td>\n      <td>...</td>\n      <td>...</td>\n      <td>...</td>\n      <td>...</td>\n      <td>...</td>\n      <td>...</td>\n      <td>...</td>\n      <td>...</td>\n      <td>...</td>\n      <td>...</td>\n      <td>...</td>\n      <td>...</td>\n      <td>...</td>\n      <td>...</td>\n      <td>...</td>\n      <td>...</td>\n      <td>...</td>\n      <td>...</td>\n      <td>...</td>\n    </tr>\n    <tr>\n      <th>19995</th>\n      <td>rec-15872</td>\n      <td>i161581251</td>\n      <td>gracie</td>\n      <td>little</td>\n      <td>ratcliffe</td>\n      <td>f</td>\n      <td>6</td>\n      <td>12/8/2008</td>\n      <td>90398995912</td>\n      <td>501 little collins street aprt 701</td>\n      <td>melbourne</td>\n      <td>3000</td>\n      <td>vic</td>\n      <td>0303794953</td>\n      <td>gracie.ratcliffe@aol.com</td>\n      <td></td>\n      <td>123</td>\n      <td>25</td>\n      <td>16</td>\n      <td>70</td>\n      <td>131</td>\n      <td>0</td>\n      <td>depression</td>\n      <td>2014-04-07t23:47+00:00</td>\n      <td>2014-04-07 23:47:00+00:00</td>\n      <td>2014</td>\n      <td>4</td>\n      <td>7</td>\n      <td>23</td>\n      <td>47</td>\n      <td>2014-04-07</td>\n      <td>gracie.ratcliffe@aol.com</td>\n      <td>1</td>\n    </tr>\n    <tr>\n      <th>19996</th>\n      <td>rec-53302</td>\n      <td>g152500166</td>\n      <td>allan</td>\n      <td>landon</td>\n      <td>hurdle</td>\n      <td>m</td>\n      <td>49</td>\n      <td>3/8/1968</td>\n      <td>41489830122</td>\n      <td>5 barrett drive floreat village</td>\n      <td>alice springs</td>\n      <td>0870</td>\n      <td>nt</td>\n      <td>0860047509</td>\n      <td></td>\n      <td>married</td>\n      <td>180</td>\n      <td>138</td>\n      <td>42</td>\n      <td>80</td>\n      <td>152</td>\n      <td>0</td>\n      <td>ringing-ears</td>\n      <td>2017-02-09t20:48+00:00</td>\n      <td>2017-02-09 20:48:00+00:00</td>\n      <td>2017</td>\n      <td>2</td>\n      <td>9</td>\n      <td>20</td>\n      <td>48</td>\n      <td>2017-02-09</td>\n      <td>unknown</td>\n      <td>1</td>\n    </tr>\n    <tr>\n      <th>19997</th>\n      <td>rec-90066</td>\n      <td>g178482871</td>\n      <td>joshua</td>\n      <td>michael</td>\n      <td>munn</td>\n      <td>f</td>\n      <td>7</td>\n      <td>22/4/2008</td>\n      <td>77378845112</td>\n      <td>49 ellis road whispering pines</td>\n      <td>alstonville</td>\n      <td>2477</td>\n      <td>nsw</td>\n      <td>0259633249</td>\n      <td>joshua.munn@mail.com.au</td>\n      <td></td>\n      <td>112</td>\n      <td>26</td>\n      <td>20</td>\n      <td>76</td>\n      <td>187</td>\n      <td>0</td>\n      <td>cataract-surgery---right-eye</td>\n      <td>2015-07-06t07:17+00:00</td>\n      <td>2015-07-06 07:17:00+00:00</td>\n      <td>2015</td>\n      <td>7</td>\n      <td>6</td>\n      <td>7</td>\n      <td>17</td>\n      <td>2015-07-06</td>\n      <td>joshua.munn@mail.com.au</td>\n      <td>1</td>\n    </tr>\n    <tr>\n      <th>19998</th>\n      <td>rec-51517</td>\n      <td>h169776084</td>\n      <td>carol</td>\n      <td>lucille</td>\n      <td>harms</td>\n      <td>m</td>\n      <td>59</td>\n      <td>1/12/1956</td>\n      <td>95352801521</td>\n      <td>360 eusdale road woodlands</td>\n      <td>yetholme</td>\n      <td>2795</td>\n      <td>nsw</td>\n      <td></td>\n      <td>harms.carol@mail.com</td>\n      <td>married</td>\n      <td>193</td>\n      <td>123</td>\n      <td>33</td>\n      <td>74</td>\n      <td>138</td>\n      <td>0</td>\n      <td>bronchitis</td>\n      <td>2015-09-19t05:22+00:00</td>\n      <td>2015-09-19 05:22:00+00:00</td>\n      <td>2015</td>\n      <td>9</td>\n      <td>19</td>\n      <td>5</td>\n      <td>22</td>\n      <td>2015-09-19</td>\n      <td>harms.carol@mail.com</td>\n      <td>1</td>\n    </tr>\n    <tr>\n      <th>19999</th>\n      <td>rec-11861</td>\n      <td>d142380248</td>\n      <td>javon</td>\n      <td>karl</td>\n      <td>golly</td>\n      <td>m</td>\n      <td>15</td>\n      <td>29/1/1999</td>\n      <td>44653423822</td>\n      <td>118 jandowae road kensington</td>\n      <td>warra</td>\n      <td>4411</td>\n      <td>qld</td>\n      <td>0722296586</td>\n      <td>javon.golly@mail.com.au</td>\n      <td>married</td>\n      <td>178</td>\n      <td>92</td>\n      <td>29</td>\n      <td>81</td>\n      <td>238</td>\n      <td>1</td>\n      <td>constipation</td>\n      <td>2014-10-18t10:06+00:00</td>\n      <td>2014-10-18 10:06:00+00:00</td>\n      <td>2014</td>\n      <td>10</td>\n      <td>18</td>\n      <td>10</td>\n      <td>6</td>\n      <td>2014-10-18</td>\n      <td>javon.golly@mail.com.au</td>\n      <td>1</td>\n    </tr>\n  </tbody>\n</table>\n<p>20000 rows × 33 columns</p>\n</div>"
     },
     "metadata": {},
     "output_type": "display_data"
    }
   ],
   "source": [
    "display(df)"
   ],
   "metadata": {
    "collapsed": false,
    "pycharm": {
     "name": "#%%\n"
    }
   }
  },
  {
   "cell_type": "code",
   "execution_count": 76,
   "outputs": [
    {
     "data": {
      "text/plain": "pcode_check\n0                     615\n1                   15372\ninvalid postcode        7\nName: rec_id, dtype: int64"
     },
     "execution_count": 76,
     "metadata": {},
     "output_type": "execute_result"
    }
   ],
   "source": [
    "df.groupby('pcode_check').count()['rec_id']"
   ],
   "metadata": {
    "collapsed": false,
    "pycharm": {
     "name": "#%%\n"
    }
   }
  },
  {
   "cell_type": "code",
   "execution_count": null,
   "outputs": [],
   "source": [],
   "metadata": {
    "collapsed": false,
    "pycharm": {
     "name": "#%%\n"
    }
   }
  }
 ],
 "metadata": {
  "kernelspec": {
   "display_name": "Python 3",
   "language": "python",
   "name": "python3"
  },
  "language_info": {
   "codemirror_mode": {
    "name": "ipython",
    "version": 2
   },
   "file_extension": ".py",
   "mimetype": "text/x-python",
   "name": "python",
   "nbconvert_exporter": "python",
   "pygments_lexer": "ipython2",
   "version": "2.7.6"
  }
 },
 "nbformat": 4,
 "nbformat_minor": 0
}