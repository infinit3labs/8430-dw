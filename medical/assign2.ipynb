{
 "cells": [
  {
   "cell_type": "code",
   "execution_count": 86,
   "id": "9f8f084c-69fb-4b01-a06d-3cc46e610f64",
   "metadata": {},
   "outputs": [],
   "source": [
    "import pandas as pd"
   ]
  },
  {
   "cell_type": "code",
   "execution_count": 87,
   "id": "90c068cd-450c-4b91-87b8-6fbfe2447e5e",
   "metadata": {},
   "outputs": [],
   "source": [
    "pd.set_option('display.max_columns', None)"
   ]
  },
  {
   "cell_type": "code",
   "execution_count": 95,
   "id": "1b453a0b-d80b-43af-a13a-d8c393694ef3",
   "metadata": {},
   "outputs": [],
   "source": [
    "df = pd.read_csv('data_wrangling_medical_2022_u4587426.csv', dtype=str)"
   ]
  },
  {
   "cell_type": "code",
   "execution_count": 96,
   "id": "ef871ddc-9655-4a5c-bc57-01b7e3ce523e",
   "metadata": {},
   "outputs": [
    {
     "data": {
      "text/plain": [
       "Index(['rec_id', 'ssn', 'first_name', 'middle_name', 'last_name', 'gender',\n",
       "       'age_at_consultation', 'birth_date', 'medicare_number',\n",
       "       'street_address', 'suburb', 'postcode', 'state', 'phone', 'email',\n",
       "       'marital_status', 'height', 'weight', 'bmi', 'blood_pressure',\n",
       "       'cholesterol_level', 'smoking_status', 'clinical_notes',\n",
       "       'consultation_timestamp'],\n",
       "      dtype='object')"
      ]
     },
     "execution_count": 96,
     "metadata": {},
     "output_type": "execute_result"
    }
   ],
   "source": [
    "df.columns"
   ]
  },
  {
   "cell_type": "code",
   "execution_count": 97,
   "id": "fa6e0056-0c5e-4f3e-9fb0-0c7a216eb490",
   "metadata": {},
   "outputs": [],
   "source": [
    "def hasVal(row, val):\n",
    "    if pd.isnull(row[val]):\n",
    "        return '0'\n",
    "    else:\n",
    "        return '1'"
   ]
  },
  {
   "cell_type": "code",
   "execution_count": 98,
   "id": "5fdd44f3-cef4-4714-afc7-e4e0a9420300",
   "metadata": {},
   "outputs": [],
   "source": [
    "df['hasEmail'] = df.apply(lambda row: hasVal(row, 'email'), axis=1)"
   ]
  },
  {
   "cell_type": "code",
   "execution_count": 99,
   "id": "8dfe2ca9-6ac4-483e-8eb7-b8ca326e09d3",
   "metadata": {},
   "outputs": [],
   "source": [
    "df['hasPhone'] = df.apply(lambda row: hasVal(row, 'phone'), axis=1)"
   ]
  },
  {
   "cell_type": "code",
   "execution_count": 100,
   "id": "407347c6-98dd-4fbd-9499-eae536eed55f",
   "metadata": {},
   "outputs": [],
   "source": [
    "df['hasPostcode'] = df.apply(lambda row: hasVal(row, 'postcode'), axis=1)"
   ]
  },
  {
   "cell_type": "code",
   "execution_count": 103,
   "id": "edb04d23-8dc4-405a-b521-8494d54fa957",
   "metadata": {},
   "outputs": [],
   "source": [
    "df['missingCat'] = df.hasEmail + df.hasPhone + df.hasPostcode"
   ]
  },
  {
   "cell_type": "markdown",
   "id": "c5b4d07b-4a5c-4160-bb63-4fc5df63c1dd",
   "metadata": {},
   "source": [
    "### Count Missing Values by Category"
   ]
  },
  {
   "cell_type": "code",
   "execution_count": 104,
   "id": "c4c875c2-49bc-478e-a196-516b6a213a1a",
   "metadata": {},
   "outputs": [],
   "source": [
    "df1 = df.groupby(['missingCat']).count()['rec_id']"
   ]
  },
  {
   "cell_type": "code",
   "execution_count": 105,
   "id": "95e1d569-7b98-44dc-8319-c65788c5b432",
   "metadata": {},
   "outputs": [
    {
     "data": {
      "text/plain": [
       "missingCat\n",
       "000     470\n",
       "001    1888\n",
       "010     731\n",
       "011    2915\n",
       "100    1158\n",
       "101    4468\n",
       "110    1647\n",
       "111    6723\n",
       "Name: rec_id, dtype: int64"
      ]
     },
     "metadata": {},
     "output_type": "display_data"
    }
   ],
   "source": [
    "display(df1)"
   ]
  },
  {
   "cell_type": "markdown",
   "id": "50233231-e9ec-4abd-a36d-85376f8c4e98",
   "metadata": {},
   "source": [
    "### Correlation BMI and Age at Consultation"
   ]
  },
  {
   "cell_type": "code",
   "execution_count": 12,
   "id": "ec883eba-5dd5-44f5-9a77-7cdbe62c40a9",
   "metadata": {},
   "outputs": [],
   "source": [
    "c1 = pd.to_numeric(df['bmi']).corr(pd.to_numeric(df['age_at_consultation']))"
   ]
  },
  {
   "cell_type": "code",
   "execution_count": 13,
   "id": "a4bb4f77-3924-40be-b5fa-6b951dc784f6",
   "metadata": {},
   "outputs": [
    {
     "data": {
      "text/plain": [
       "0.24680562420845412"
      ]
     },
     "execution_count": 13,
     "metadata": {},
     "output_type": "execute_result"
    }
   ],
   "source": [
    "c1"
   ]
  },
  {
   "cell_type": "markdown",
   "id": "c8614c15-0eac-46ed-82a8-0341054daef7",
   "metadata": {},
   "source": [
    "### Correlation BMI and Height"
   ]
  },
  {
   "cell_type": "code",
   "execution_count": 14,
   "id": "bd3567a5-337b-489f-8838-48ffa23f25df",
   "metadata": {},
   "outputs": [],
   "source": [
    "c2 = pd.to_numeric(df['bmi']).corr(pd.to_numeric(df['height']))"
   ]
  },
  {
   "cell_type": "code",
   "execution_count": 15,
   "id": "62072094-bc19-4d9a-924a-a5a0eb5b7c05",
   "metadata": {},
   "outputs": [
    {
     "data": {
      "text/plain": [
       "0.1295330393066611"
      ]
     },
     "execution_count": 15,
     "metadata": {},
     "output_type": "execute_result"
    }
   ],
   "source": [
    "c2"
   ]
  },
  {
   "cell_type": "markdown",
   "id": "6121de58-589d-4106-bafb-8bcd668bce4d",
   "metadata": {},
   "source": [
    "### Correlation State and Marital Status"
   ]
  },
  {
   "cell_type": "code",
   "execution_count": null,
   "id": "e222a47b-f8a1-43cf-9b01-e430da01a72b",
   "metadata": {},
   "outputs": [],
   "source": [
    "df = pd.read_csv('data_wrangling_medical_2022_u4587426.csv', dtype=str, na_filter=False)"
   ]
  },
  {
   "cell_type": "code",
   "execution_count": 16,
   "id": "9f0230c7-48b6-4ccc-b30b-0df9265d0713",
   "metadata": {},
   "outputs": [],
   "source": [
    "ct = pd.crosstab(df['state'], df['marital_status'], dropna=False)"
   ]
  },
  {
   "cell_type": "code",
   "execution_count": 17,
   "id": "a9eb9e7d-7e5d-4ebc-8038-ba1af370e3c9",
   "metadata": {},
   "outputs": [
    {
     "data": {
      "text/html": [
       "<div>\n",
       "<style scoped>\n",
       "    .dataframe tbody tr th:only-of-type {\n",
       "        vertical-align: middle;\n",
       "    }\n",
       "\n",
       "    .dataframe tbody tr th {\n",
       "        vertical-align: top;\n",
       "    }\n",
       "\n",
       "    .dataframe thead th {\n",
       "        text-align: right;\n",
       "    }\n",
       "</style>\n",
       "<table border=\"1\" class=\"dataframe\">\n",
       "  <thead>\n",
       "    <tr style=\"text-align: right;\">\n",
       "      <th>marital_status</th>\n",
       "      <th>divorced</th>\n",
       "      <th>married</th>\n",
       "      <th>married-de-facto</th>\n",
       "      <th>n/a</th>\n",
       "      <th>not-married</th>\n",
       "      <th>separated</th>\n",
       "      <th>widowed</th>\n",
       "    </tr>\n",
       "    <tr>\n",
       "      <th>state</th>\n",
       "      <th></th>\n",
       "      <th></th>\n",
       "      <th></th>\n",
       "      <th></th>\n",
       "      <th></th>\n",
       "      <th></th>\n",
       "      <th></th>\n",
       "    </tr>\n",
       "  </thead>\n",
       "  <tbody>\n",
       "    <tr>\n",
       "      <th>act</th>\n",
       "      <td>49</td>\n",
       "      <td>380</td>\n",
       "      <td>146</td>\n",
       "      <td>132</td>\n",
       "      <td>255</td>\n",
       "      <td>44</td>\n",
       "      <td>18</td>\n",
       "    </tr>\n",
       "    <tr>\n",
       "      <th>nsw</th>\n",
       "      <td>250</td>\n",
       "      <td>2136</td>\n",
       "      <td>918</td>\n",
       "      <td>760</td>\n",
       "      <td>1457</td>\n",
       "      <td>274</td>\n",
       "      <td>106</td>\n",
       "    </tr>\n",
       "    <tr>\n",
       "      <th>nt</th>\n",
       "      <td>88</td>\n",
       "      <td>728</td>\n",
       "      <td>306</td>\n",
       "      <td>266</td>\n",
       "      <td>509</td>\n",
       "      <td>83</td>\n",
       "      <td>45</td>\n",
       "    </tr>\n",
       "    <tr>\n",
       "      <th>qld</th>\n",
       "      <td>180</td>\n",
       "      <td>1526</td>\n",
       "      <td>605</td>\n",
       "      <td>526</td>\n",
       "      <td>1018</td>\n",
       "      <td>175</td>\n",
       "      <td>67</td>\n",
       "    </tr>\n",
       "    <tr>\n",
       "      <th>sa</th>\n",
       "      <td>37</td>\n",
       "      <td>372</td>\n",
       "      <td>158</td>\n",
       "      <td>121</td>\n",
       "      <td>240</td>\n",
       "      <td>59</td>\n",
       "      <td>19</td>\n",
       "    </tr>\n",
       "    <tr>\n",
       "      <th>tas</th>\n",
       "      <td>41</td>\n",
       "      <td>380</td>\n",
       "      <td>147</td>\n",
       "      <td>142</td>\n",
       "      <td>237</td>\n",
       "      <td>43</td>\n",
       "      <td>16</td>\n",
       "    </tr>\n",
       "    <tr>\n",
       "      <th>vic</th>\n",
       "      <td>169</td>\n",
       "      <td>1477</td>\n",
       "      <td>602</td>\n",
       "      <td>510</td>\n",
       "      <td>1024</td>\n",
       "      <td>168</td>\n",
       "      <td>67</td>\n",
       "    </tr>\n",
       "    <tr>\n",
       "      <th>wa</th>\n",
       "      <td>35</td>\n",
       "      <td>340</td>\n",
       "      <td>133</td>\n",
       "      <td>117</td>\n",
       "      <td>234</td>\n",
       "      <td>42</td>\n",
       "      <td>23</td>\n",
       "    </tr>\n",
       "  </tbody>\n",
       "</table>\n",
       "</div>"
      ],
      "text/plain": [
       "marital_status  divorced  married  married-de-facto  n/a  not-married  \\\n",
       "state                                                                   \n",
       "act                   49      380               146  132          255   \n",
       "nsw                  250     2136               918  760         1457   \n",
       "nt                    88      728               306  266          509   \n",
       "qld                  180     1526               605  526         1018   \n",
       "sa                    37      372               158  121          240   \n",
       "tas                   41      380               147  142          237   \n",
       "vic                  169     1477               602  510         1024   \n",
       "wa                    35      340               133  117          234   \n",
       "\n",
       "marital_status  separated  widowed  \n",
       "state                               \n",
       "act                    44       18  \n",
       "nsw                   274      106  \n",
       "nt                     83       45  \n",
       "qld                   175       67  \n",
       "sa                     59       19  \n",
       "tas                    43       16  \n",
       "vic                   168       67  \n",
       "wa                     42       23  "
      ]
     },
     "metadata": {},
     "output_type": "display_data"
    }
   ],
   "source": [
    "display(ct)"
   ]
  },
  {
   "cell_type": "code",
   "execution_count": 18,
   "id": "c614dac8-1cf4-495d-93f8-18f3a076f2e4",
   "metadata": {},
   "outputs": [],
   "source": [
    "import scipy\n",
    "from scipy.stats import chi2_contingency"
   ]
  },
  {
   "cell_type": "code",
   "execution_count": 19,
   "id": "f4df7882-9090-4949-8160-67479ed2a14d",
   "metadata": {},
   "outputs": [
    {
     "data": {
      "text/plain": [
       "(22.402175652438224,\n",
       " 0.9943206163681827,\n",
       " 42,\n",
       " array([[  43.4688 ,  375.7568 ,  154.368  ,  131.7888 ,  254.6688 ,\n",
       "           45.4656 ,   18.4832 ],\n",
       "        [ 250.49745, 2165.37195,  889.57575,  759.4587 , 1467.5787 ,\n",
       "          262.0044 ,  106.51305],\n",
       "        [  85.96125,  743.07375,  305.26875,  260.6175 ,  503.6175 ,\n",
       "           89.91   ,   36.55125],\n",
       "        [ 173.91765, 1503.39415,  617.62275,  527.2839 , 1018.9239 ,\n",
       "          181.9068 ,   73.95085],\n",
       "        [  42.7047 ,  369.1517 ,  151.6545 ,  129.4722 ,  250.1922 ,\n",
       "           44.6664 ,   18.1583 ],\n",
       "        [  42.7047 ,  369.1517 ,  151.6545 ,  129.4722 ,  250.1922 ,\n",
       "           44.6664 ,   18.1583 ],\n",
       "        [ 170.52165, 1474.03815,  605.56275,  516.9879 ,  999.0279 ,\n",
       "          178.3548 ,   72.50685],\n",
       "        [  39.2238 ,  339.0618 ,  139.293  ,  118.9188 ,  229.7988 ,\n",
       "           41.0256 ,   16.6782 ]]))"
      ]
     },
     "execution_count": 19,
     "metadata": {},
     "output_type": "execute_result"
    }
   ],
   "source": [
    "chi2_contingency(ct)"
   ]
  },
  {
   "cell_type": "markdown",
   "id": "5479dd4e-9c6d-45ed-b83e-c032dfa02535",
   "metadata": {},
   "source": [
    "### Completeness: Postcode, Phone, Middle Name"
   ]
  },
  {
   "cell_type": "code",
   "execution_count": 20,
   "id": "ea209e46-863b-48c1-b12c-50ae5527450b",
   "metadata": {},
   "outputs": [],
   "source": [
    "df = pd.read_csv('data_wrangling_medical_2022_u4587426.csv', dtype=str)"
   ]
  },
  {
   "cell_type": "code",
   "execution_count": 21,
   "id": "09a7702e-3de0-43cf-ad4d-f1ab9088c5f9",
   "metadata": {},
   "outputs": [
    {
     "data": {
      "text/plain": [
       "rec_id                       0\n",
       "ssn                          0\n",
       "first_name                   2\n",
       "middle_name               2000\n",
       "last_name                    1\n",
       "gender                       0\n",
       "age_at_consultation          0\n",
       "birth_date                   0\n",
       "medicare_number              0\n",
       "street_address               0\n",
       "suburb                       0\n",
       "postcode                  4006\n",
       "state                        0\n",
       "phone                     7984\n",
       "email                     6004\n",
       "marital_status            2574\n",
       "height                       0\n",
       "weight                       0\n",
       "bmi                          0\n",
       "blood_pressure               0\n",
       "cholesterol_level            0\n",
       "smoking_status               0\n",
       "clinical_notes               0\n",
       "consultation_timestamp       0\n",
       "dtype: int64"
      ]
     },
     "execution_count": 21,
     "metadata": {},
     "output_type": "execute_result"
    }
   ],
   "source": [
    "df.isnull().sum()"
   ]
  },
  {
   "cell_type": "code",
   "execution_count": 22,
   "id": "52cecfc3-7212-4465-93c7-69ab58e78e2d",
   "metadata": {},
   "outputs": [
    {
     "data": {
      "text/plain": [
       "(20000, 24)"
      ]
     },
     "execution_count": 22,
     "metadata": {},
     "output_type": "execute_result"
    }
   ],
   "source": [
    "df.shape"
   ]
  },
  {
   "cell_type": "markdown",
   "id": "224b7878-93ac-4e24-8867-1b8abb933990",
   "metadata": {},
   "source": [
    "#### Postcode"
   ]
  },
  {
   "cell_type": "code",
   "execution_count": 23,
   "id": "a266fe97-b7b1-480b-928a-72b2ddfefdf5",
   "metadata": {},
   "outputs": [],
   "source": [
    "pc_null = df.postcode.isnull().sum()"
   ]
  },
  {
   "cell_type": "code",
   "execution_count": 24,
   "id": "cfe7a81c-d48e-4a2d-bac6-1b64896f1cd7",
   "metadata": {},
   "outputs": [],
   "source": [
    "pc_complete = str((1 - (pc_null / df.shape[0])) * 100) + ' %'"
   ]
  },
  {
   "cell_type": "code",
   "execution_count": 25,
   "id": "7f8913e2-4a2b-403e-88e6-9951fa2847c0",
   "metadata": {},
   "outputs": [
    {
     "name": "stdout",
     "output_type": "stream",
     "text": [
      "79.97 %\n"
     ]
    }
   ],
   "source": [
    "print(pc_complete)"
   ]
  },
  {
   "cell_type": "markdown",
   "id": "15c824e2-36f9-42c6-8823-3d23dca80cad",
   "metadata": {},
   "source": [
    "#### Phone"
   ]
  },
  {
   "cell_type": "code",
   "execution_count": 26,
   "id": "6c577151-81e7-457e-8a69-e7645c4e391b",
   "metadata": {},
   "outputs": [],
   "source": [
    "ph_null = df.phone.isnull().sum()"
   ]
  },
  {
   "cell_type": "code",
   "execution_count": 27,
   "id": "c94092f8-b5e5-41e5-8442-842b6354a6c5",
   "metadata": {},
   "outputs": [],
   "source": [
    "ph_complete = str((1 - (ph_null / df.shape[0])) * 100) + ' %'"
   ]
  },
  {
   "cell_type": "code",
   "execution_count": 28,
   "id": "eb91b8b6-e5e4-48b5-b4ca-b09472162125",
   "metadata": {},
   "outputs": [
    {
     "name": "stdout",
     "output_type": "stream",
     "text": [
      "60.08 %\n"
     ]
    }
   ],
   "source": [
    "print(ph_complete)"
   ]
  },
  {
   "cell_type": "markdown",
   "id": "136b36c2-98ba-41cc-be9e-9177b28505f4",
   "metadata": {},
   "source": [
    "#### Middle Name"
   ]
  },
  {
   "cell_type": "code",
   "execution_count": 29,
   "id": "1f351ccf-c6c6-401d-a3ba-2efe44314f16",
   "metadata": {},
   "outputs": [],
   "source": [
    "mn_null = df.middle_name.isnull().sum()"
   ]
  },
  {
   "cell_type": "code",
   "execution_count": 30,
   "id": "73849785-1931-44f1-994a-65619297468e",
   "metadata": {},
   "outputs": [],
   "source": [
    "mn_complete = str((1 - (mn_null / df.shape[0])) * 100) + ' %'"
   ]
  },
  {
   "cell_type": "code",
   "execution_count": 31,
   "id": "32437805-7326-4a3d-a973-2bfecc927da1",
   "metadata": {},
   "outputs": [
    {
     "name": "stdout",
     "output_type": "stream",
     "text": [
      "90.0 %\n"
     ]
    }
   ],
   "source": [
    "print(mn_complete)"
   ]
  },
  {
   "cell_type": "markdown",
   "id": "f106922d-e20f-4e41-acab-3a1d6e9cd4ac",
   "metadata": {},
   "source": [
    "### Validity: Weight and Email"
   ]
  },
  {
   "cell_type": "markdown",
   "id": "0aceed54-cccb-4b19-a0f9-4c6bc9fb314b",
   "metadata": {},
   "source": [
    "#### Weight"
   ]
  },
  {
   "cell_type": "code",
   "execution_count": 32,
   "id": "a3e3da66-29df-47b0-9d41-411478f0fca6",
   "metadata": {},
   "outputs": [],
   "source": [
    "df1 = df.groupby(pd.to_numeric(df['weight'])).count()['rec_id']"
   ]
  },
  {
   "cell_type": "code",
   "execution_count": 33,
   "id": "b9d7c4e2-083d-4751-81e9-8068f0036214",
   "metadata": {},
   "outputs": [],
   "source": [
    "w_invalid = len(df[(pd.to_numeric(df['weight'])<=0)])"
   ]
  },
  {
   "cell_type": "code",
   "execution_count": 34,
   "id": "35ad85d6-8d58-40df-b7de-4cd4e850d7e3",
   "metadata": {},
   "outputs": [],
   "source": [
    "w_valid = str((1 - (w_invalid / df.shape[0])) * 100) + ' %'"
   ]
  },
  {
   "cell_type": "code",
   "execution_count": 35,
   "id": "98ea64c8-8634-4e05-95fd-440451d3c9d5",
   "metadata": {},
   "outputs": [
    {
     "name": "stdout",
     "output_type": "stream",
     "text": [
      "90.18 %\n"
     ]
    }
   ],
   "source": [
    "print(w_valid)"
   ]
  },
  {
   "cell_type": "markdown",
   "id": "b3e6235c-5c33-46fe-bff0-22fd908fc9cc",
   "metadata": {},
   "source": [
    "#### Email"
   ]
  },
  {
   "cell_type": "code",
   "execution_count": 36,
   "id": "30fe7440-0257-4a62-80ca-3d189fcbc24b",
   "metadata": {},
   "outputs": [],
   "source": [
    "# Should have @ symbol and at least one dot after @ symbol"
   ]
  },
  {
   "cell_type": "code",
   "execution_count": 37,
   "id": "527bbfed-cc86-44bd-8501-67e2dc3bdd5a",
   "metadata": {},
   "outputs": [],
   "source": [
    "# Used code from this website: https://stackoverflow.com/questions/742451/what-is-the-simplest-regular-expression-to-validate-emails-to-not-accept-them-bl"
   ]
  },
  {
   "cell_type": "code",
   "execution_count": 38,
   "id": "8ea675a4-6e8f-48d2-9b42-4984e7f2a791",
   "metadata": {},
   "outputs": [],
   "source": [
    "email_valid = df.email.str.count(r'^[^@\\s]+@[^@\\s]+\\.[^@\\s]+$').sum()"
   ]
  },
  {
   "cell_type": "code",
   "execution_count": 39,
   "id": "b7bef0b4-00bb-4a94-8a81-0d245d2f637d",
   "metadata": {},
   "outputs": [],
   "source": [
    "e_valid = str((email_valid / df.shape[0]) * 100) + ' %'"
   ]
  },
  {
   "cell_type": "code",
   "execution_count": 40,
   "id": "32977a6f-8d2c-463d-938b-133eb78b846e",
   "metadata": {},
   "outputs": [
    {
     "name": "stdout",
     "output_type": "stream",
     "text": [
      "60.285 %\n"
     ]
    }
   ],
   "source": [
    "print(e_valid)"
   ]
  },
  {
   "cell_type": "markdown",
   "id": "aa4d3fa3-fb56-4140-be40-36c7e18b737b",
   "metadata": {},
   "source": [
    "### Consistency: Age at Consultation and Date of Birth"
   ]
  },
  {
   "cell_type": "code",
   "execution_count": 41,
   "id": "a869d4e3-448a-494e-9bfe-a81e90f6f411",
   "metadata": {},
   "outputs": [],
   "source": [
    "# Add column to show inferred age at consultation based on the date of birth and consultation timestamp"
   ]
  },
  {
   "cell_type": "code",
   "execution_count": 42,
   "id": "c23251bc-23fb-4ef9-9cb1-e102f90dd56f",
   "metadata": {},
   "outputs": [],
   "source": [
    "# Convert timestamp to standard date formart"
   ]
  },
  {
   "cell_type": "code",
   "execution_count": 43,
   "id": "6c10e067-4276-432e-b25f-df536095ff3f",
   "metadata": {},
   "outputs": [],
   "source": [
    "from datetime import datetime"
   ]
  },
  {
   "cell_type": "code",
   "execution_count": 44,
   "id": "4c0cda97-ddca-493d-8666-26a26dfb25f7",
   "metadata": {},
   "outputs": [],
   "source": [
    "df['consult_dt'] = [datetime.strptime(x.split('t')[0], '%Y-%m-%d') for x in df['consultation_timestamp']]"
   ]
  },
  {
   "cell_type": "code",
   "execution_count": 45,
   "id": "516eada3-0d5c-4ef5-890d-e99495b2e510",
   "metadata": {},
   "outputs": [],
   "source": [
    "df['dob_dt'] = [datetime.strptime(x, '%d/%m/%Y') for x in df['birth_date']]"
   ]
  },
  {
   "cell_type": "code",
   "execution_count": 52,
   "id": "bf8cea41-4f96-49b3-a491-ff36fec5c40a",
   "metadata": {},
   "outputs": [],
   "source": [
    "def yr_diff(row):\n",
    "    d1 = row['consult_dt']\n",
    "    d2 = row['dob_dt']\n",
    "    diff = round(abs((d1-d2).days)/365, 0)\n",
    "    return diff"
   ]
  },
  {
   "cell_type": "code",
   "execution_count": 53,
   "id": "40b7d5b4-1584-4a6c-b709-b0f712eda026",
   "metadata": {},
   "outputs": [],
   "source": [
    "df['der_age'] = df.apply(lambda row: yr_diff(row), axis=1)"
   ]
  },
  {
   "cell_type": "code",
   "execution_count": 56,
   "id": "7e4114f2-4ad1-471f-9bc9-1289b3c5f13f",
   "metadata": {},
   "outputs": [],
   "source": [
    "df['age_gap'] = pd.to_numeric(df.age_at_consultation) - df.der_age"
   ]
  },
  {
   "cell_type": "code",
   "execution_count": 68,
   "id": "252fb2cb-2980-44b9-9949-7234de225379",
   "metadata": {},
   "outputs": [],
   "source": [
    "df1 = df.groupby(['age_gap']).count()['rec_id']"
   ]
  },
  {
   "cell_type": "code",
   "execution_count": 72,
   "id": "b76796be-a897-4c26-b743-0b69c95cb08d",
   "metadata": {},
   "outputs": [],
   "source": [
    "df1 = df1.reset_index()"
   ]
  },
  {
   "cell_type": "code",
   "execution_count": 73,
   "id": "2b45b4eb-cc00-490a-a3a4-05b3abc5a864",
   "metadata": {},
   "outputs": [
    {
     "data": {
      "text/html": [
       "<div>\n",
       "<style scoped>\n",
       "    .dataframe tbody tr th:only-of-type {\n",
       "        vertical-align: middle;\n",
       "    }\n",
       "\n",
       "    .dataframe tbody tr th {\n",
       "        vertical-align: top;\n",
       "    }\n",
       "\n",
       "    .dataframe thead th {\n",
       "        text-align: right;\n",
       "    }\n",
       "</style>\n",
       "<table border=\"1\" class=\"dataframe\">\n",
       "  <thead>\n",
       "    <tr style=\"text-align: right;\">\n",
       "      <th></th>\n",
       "      <th>age_gap</th>\n",
       "      <th>rec_id</th>\n",
       "    </tr>\n",
       "  </thead>\n",
       "  <tbody>\n",
       "    <tr>\n",
       "      <th>0</th>\n",
       "      <td>-4.0</td>\n",
       "      <td>80</td>\n",
       "    </tr>\n",
       "    <tr>\n",
       "      <th>1</th>\n",
       "      <td>-3.0</td>\n",
       "      <td>563</td>\n",
       "    </tr>\n",
       "    <tr>\n",
       "      <th>2</th>\n",
       "      <td>-2.0</td>\n",
       "      <td>650</td>\n",
       "    </tr>\n",
       "    <tr>\n",
       "      <th>3</th>\n",
       "      <td>-1.0</td>\n",
       "      <td>3011</td>\n",
       "    </tr>\n",
       "    <tr>\n",
       "      <th>4</th>\n",
       "      <td>0.0</td>\n",
       "      <td>13585</td>\n",
       "    </tr>\n",
       "    <tr>\n",
       "      <th>5</th>\n",
       "      <td>1.0</td>\n",
       "      <td>2111</td>\n",
       "    </tr>\n",
       "  </tbody>\n",
       "</table>\n",
       "</div>"
      ],
      "text/plain": [
       "   age_gap  rec_id\n",
       "0     -4.0      80\n",
       "1     -3.0     563\n",
       "2     -2.0     650\n",
       "3     -1.0    3011\n",
       "4      0.0   13585\n",
       "5      1.0    2111"
      ]
     },
     "metadata": {},
     "output_type": "display_data"
    }
   ],
   "source": [
    "display(df1)"
   ]
  },
  {
   "cell_type": "code",
   "execution_count": 80,
   "id": "9e99d1ee-54e0-4d00-aef8-74a16f3cb11c",
   "metadata": {},
   "outputs": [],
   "source": [
    "age_valid = df1.loc[df1['age_gap'] == 0.0, 'rec_id'].item()"
   ]
  },
  {
   "cell_type": "code",
   "execution_count": 81,
   "id": "cf08cd90-8f33-43b2-ab95-1e8f710cde23",
   "metadata": {},
   "outputs": [],
   "source": [
    "a_valid = str((age_valid / df.shape[0]) * 100) + ' %'"
   ]
  },
  {
   "cell_type": "code",
   "execution_count": 82,
   "id": "41b20cd0-0b01-496d-bebd-66aca4845bdc",
   "metadata": {},
   "outputs": [
    {
     "name": "stdout",
     "output_type": "stream",
     "text": [
      "67.925 %\n"
     ]
    }
   ],
   "source": [
    "print(a_valid)"
   ]
  },
  {
   "cell_type": "markdown",
   "id": "258e21ca-9876-4d03-b7f4-1a6df4e10e73",
   "metadata": {},
   "source": [
    "### Modify Medicare Number to be numeric for Benfords analysis"
   ]
  },
  {
   "cell_type": "code",
   "execution_count": 83,
   "id": "b6f14472-7b40-4c8c-9ddb-7f5061e3358d",
   "metadata": {},
   "outputs": [],
   "source": [
    "df['medicare_mod'] = pd.to_numeric(df.medicare_number.str.replace(' ', ''))"
   ]
  },
  {
   "cell_type": "code",
   "execution_count": 84,
   "id": "fcc17200-4bd6-4c32-b4b7-efab1040cbe5",
   "metadata": {},
   "outputs": [
    {
     "data": {
      "text/html": [
       "<div>\n",
       "<style scoped>\n",
       "    .dataframe tbody tr th:only-of-type {\n",
       "        vertical-align: middle;\n",
       "    }\n",
       "\n",
       "    .dataframe tbody tr th {\n",
       "        vertical-align: top;\n",
       "    }\n",
       "\n",
       "    .dataframe thead th {\n",
       "        text-align: right;\n",
       "    }\n",
       "</style>\n",
       "<table border=\"1\" class=\"dataframe\">\n",
       "  <thead>\n",
       "    <tr style=\"text-align: right;\">\n",
       "      <th></th>\n",
       "      <th>rec_id</th>\n",
       "      <th>ssn</th>\n",
       "      <th>first_name</th>\n",
       "      <th>middle_name</th>\n",
       "      <th>last_name</th>\n",
       "      <th>gender</th>\n",
       "      <th>age_at_consultation</th>\n",
       "      <th>birth_date</th>\n",
       "      <th>medicare_number</th>\n",
       "      <th>street_address</th>\n",
       "      <th>suburb</th>\n",
       "      <th>postcode</th>\n",
       "      <th>state</th>\n",
       "      <th>phone</th>\n",
       "      <th>email</th>\n",
       "      <th>marital_status</th>\n",
       "      <th>height</th>\n",
       "      <th>weight</th>\n",
       "      <th>bmi</th>\n",
       "      <th>blood_pressure</th>\n",
       "      <th>cholesterol_level</th>\n",
       "      <th>smoking_status</th>\n",
       "      <th>clinical_notes</th>\n",
       "      <th>consultation_timestamp</th>\n",
       "      <th>consult_dt</th>\n",
       "      <th>dob_dt</th>\n",
       "      <th>der_age</th>\n",
       "      <th>age_gap</th>\n",
       "      <th>medicare_mod</th>\n",
       "    </tr>\n",
       "  </thead>\n",
       "  <tbody>\n",
       "    <tr>\n",
       "      <th>0</th>\n",
       "      <td>rec-72052</td>\n",
       "      <td>i116534747</td>\n",
       "      <td>donald</td>\n",
       "      <td>lydell</td>\n",
       "      <td>manning</td>\n",
       "      <td>f</td>\n",
       "      <td>13</td>\n",
       "      <td>4/6/2004</td>\n",
       "      <td>1671  32219  1  2</td>\n",
       "      <td>1  gisborne  road  goodmans</td>\n",
       "      <td>bacchus  marsh</td>\n",
       "      <td>3340</td>\n",
       "      <td>vic</td>\n",
       "      <td>03  8224  2324</td>\n",
       "      <td>donald.manning@hotmail.com</td>\n",
       "      <td>NaN</td>\n",
       "      <td>139</td>\n",
       "      <td>67</td>\n",
       "      <td>34</td>\n",
       "      <td>71</td>\n",
       "      <td>134</td>\n",
       "      <td>0</td>\n",
       "      <td>basal-cell-carcinoma---skin-leasion-to-left-as...</td>\n",
       "      <td>2017-11-15t10:10+00:00</td>\n",
       "      <td>2017-11-15</td>\n",
       "      <td>2004-06-04</td>\n",
       "      <td>13.0</td>\n",
       "      <td>0.0</td>\n",
       "      <td>16713221912</td>\n",
       "    </tr>\n",
       "    <tr>\n",
       "      <th>1</th>\n",
       "      <td>rec-66635</td>\n",
       "      <td>g196248364</td>\n",
       "      <td>george</td>\n",
       "      <td>allen</td>\n",
       "      <td>morrison</td>\n",
       "      <td>m</td>\n",
       "      <td>10</td>\n",
       "      <td>12/3/2010</td>\n",
       "      <td>9823  28679  1  2</td>\n",
       "      <td>1  leura  lane  watersley  cottage</td>\n",
       "      <td>hamilton</td>\n",
       "      <td>3300</td>\n",
       "      <td>vic</td>\n",
       "      <td>NaN</td>\n",
       "      <td>spfefrcmeq@mail.com</td>\n",
       "      <td>NaN</td>\n",
       "      <td>120</td>\n",
       "      <td>50</td>\n",
       "      <td>34</td>\n",
       "      <td>69</td>\n",
       "      <td>97</td>\n",
       "      <td>0</td>\n",
       "      <td>depressed-mood</td>\n",
       "      <td>2020-07-20t10:22+00:00</td>\n",
       "      <td>2020-07-20</td>\n",
       "      <td>2010-03-12</td>\n",
       "      <td>10.0</td>\n",
       "      <td>0.0</td>\n",
       "      <td>98232867912</td>\n",
       "    </tr>\n",
       "    <tr>\n",
       "      <th>2</th>\n",
       "      <td>rec-73551</td>\n",
       "      <td>e111796351</td>\n",
       "      <td>stephon</td>\n",
       "      <td>hill</td>\n",
       "      <td>warren</td>\n",
       "      <td>f</td>\n",
       "      <td>28</td>\n",
       "      <td>25/12/1989</td>\n",
       "      <td>7824  89557  1  1</td>\n",
       "      <td>39  mcnabb  loop  collier  park  vlg</td>\n",
       "      <td>como</td>\n",
       "      <td>6152</td>\n",
       "      <td>wa</td>\n",
       "      <td>08  7124  5514</td>\n",
       "      <td>NaN</td>\n",
       "      <td>married</td>\n",
       "      <td>167</td>\n",
       "      <td>141</td>\n",
       "      <td>50</td>\n",
       "      <td>74</td>\n",
       "      <td>129</td>\n",
       "      <td>0</td>\n",
       "      <td>low-energy</td>\n",
       "      <td>2017-02-23t11:13+00:00</td>\n",
       "      <td>2017-02-23</td>\n",
       "      <td>1989-12-25</td>\n",
       "      <td>27.0</td>\n",
       "      <td>1.0</td>\n",
       "      <td>78248955711</td>\n",
       "    </tr>\n",
       "    <tr>\n",
       "      <th>3</th>\n",
       "      <td>rec-52311</td>\n",
       "      <td>f113787195</td>\n",
       "      <td>matthew</td>\n",
       "      <td>e</td>\n",
       "      <td>heuer</td>\n",
       "      <td>m</td>\n",
       "      <td>18</td>\n",
       "      <td>3/11/1997</td>\n",
       "      <td>6509  52553  2  3</td>\n",
       "      <td>5  harrys  road  rivendell</td>\n",
       "      <td>arthurs  creek</td>\n",
       "      <td>3099</td>\n",
       "      <td>vic</td>\n",
       "      <td>03  0697  4454</td>\n",
       "      <td>heuer21@mail.com</td>\n",
       "      <td>not-married</td>\n",
       "      <td>172</td>\n",
       "      <td>66</td>\n",
       "      <td>22</td>\n",
       "      <td>73</td>\n",
       "      <td>128</td>\n",
       "      <td>1</td>\n",
       "      <td>atrial-fibrillation</td>\n",
       "      <td>2015-04-04t14:39+00:00</td>\n",
       "      <td>2015-04-04</td>\n",
       "      <td>1997-11-03</td>\n",
       "      <td>17.0</td>\n",
       "      <td>1.0</td>\n",
       "      <td>65095255323</td>\n",
       "    </tr>\n",
       "    <tr>\n",
       "      <th>4</th>\n",
       "      <td>rec-49632</td>\n",
       "      <td>g166722356</td>\n",
       "      <td>melisa</td>\n",
       "      <td>NaN</td>\n",
       "      <td>kellogg</td>\n",
       "      <td>f</td>\n",
       "      <td>59</td>\n",
       "      <td>12/11/1957</td>\n",
       "      <td>8926  29925  1  2</td>\n",
       "      <td>9  hallett  close  riverside  garden</td>\n",
       "      <td>douglas</td>\n",
       "      <td>4814</td>\n",
       "      <td>qld</td>\n",
       "      <td>07  3290  2798</td>\n",
       "      <td>NaN</td>\n",
       "      <td>married</td>\n",
       "      <td>185</td>\n",
       "      <td>122</td>\n",
       "      <td>35</td>\n",
       "      <td>73</td>\n",
       "      <td>119</td>\n",
       "      <td>0</td>\n",
       "      <td>low-back-pain</td>\n",
       "      <td>2016-06-13t19:26+00:00</td>\n",
       "      <td>2016-06-13</td>\n",
       "      <td>1957-11-12</td>\n",
       "      <td>59.0</td>\n",
       "      <td>0.0</td>\n",
       "      <td>89262992512</td>\n",
       "    </tr>\n",
       "    <tr>\n",
       "      <th>...</th>\n",
       "      <td>...</td>\n",
       "      <td>...</td>\n",
       "      <td>...</td>\n",
       "      <td>...</td>\n",
       "      <td>...</td>\n",
       "      <td>...</td>\n",
       "      <td>...</td>\n",
       "      <td>...</td>\n",
       "      <td>...</td>\n",
       "      <td>...</td>\n",
       "      <td>...</td>\n",
       "      <td>...</td>\n",
       "      <td>...</td>\n",
       "      <td>...</td>\n",
       "      <td>...</td>\n",
       "      <td>...</td>\n",
       "      <td>...</td>\n",
       "      <td>...</td>\n",
       "      <td>...</td>\n",
       "      <td>...</td>\n",
       "      <td>...</td>\n",
       "      <td>...</td>\n",
       "      <td>...</td>\n",
       "      <td>...</td>\n",
       "      <td>...</td>\n",
       "      <td>...</td>\n",
       "      <td>...</td>\n",
       "      <td>...</td>\n",
       "      <td>...</td>\n",
       "    </tr>\n",
       "    <tr>\n",
       "      <th>19995</th>\n",
       "      <td>rec-15872</td>\n",
       "      <td>i161581251</td>\n",
       "      <td>gracie</td>\n",
       "      <td>little</td>\n",
       "      <td>ratcliffe</td>\n",
       "      <td>f</td>\n",
       "      <td>6</td>\n",
       "      <td>12/8/2008</td>\n",
       "      <td>9039  89959  1  2</td>\n",
       "      <td>501  little  collins  street  aprt  701</td>\n",
       "      <td>melbourne</td>\n",
       "      <td>3000</td>\n",
       "      <td>vic</td>\n",
       "      <td>03  0379  4953</td>\n",
       "      <td>gracie.ratcliffe@aol.com</td>\n",
       "      <td>NaN</td>\n",
       "      <td>123</td>\n",
       "      <td>25</td>\n",
       "      <td>16</td>\n",
       "      <td>70</td>\n",
       "      <td>131</td>\n",
       "      <td>0</td>\n",
       "      <td>depression</td>\n",
       "      <td>2014-04-07t23:47+00:00</td>\n",
       "      <td>2014-04-07</td>\n",
       "      <td>2008-08-12</td>\n",
       "      <td>6.0</td>\n",
       "      <td>0.0</td>\n",
       "      <td>90398995912</td>\n",
       "    </tr>\n",
       "    <tr>\n",
       "      <th>19996</th>\n",
       "      <td>rec-53302</td>\n",
       "      <td>g152500166</td>\n",
       "      <td>allan</td>\n",
       "      <td>landon</td>\n",
       "      <td>hurdle</td>\n",
       "      <td>m</td>\n",
       "      <td>49</td>\n",
       "      <td>3/8/1968</td>\n",
       "      <td>4148  98301  2  2</td>\n",
       "      <td>5  barrett  drive  floreat  village</td>\n",
       "      <td>alice  springs</td>\n",
       "      <td>0870</td>\n",
       "      <td>nt</td>\n",
       "      <td>08  6004  7509</td>\n",
       "      <td>NaN</td>\n",
       "      <td>married</td>\n",
       "      <td>180</td>\n",
       "      <td>138</td>\n",
       "      <td>42</td>\n",
       "      <td>80</td>\n",
       "      <td>152</td>\n",
       "      <td>0</td>\n",
       "      <td>ringing-ears</td>\n",
       "      <td>2017-02-09t20:48+00:00</td>\n",
       "      <td>2017-02-09</td>\n",
       "      <td>1968-08-03</td>\n",
       "      <td>49.0</td>\n",
       "      <td>0.0</td>\n",
       "      <td>41489830122</td>\n",
       "    </tr>\n",
       "    <tr>\n",
       "      <th>19997</th>\n",
       "      <td>rec-90066</td>\n",
       "      <td>g178482871</td>\n",
       "      <td>joshua</td>\n",
       "      <td>michael</td>\n",
       "      <td>munn</td>\n",
       "      <td>f</td>\n",
       "      <td>7</td>\n",
       "      <td>22/4/2008</td>\n",
       "      <td>7737  88451  1  2</td>\n",
       "      <td>49  ellis  road  whispering  pines</td>\n",
       "      <td>alstonville</td>\n",
       "      <td>2477</td>\n",
       "      <td>nsw</td>\n",
       "      <td>02  5963  3249</td>\n",
       "      <td>joshua.munn@mail.com.au</td>\n",
       "      <td>NaN</td>\n",
       "      <td>112</td>\n",
       "      <td>26</td>\n",
       "      <td>20</td>\n",
       "      <td>76</td>\n",
       "      <td>187</td>\n",
       "      <td>0</td>\n",
       "      <td>cataract-surgery---right-eye</td>\n",
       "      <td>2015-07-06t07:17+00:00</td>\n",
       "      <td>2015-07-06</td>\n",
       "      <td>2008-04-22</td>\n",
       "      <td>7.0</td>\n",
       "      <td>0.0</td>\n",
       "      <td>77378845112</td>\n",
       "    </tr>\n",
       "    <tr>\n",
       "      <th>19998</th>\n",
       "      <td>rec-51517</td>\n",
       "      <td>h169776084</td>\n",
       "      <td>carol</td>\n",
       "      <td>lucille</td>\n",
       "      <td>harms</td>\n",
       "      <td>m</td>\n",
       "      <td>59</td>\n",
       "      <td>1/12/1956</td>\n",
       "      <td>9535  28015  2  1</td>\n",
       "      <td>360  eusdale  road  woodlands</td>\n",
       "      <td>yetholme</td>\n",
       "      <td>2795</td>\n",
       "      <td>nsw</td>\n",
       "      <td>NaN</td>\n",
       "      <td>harms.carol@mail.com</td>\n",
       "      <td>married</td>\n",
       "      <td>193</td>\n",
       "      <td>123</td>\n",
       "      <td>33</td>\n",
       "      <td>74</td>\n",
       "      <td>138</td>\n",
       "      <td>0</td>\n",
       "      <td>bronchitis</td>\n",
       "      <td>2015-09-19t05:22+00:00</td>\n",
       "      <td>2015-09-19</td>\n",
       "      <td>1956-12-01</td>\n",
       "      <td>59.0</td>\n",
       "      <td>0.0</td>\n",
       "      <td>95352801521</td>\n",
       "    </tr>\n",
       "    <tr>\n",
       "      <th>19999</th>\n",
       "      <td>rec-11861</td>\n",
       "      <td>d142380248</td>\n",
       "      <td>javon</td>\n",
       "      <td>karl</td>\n",
       "      <td>golly</td>\n",
       "      <td>m</td>\n",
       "      <td>15</td>\n",
       "      <td>29/1/1999</td>\n",
       "      <td>4465  34238  2  2</td>\n",
       "      <td>118  jandowae  road  kensington</td>\n",
       "      <td>warra</td>\n",
       "      <td>4411</td>\n",
       "      <td>qld</td>\n",
       "      <td>07  2229  6586</td>\n",
       "      <td>javon.golly@mail.com.au</td>\n",
       "      <td>married</td>\n",
       "      <td>178</td>\n",
       "      <td>92</td>\n",
       "      <td>29</td>\n",
       "      <td>81</td>\n",
       "      <td>238</td>\n",
       "      <td>1</td>\n",
       "      <td>constipation</td>\n",
       "      <td>2014-10-18t10:06+00:00</td>\n",
       "      <td>2014-10-18</td>\n",
       "      <td>1999-01-29</td>\n",
       "      <td>16.0</td>\n",
       "      <td>-1.0</td>\n",
       "      <td>44653423822</td>\n",
       "    </tr>\n",
       "  </tbody>\n",
       "</table>\n",
       "<p>20000 rows × 29 columns</p>\n",
       "</div>"
      ],
      "text/plain": [
       "          rec_id         ssn first_name middle_name  last_name gender  \\\n",
       "0      rec-72052  i116534747     donald      lydell    manning      f   \n",
       "1      rec-66635  g196248364     george       allen   morrison      m   \n",
       "2      rec-73551  e111796351    stephon        hill     warren      f   \n",
       "3      rec-52311  f113787195    matthew           e      heuer      m   \n",
       "4      rec-49632  g166722356     melisa         NaN    kellogg      f   \n",
       "...          ...         ...        ...         ...        ...    ...   \n",
       "19995  rec-15872  i161581251     gracie      little  ratcliffe      f   \n",
       "19996  rec-53302  g152500166      allan      landon     hurdle      m   \n",
       "19997  rec-90066  g178482871     joshua     michael       munn      f   \n",
       "19998  rec-51517  h169776084      carol     lucille      harms      m   \n",
       "19999  rec-11861  d142380248      javon        karl      golly      m   \n",
       "\n",
       "      age_at_consultation  birth_date      medicare_number  \\\n",
       "0                      13    4/6/2004   1671  32219  1  2    \n",
       "1                      10   12/3/2010   9823  28679  1  2    \n",
       "2                      28  25/12/1989   7824  89557  1  1    \n",
       "3                      18   3/11/1997   6509  52553  2  3    \n",
       "4                      59  12/11/1957   8926  29925  1  2    \n",
       "...                   ...         ...                  ...   \n",
       "19995                   6   12/8/2008   9039  89959  1  2    \n",
       "19996                  49    3/8/1968   4148  98301  2  2    \n",
       "19997                   7   22/4/2008   7737  88451  1  2    \n",
       "19998                  59   1/12/1956   9535  28015  2  1    \n",
       "19999                  15   29/1/1999   4465  34238  2  2    \n",
       "\n",
       "                                  street_address            suburb postcode  \\\n",
       "0                   1  gisborne  road  goodmans    bacchus  marsh      3340   \n",
       "1            1  leura  lane  watersley  cottage           hamilton     3300   \n",
       "2          39  mcnabb  loop  collier  park  vlg               como     6152   \n",
       "3                    5  harrys  road  rivendell    arthurs  creek      3099   \n",
       "4          9  hallett  close  riverside  garden            douglas     4814   \n",
       "...                                          ...               ...      ...   \n",
       "19995   501  little  collins  street  aprt  701          melbourne     3000   \n",
       "19996       5  barrett  drive  floreat  village    alice  springs      0870   \n",
       "19997        49  ellis  road  whispering  pines        alstonville     2477   \n",
       "19998             360  eusdale  road  woodlands           yetholme     2795   \n",
       "19999           118  jandowae  road  kensington              warra     4411   \n",
       "\n",
       "      state             phone                       email marital_status  \\\n",
       "0       vic   03  8224  2324   donald.manning@hotmail.com            NaN   \n",
       "1       vic               NaN         spfefrcmeq@mail.com            NaN   \n",
       "2        wa   08  7124  5514                          NaN        married   \n",
       "3       vic   03  0697  4454             heuer21@mail.com    not-married   \n",
       "4       qld   07  3290  2798                          NaN        married   \n",
       "...     ...               ...                         ...            ...   \n",
       "19995   vic   03  0379  4953     gracie.ratcliffe@aol.com            NaN   \n",
       "19996    nt   08  6004  7509                          NaN        married   \n",
       "19997   nsw   02  5963  3249      joshua.munn@mail.com.au            NaN   \n",
       "19998   nsw               NaN        harms.carol@mail.com        married   \n",
       "19999   qld   07  2229  6586      javon.golly@mail.com.au        married   \n",
       "\n",
       "      height weight bmi blood_pressure cholesterol_level smoking_status  \\\n",
       "0        139     67  34             71               134              0   \n",
       "1        120     50  34             69                97              0   \n",
       "2        167    141  50             74               129              0   \n",
       "3        172     66  22             73               128              1   \n",
       "4        185    122  35             73               119              0   \n",
       "...      ...    ...  ..            ...               ...            ...   \n",
       "19995    123     25  16             70               131              0   \n",
       "19996    180    138  42             80               152              0   \n",
       "19997    112     26  20             76               187              0   \n",
       "19998    193    123  33             74               138              0   \n",
       "19999    178     92  29             81               238              1   \n",
       "\n",
       "                                          clinical_notes  \\\n",
       "0      basal-cell-carcinoma---skin-leasion-to-left-as...   \n",
       "1                                         depressed-mood   \n",
       "2                                             low-energy   \n",
       "3                                    atrial-fibrillation   \n",
       "4                                          low-back-pain   \n",
       "...                                                  ...   \n",
       "19995                                         depression   \n",
       "19996                                       ringing-ears   \n",
       "19997                       cataract-surgery---right-eye   \n",
       "19998                                         bronchitis   \n",
       "19999                                       constipation   \n",
       "\n",
       "       consultation_timestamp consult_dt     dob_dt  der_age  age_gap  \\\n",
       "0      2017-11-15t10:10+00:00 2017-11-15 2004-06-04     13.0      0.0   \n",
       "1      2020-07-20t10:22+00:00 2020-07-20 2010-03-12     10.0      0.0   \n",
       "2      2017-02-23t11:13+00:00 2017-02-23 1989-12-25     27.0      1.0   \n",
       "3      2015-04-04t14:39+00:00 2015-04-04 1997-11-03     17.0      1.0   \n",
       "4      2016-06-13t19:26+00:00 2016-06-13 1957-11-12     59.0      0.0   \n",
       "...                       ...        ...        ...      ...      ...   \n",
       "19995  2014-04-07t23:47+00:00 2014-04-07 2008-08-12      6.0      0.0   \n",
       "19996  2017-02-09t20:48+00:00 2017-02-09 1968-08-03     49.0      0.0   \n",
       "19997  2015-07-06t07:17+00:00 2015-07-06 2008-04-22      7.0      0.0   \n",
       "19998  2015-09-19t05:22+00:00 2015-09-19 1956-12-01     59.0      0.0   \n",
       "19999  2014-10-18t10:06+00:00 2014-10-18 1999-01-29     16.0     -1.0   \n",
       "\n",
       "       medicare_mod  \n",
       "0       16713221912  \n",
       "1       98232867912  \n",
       "2       78248955711  \n",
       "3       65095255323  \n",
       "4       89262992512  \n",
       "...             ...  \n",
       "19995   90398995912  \n",
       "19996   41489830122  \n",
       "19997   77378845112  \n",
       "19998   95352801521  \n",
       "19999   44653423822  \n",
       "\n",
       "[20000 rows x 29 columns]"
      ]
     },
     "metadata": {},
     "output_type": "display_data"
    }
   ],
   "source": [
    "display(df)"
   ]
  },
  {
   "cell_type": "markdown",
   "id": "f7ad9240-b302-49f4-9967-7cf7fdaf773e",
   "metadata": {},
   "source": [
    "### Export File to CSV"
   ]
  },
  {
   "cell_type": "code",
   "execution_count": 85,
   "id": "1d2f0ac0-518f-4596-bc31-0abcfda14323",
   "metadata": {},
   "outputs": [],
   "source": [
    "df.to_csv('assign2_clean.csv', index=False)"
   ]
  },
  {
   "cell_type": "markdown",
   "id": "992e54c5-c25b-4c7c-b4d0-0f9cf2744d8f",
   "metadata": {
    "pycharm": {
     "name": "#%% md\n"
    }
   },
   "source": [
    "<hr>"
   ]
  },
  {
   "cell_type": "code",
   "execution_count": 13,
   "outputs": [],
   "source": [],
   "metadata": {
    "collapsed": false,
    "pycharm": {
     "name": "#%%\n"
    }
   }
  },
  {
   "cell_type": "code",
   "execution_count": null,
   "outputs": [],
   "source": [],
   "metadata": {
    "collapsed": false,
    "pycharm": {
     "name": "#%%\n"
    }
   }
  }
 ],
 "metadata": {
  "kernelspec": {
   "display_name": "Python 3 (ipykernel)",
   "language": "python",
   "name": "python3"
  },
  "language_info": {
   "codemirror_mode": {
    "name": "ipython",
    "version": 3
   },
   "file_extension": ".py",
   "mimetype": "text/x-python",
   "name": "python",
   "nbconvert_exporter": "python",
   "pygments_lexer": "ipython3",
   "version": "3.9.7"
  }
 },
 "nbformat": 4,
 "nbformat_minor": 5
}