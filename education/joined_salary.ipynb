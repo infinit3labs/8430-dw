{
 "cells": [
  {
   "cell_type": "code",
   "execution_count": 1,
   "metadata": {
    "collapsed": true
   },
   "outputs": [],
   "source": [
    "import pandas as pd"
   ]
  },
  {
   "cell_type": "code",
   "execution_count": 4,
   "outputs": [],
   "source": [
    "df = pd.read_csv('salary.tsv', sep='\\t', header=None)"
   ],
   "metadata": {
    "collapsed": false,
    "pycharm": {
     "name": "#%%\n"
    }
   }
  },
  {
   "cell_type": "code",
   "execution_count": 7,
   "outputs": [
    {
     "data": {
      "text/plain": "             ssn                occupation                education  salary  \\\n0     a100050102              other-worker           certificate-iv   78359   \n1     a100091149            ict-technician          certificate-iii  104897   \n2     a100248307  personal-services-worker           certificate-ii   78420   \n3     a100568525            ict-technician                  diploma  101191   \n4     a100600797  personal-services-worker            certificate-i   60084   \n...          ...                       ...                      ...     ...   \n9583  i199761171     health-support-worker           certificate-ii   61694   \n9584  i199840951    art-media-professional          advance-diploma  103367   \n9585  i199940217         automotive-worker          certificate-iii   91101   \n9586  i199953012          ict-professional          advance-diploma   87913   \n9587  i199996413               farm-worker  senior-secondary-school   16152   \n\n     gender exp_group  \n0         m     4 21+  \n1         m    2 5-10  \n2         m   3 11-20  \n3         f     4 21+  \n4         m   3 11-20  \n...     ...       ...  \n9583      m   3 11-20  \n9584      m     1 0-5  \n9585      f     1 0-5  \n9586      m   3 11-20  \n9587      m     4 21+  \n\n[9588 rows x 6 columns]",
      "text/html": "<div>\n<style scoped>\n    .dataframe tbody tr th:only-of-type {\n        vertical-align: middle;\n    }\n\n    .dataframe tbody tr th {\n        vertical-align: top;\n    }\n\n    .dataframe thead th {\n        text-align: right;\n    }\n</style>\n<table border=\"1\" class=\"dataframe\">\n  <thead>\n    <tr style=\"text-align: right;\">\n      <th></th>\n      <th>ssn</th>\n      <th>occupation</th>\n      <th>education</th>\n      <th>salary</th>\n      <th>gender</th>\n      <th>exp_group</th>\n    </tr>\n  </thead>\n  <tbody>\n    <tr>\n      <th>0</th>\n      <td>a100050102</td>\n      <td>other-worker</td>\n      <td>certificate-iv</td>\n      <td>78359</td>\n      <td>m</td>\n      <td>4 21+</td>\n    </tr>\n    <tr>\n      <th>1</th>\n      <td>a100091149</td>\n      <td>ict-technician</td>\n      <td>certificate-iii</td>\n      <td>104897</td>\n      <td>m</td>\n      <td>2 5-10</td>\n    </tr>\n    <tr>\n      <th>2</th>\n      <td>a100248307</td>\n      <td>personal-services-worker</td>\n      <td>certificate-ii</td>\n      <td>78420</td>\n      <td>m</td>\n      <td>3 11-20</td>\n    </tr>\n    <tr>\n      <th>3</th>\n      <td>a100568525</td>\n      <td>ict-technician</td>\n      <td>diploma</td>\n      <td>101191</td>\n      <td>f</td>\n      <td>4 21+</td>\n    </tr>\n    <tr>\n      <th>4</th>\n      <td>a100600797</td>\n      <td>personal-services-worker</td>\n      <td>certificate-i</td>\n      <td>60084</td>\n      <td>m</td>\n      <td>3 11-20</td>\n    </tr>\n    <tr>\n      <th>...</th>\n      <td>...</td>\n      <td>...</td>\n      <td>...</td>\n      <td>...</td>\n      <td>...</td>\n      <td>...</td>\n    </tr>\n    <tr>\n      <th>9583</th>\n      <td>i199761171</td>\n      <td>health-support-worker</td>\n      <td>certificate-ii</td>\n      <td>61694</td>\n      <td>m</td>\n      <td>3 11-20</td>\n    </tr>\n    <tr>\n      <th>9584</th>\n      <td>i199840951</td>\n      <td>art-media-professional</td>\n      <td>advance-diploma</td>\n      <td>103367</td>\n      <td>m</td>\n      <td>1 0-5</td>\n    </tr>\n    <tr>\n      <th>9585</th>\n      <td>i199940217</td>\n      <td>automotive-worker</td>\n      <td>certificate-iii</td>\n      <td>91101</td>\n      <td>f</td>\n      <td>1 0-5</td>\n    </tr>\n    <tr>\n      <th>9586</th>\n      <td>i199953012</td>\n      <td>ict-professional</td>\n      <td>advance-diploma</td>\n      <td>87913</td>\n      <td>m</td>\n      <td>3 11-20</td>\n    </tr>\n    <tr>\n      <th>9587</th>\n      <td>i199996413</td>\n      <td>farm-worker</td>\n      <td>senior-secondary-school</td>\n      <td>16152</td>\n      <td>m</td>\n      <td>4 21+</td>\n    </tr>\n  </tbody>\n</table>\n<p>9588 rows × 6 columns</p>\n</div>"
     },
     "metadata": {},
     "output_type": "display_data"
    }
   ],
   "source": [
    "display(df)"
   ],
   "metadata": {
    "collapsed": false,
    "pycharm": {
     "name": "#%%\n"
    }
   }
  },
  {
   "cell_type": "code",
   "execution_count": 6,
   "outputs": [],
   "source": [
    "df.columns = ['ssn', 'occupation', 'education', 'salary', 'gender', 'exp_group']"
   ],
   "metadata": {
    "collapsed": false,
    "pycharm": {
     "name": "#%%\n"
    }
   }
  },
  {
   "cell_type": "code",
   "execution_count": 13,
   "outputs": [],
   "source": [
    "sal_df = df.groupby(['occupation', 'gender']).median()['salary'].reset_index()"
   ],
   "metadata": {
    "collapsed": false,
    "pycharm": {
     "name": "#%%\n"
    }
   }
  },
  {
   "cell_type": "code",
   "execution_count": 25,
   "outputs": [
    {
     "data": {
      "text/plain": "74002.5"
     },
     "execution_count": 25,
     "metadata": {},
     "output_type": "execute_result"
    }
   ],
   "source": [
    "sal_df.loc[(sal_df['occupation'] == 'automotive-worker') & (sal_df['gender'] == 'm')]['salary'].values.tolist()[0]"
   ],
   "metadata": {
    "collapsed": false,
    "pycharm": {
     "name": "#%%\n"
    }
   }
  },
  {
   "cell_type": "code",
   "execution_count": 43,
   "outputs": [],
   "source": [
    "sal_df.to_csv('median_salaries.csv', index=False)"
   ],
   "metadata": {
    "collapsed": false,
    "pycharm": {
     "name": "#%%\n"
    }
   }
  },
  {
   "cell_type": "code",
   "execution_count": 36,
   "outputs": [],
   "source": [
    "def get_salary(row):\n",
    "    occupation = row['occupation']\n",
    "    gender = row['gender_clean']\n",
    "    try:\n",
    "        salary = sal_df.loc[(sal_df['occupation'] == occupation) & (sal_df['gender'] == gender)]['salary'].values.tolist()[0]\n",
    "        return salary\n",
    "    except IndexError:\n",
    "        return row['salary_clean']"
   ],
   "metadata": {
    "collapsed": false,
    "pycharm": {
     "name": "#%%\n"
    }
   }
  },
  {
   "cell_type": "code",
   "execution_count": 37,
   "outputs": [],
   "source": [
    "df_j = pd.read_csv('joined.tsv', sep='\\t')"
   ],
   "metadata": {
    "collapsed": false,
    "pycharm": {
     "name": "#%%\n"
    }
   }
  },
  {
   "cell_type": "code",
   "execution_count": 40,
   "outputs": [
    {
     "data": {
      "text/plain": "              ssn  fname_clean mname_clean lname_clean gender_clean  \\\n0      a100050102       justin       elton       verga            m   \n1      a100091149  christopher      jerome     herring            m   \n2      a100091149  christopher      jerome     herring            m   \n3      a100222723        billy       david        ross            m   \n4      a100248307       howard     stephen      turner            m   \n...           ...          ...         ...         ...          ...   \n16889  i199840951         evan      maston       bruno            m   \n16890  i199919157      jillian        erin      perell            f   \n16891  i199940217       martha       renee     jackson            f   \n16892  i199953012       thomas      joseph       petty            m   \n16893  i199996413       monroe     lamonte     collier            m   \n\n       consult_age_clean birth_date_dt medicare_number  \\\n0                     36    1980-06-07  8250 99889 1 2   \n1                     21    1995-10-20  2939 34141 2 3   \n2                     21    1995-10-20  2939 34141 2 3   \n3                     15    1998-05-17  5417 95547 2 3   \n4                     36    1985-01-09  6472 28876 1 1   \n...                  ...           ...             ...   \n16889                 23    1996-04-03  4352 69591 2 3   \n16890                 33    1984-11-22  3005 36572 1 1   \n16891                 15    2000-05-11  8818 54716 2 2   \n16892                 27    1989-04-22  9821 42905 2 2   \n16893                 47    1971-02-07  4419 58367 1 1   \n\n                                street_address_clean     suburb_clean  ...  \\\n0             40 marcus clarke street canberra house    canberra city  ...   \n1                17 inner harbour drive marina palms  patterson lakes  ...   \n2                17 inner harbour drive marina palms  patterson lakes  ...   \n3                      41 cavenagh street plaza bldg           darwin  ...   \n4                         1351 sidonia road balkebah          baynton  ...   \n...                                              ...              ...  ...   \n16889                       42 borenore lane kenvale         borenore  ...   \n16890                   3 collins close masonic vlge       lake haven  ...   \n16891   22 mitchell street central specialist clinic           darwin  ...   \n16892  20 dalley street st vincents private hospital          lismore  ...   \n16893                        1 harveys road oberland         armidale  ...   \n\n                      consult_ts     rec_id                education  \\\n0      2016-01-26 06:44:00+00:00  r15002000           certificate-iv   \n1      2016-07-18 13:58:00+00:00  r90040119          certificate-iii   \n2      2016-07-18 13:58:00+00:00  r09110940          certificate-iii   \n3      2013-03-26 21:59:00+00:00  r23272200         secondary-school   \n4      2020-07-23 06:51:00+00:00  r20407803           certificate-ii   \n...                          ...        ...                      ...   \n16889  2018-12-19 16:05:00+00:00  r40995189          advance-diploma   \n16890  2017-08-18 00:14:00+00:00  r19995719          advance-diploma   \n16891  2015-07-11 01:52:00+00:00  r97914920          certificate-iii   \n16892  2016-06-08 08:10:00+00:00  r91953920          advance-diploma   \n16893  2018-03-12 03:34:00+00:00  r99934619  senior-secondary-school   \n\n                     occupation salary_clean    salary   credit_card_number  \\\n0                  other-worker      78359.0   78359.0  7426 3365 3452 2350   \n1                ict-technician     104897.0  104897.0  7356 0165 1634 7804   \n2                ict-technician     104897.0  104897.0  7356 0165 1634 7804   \n3              machinary-driver          NaN       NaN  5837 2758 2366 5640   \n4      personal-services-worker      78420.0   78420.0  3951 5724 9004 2669   \n...                         ...          ...       ...                  ...   \n16889    art-media-professional     103367.0  103367.0  4496 1676 9466 2010   \n16890    education-professional          NaN       NaN  9392 1545 1088 9225   \n16891         automotive-worker      91101.0   91101.0  8278 6665 0763 8863   \n16892          ict-professional      87913.0   87913.0  5666 8118 7243 3499   \n16893               farm-worker      16152.0   16152.0  4264 4192 1712 6497   \n\n       years_of_experience                  employ_ts  salary_fix  \n0                       21  2020-04-15 13:24:00+00:00     75420.5  \n1                        6  2020-06-13 01:21:00+00:00    111124.5  \n2                        6  2020-06-13 01:21:00+00:00    111124.5  \n3                        3  2020-04-05 06:45:00+00:00     14860.0  \n4                       15  2019-09-27 12:53:00+00:00     55624.0  \n...                    ...                        ...         ...  \n16889                    5  2020-04-02 07:41:00+00:00    115695.0  \n16890                   17  2020-02-16 06:38:00+00:00    117127.5  \n16891                    1  2020-05-20 04:18:00+00:00     76694.0  \n16892                   12  2020-04-17 18:38:00+00:00    113279.5  \n16893                   30  2020-03-12 15:13:00+00:00     16004.0  \n\n[16894 rows x 32 columns]",
      "text/html": "<div>\n<style scoped>\n    .dataframe tbody tr th:only-of-type {\n        vertical-align: middle;\n    }\n\n    .dataframe tbody tr th {\n        vertical-align: top;\n    }\n\n    .dataframe thead th {\n        text-align: right;\n    }\n</style>\n<table border=\"1\" class=\"dataframe\">\n  <thead>\n    <tr style=\"text-align: right;\">\n      <th></th>\n      <th>ssn</th>\n      <th>fname_clean</th>\n      <th>mname_clean</th>\n      <th>lname_clean</th>\n      <th>gender_clean</th>\n      <th>consult_age_clean</th>\n      <th>birth_date_dt</th>\n      <th>medicare_number</th>\n      <th>street_address_clean</th>\n      <th>suburb_clean</th>\n      <th>...</th>\n      <th>consult_ts</th>\n      <th>rec_id</th>\n      <th>education</th>\n      <th>occupation</th>\n      <th>salary_clean</th>\n      <th>salary</th>\n      <th>credit_card_number</th>\n      <th>years_of_experience</th>\n      <th>employ_ts</th>\n      <th>salary_fix</th>\n    </tr>\n  </thead>\n  <tbody>\n    <tr>\n      <th>0</th>\n      <td>a100050102</td>\n      <td>justin</td>\n      <td>elton</td>\n      <td>verga</td>\n      <td>m</td>\n      <td>36</td>\n      <td>1980-06-07</td>\n      <td>8250 99889 1 2</td>\n      <td>40 marcus clarke street canberra house</td>\n      <td>canberra city</td>\n      <td>...</td>\n      <td>2016-01-26 06:44:00+00:00</td>\n      <td>r15002000</td>\n      <td>certificate-iv</td>\n      <td>other-worker</td>\n      <td>78359.0</td>\n      <td>78359.0</td>\n      <td>7426 3365 3452 2350</td>\n      <td>21</td>\n      <td>2020-04-15 13:24:00+00:00</td>\n      <td>75420.5</td>\n    </tr>\n    <tr>\n      <th>1</th>\n      <td>a100091149</td>\n      <td>christopher</td>\n      <td>jerome</td>\n      <td>herring</td>\n      <td>m</td>\n      <td>21</td>\n      <td>1995-10-20</td>\n      <td>2939 34141 2 3</td>\n      <td>17 inner harbour drive marina palms</td>\n      <td>patterson lakes</td>\n      <td>...</td>\n      <td>2016-07-18 13:58:00+00:00</td>\n      <td>r90040119</td>\n      <td>certificate-iii</td>\n      <td>ict-technician</td>\n      <td>104897.0</td>\n      <td>104897.0</td>\n      <td>7356 0165 1634 7804</td>\n      <td>6</td>\n      <td>2020-06-13 01:21:00+00:00</td>\n      <td>111124.5</td>\n    </tr>\n    <tr>\n      <th>2</th>\n      <td>a100091149</td>\n      <td>christopher</td>\n      <td>jerome</td>\n      <td>herring</td>\n      <td>m</td>\n      <td>21</td>\n      <td>1995-10-20</td>\n      <td>2939 34141 2 3</td>\n      <td>17 inner harbour drive marina palms</td>\n      <td>patterson lakes</td>\n      <td>...</td>\n      <td>2016-07-18 13:58:00+00:00</td>\n      <td>r09110940</td>\n      <td>certificate-iii</td>\n      <td>ict-technician</td>\n      <td>104897.0</td>\n      <td>104897.0</td>\n      <td>7356 0165 1634 7804</td>\n      <td>6</td>\n      <td>2020-06-13 01:21:00+00:00</td>\n      <td>111124.5</td>\n    </tr>\n    <tr>\n      <th>3</th>\n      <td>a100222723</td>\n      <td>billy</td>\n      <td>david</td>\n      <td>ross</td>\n      <td>m</td>\n      <td>15</td>\n      <td>1998-05-17</td>\n      <td>5417 95547 2 3</td>\n      <td>41 cavenagh street plaza bldg</td>\n      <td>darwin</td>\n      <td>...</td>\n      <td>2013-03-26 21:59:00+00:00</td>\n      <td>r23272200</td>\n      <td>secondary-school</td>\n      <td>machinary-driver</td>\n      <td>NaN</td>\n      <td>NaN</td>\n      <td>5837 2758 2366 5640</td>\n      <td>3</td>\n      <td>2020-04-05 06:45:00+00:00</td>\n      <td>14860.0</td>\n    </tr>\n    <tr>\n      <th>4</th>\n      <td>a100248307</td>\n      <td>howard</td>\n      <td>stephen</td>\n      <td>turner</td>\n      <td>m</td>\n      <td>36</td>\n      <td>1985-01-09</td>\n      <td>6472 28876 1 1</td>\n      <td>1351 sidonia road balkebah</td>\n      <td>baynton</td>\n      <td>...</td>\n      <td>2020-07-23 06:51:00+00:00</td>\n      <td>r20407803</td>\n      <td>certificate-ii</td>\n      <td>personal-services-worker</td>\n      <td>78420.0</td>\n      <td>78420.0</td>\n      <td>3951 5724 9004 2669</td>\n      <td>15</td>\n      <td>2019-09-27 12:53:00+00:00</td>\n      <td>55624.0</td>\n    </tr>\n    <tr>\n      <th>...</th>\n      <td>...</td>\n      <td>...</td>\n      <td>...</td>\n      <td>...</td>\n      <td>...</td>\n      <td>...</td>\n      <td>...</td>\n      <td>...</td>\n      <td>...</td>\n      <td>...</td>\n      <td>...</td>\n      <td>...</td>\n      <td>...</td>\n      <td>...</td>\n      <td>...</td>\n      <td>...</td>\n      <td>...</td>\n      <td>...</td>\n      <td>...</td>\n      <td>...</td>\n      <td>...</td>\n    </tr>\n    <tr>\n      <th>16889</th>\n      <td>i199840951</td>\n      <td>evan</td>\n      <td>maston</td>\n      <td>bruno</td>\n      <td>m</td>\n      <td>23</td>\n      <td>1996-04-03</td>\n      <td>4352 69591 2 3</td>\n      <td>42 borenore lane kenvale</td>\n      <td>borenore</td>\n      <td>...</td>\n      <td>2018-12-19 16:05:00+00:00</td>\n      <td>r40995189</td>\n      <td>advance-diploma</td>\n      <td>art-media-professional</td>\n      <td>103367.0</td>\n      <td>103367.0</td>\n      <td>4496 1676 9466 2010</td>\n      <td>5</td>\n      <td>2020-04-02 07:41:00+00:00</td>\n      <td>115695.0</td>\n    </tr>\n    <tr>\n      <th>16890</th>\n      <td>i199919157</td>\n      <td>jillian</td>\n      <td>erin</td>\n      <td>perell</td>\n      <td>f</td>\n      <td>33</td>\n      <td>1984-11-22</td>\n      <td>3005 36572 1 1</td>\n      <td>3 collins close masonic vlge</td>\n      <td>lake haven</td>\n      <td>...</td>\n      <td>2017-08-18 00:14:00+00:00</td>\n      <td>r19995719</td>\n      <td>advance-diploma</td>\n      <td>education-professional</td>\n      <td>NaN</td>\n      <td>NaN</td>\n      <td>9392 1545 1088 9225</td>\n      <td>17</td>\n      <td>2020-02-16 06:38:00+00:00</td>\n      <td>117127.5</td>\n    </tr>\n    <tr>\n      <th>16891</th>\n      <td>i199940217</td>\n      <td>martha</td>\n      <td>renee</td>\n      <td>jackson</td>\n      <td>f</td>\n      <td>15</td>\n      <td>2000-05-11</td>\n      <td>8818 54716 2 2</td>\n      <td>22 mitchell street central specialist clinic</td>\n      <td>darwin</td>\n      <td>...</td>\n      <td>2015-07-11 01:52:00+00:00</td>\n      <td>r97914920</td>\n      <td>certificate-iii</td>\n      <td>automotive-worker</td>\n      <td>91101.0</td>\n      <td>91101.0</td>\n      <td>8278 6665 0763 8863</td>\n      <td>1</td>\n      <td>2020-05-20 04:18:00+00:00</td>\n      <td>76694.0</td>\n    </tr>\n    <tr>\n      <th>16892</th>\n      <td>i199953012</td>\n      <td>thomas</td>\n      <td>joseph</td>\n      <td>petty</td>\n      <td>m</td>\n      <td>27</td>\n      <td>1989-04-22</td>\n      <td>9821 42905 2 2</td>\n      <td>20 dalley street st vincents private hospital</td>\n      <td>lismore</td>\n      <td>...</td>\n      <td>2016-06-08 08:10:00+00:00</td>\n      <td>r91953920</td>\n      <td>advance-diploma</td>\n      <td>ict-professional</td>\n      <td>87913.0</td>\n      <td>87913.0</td>\n      <td>5666 8118 7243 3499</td>\n      <td>12</td>\n      <td>2020-04-17 18:38:00+00:00</td>\n      <td>113279.5</td>\n    </tr>\n    <tr>\n      <th>16893</th>\n      <td>i199996413</td>\n      <td>monroe</td>\n      <td>lamonte</td>\n      <td>collier</td>\n      <td>m</td>\n      <td>47</td>\n      <td>1971-02-07</td>\n      <td>4419 58367 1 1</td>\n      <td>1 harveys road oberland</td>\n      <td>armidale</td>\n      <td>...</td>\n      <td>2018-03-12 03:34:00+00:00</td>\n      <td>r99934619</td>\n      <td>senior-secondary-school</td>\n      <td>farm-worker</td>\n      <td>16152.0</td>\n      <td>16152.0</td>\n      <td>4264 4192 1712 6497</td>\n      <td>30</td>\n      <td>2020-03-12 15:13:00+00:00</td>\n      <td>16004.0</td>\n    </tr>\n  </tbody>\n</table>\n<p>16894 rows × 32 columns</p>\n</div>"
     },
     "metadata": {},
     "output_type": "display_data"
    }
   ],
   "source": [
    "display(df_j)"
   ],
   "metadata": {
    "collapsed": false,
    "pycharm": {
     "name": "#%%\n"
    }
   }
  },
  {
   "cell_type": "code",
   "execution_count": 39,
   "outputs": [],
   "source": [
    "df_j['salary_fix'] = df_j.apply(lambda row: get_salary(row), axis=1)"
   ],
   "metadata": {
    "collapsed": false,
    "pycharm": {
     "name": "#%%\n"
    }
   }
  },
  {
   "cell_type": "code",
   "execution_count": 42,
   "outputs": [],
   "source": [
    "df_j.to_csv('joined_w_salary.csv', index=False)"
   ],
   "metadata": {
    "collapsed": false,
    "pycharm": {
     "name": "#%%\n"
    }
   }
  },
  {
   "cell_type": "code",
   "execution_count": null,
   "outputs": [],
   "source": [],
   "metadata": {
    "collapsed": false,
    "pycharm": {
     "name": "#%%\n"
    }
   }
  }
 ],
 "metadata": {
  "kernelspec": {
   "display_name": "Python 3",
   "language": "python",
   "name": "python3"
  },
  "language_info": {
   "codemirror_mode": {
    "name": "ipython",
    "version": 2
   },
   "file_extension": ".py",
   "mimetype": "text/x-python",
   "name": "python",
   "nbconvert_exporter": "python",
   "pygments_lexer": "ipython2",
   "version": "2.7.6"
  }
 },
 "nbformat": 4,
 "nbformat_minor": 0
}