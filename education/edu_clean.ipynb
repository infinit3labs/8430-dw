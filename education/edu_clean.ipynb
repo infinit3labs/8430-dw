{
 "cells": [
  {
   "cell_type": "code",
   "execution_count": 47,
   "metadata": {
    "collapsed": true
   },
   "outputs": [],
   "source": [
    "import pandas as pd\n",
    "import numpy as np"
   ]
  },
  {
   "cell_type": "code",
   "execution_count": 48,
   "outputs": [],
   "source": [
    "pd.set_option('display.max_columns', None)"
   ],
   "metadata": {
    "collapsed": false,
    "pycharm": {
     "name": "#%%\n"
    }
   }
  },
  {
   "cell_type": "code",
   "execution_count": 49,
   "outputs": [],
   "source": [
    "df = pd.read_csv('education.csv', dtype=str)"
   ],
   "metadata": {
    "collapsed": false,
    "pycharm": {
     "name": "#%%\n"
    }
   }
  },
  {
   "cell_type": "code",
   "execution_count": 50,
   "outputs": [],
   "source": [
    "for col in df.columns:\n",
    "    df[col] = df[col].str.strip()\n",
    "    df[col] = df[col].str.replace('  ', ' ')"
   ],
   "metadata": {
    "collapsed": false,
    "pycharm": {
     "name": "#%%\n"
    }
   }
  },
  {
   "cell_type": "code",
   "execution_count": 51,
   "outputs": [],
   "source": [
    "# Clean credit card and phone\n",
    "cols = ['credit_card_number', 'phone']\n",
    "for col in cols:\n",
    "    df[col] = df[col].str.replace(' ', '')"
   ],
   "metadata": {
    "collapsed": false,
    "pycharm": {
     "name": "#%%\n"
    }
   }
  },
  {
   "cell_type": "code",
   "execution_count": 52,
   "outputs": [],
   "source": [
    "# Convert all to lower case\n",
    "for col in df.columns:\n",
    "    df[col] = df[col].str.lower()"
   ],
   "metadata": {
    "collapsed": false,
    "pycharm": {
     "name": "#%%\n"
    }
   }
  },
  {
   "cell_type": "code",
   "execution_count": 53,
   "outputs": [],
   "source": [
    "# Fix '24' in timestamp - should be 00\n",
    "cols = ['employment_timestamp']\n",
    "for col in cols:\n",
    "    df[col] = df[col].str.replace('t24', 't00')"
   ],
   "metadata": {
    "collapsed": false,
    "pycharm": {
     "name": "#%%\n"
    }
   }
  },
  {
   "cell_type": "code",
   "execution_count": 54,
   "outputs": [],
   "source": [
    "def fix_email(row):\n",
    "    email = str(row['email'])\n",
    "    if '@' not in email:\n",
    "        try:\n",
    "            pre = email.split('.com')[0]\n",
    "            post = email.split('.com')[1]\n",
    "            pre_dot = pre.rfind('.')\n",
    "            domain = pre[pre_dot+1:]\n",
    "            user = pre[:pre_dot]\n",
    "            return f'{user}@{domain}.com{post}'\n",
    "        except IndexError:\n",
    "            return 'unknown'\n",
    "    else:\n",
    "        return email"
   ],
   "metadata": {
    "collapsed": false,
    "pycharm": {
     "name": "#%%\n"
    }
   }
  },
  {
   "cell_type": "code",
   "execution_count": 55,
   "outputs": [],
   "source": [
    "from datetime import datetime\n",
    "df['employ_ts'] = [datetime.strptime(x, '%Y-%m-%dt%H:%M%z') for x in df['employment_timestamp']]"
   ],
   "metadata": {
    "collapsed": false,
    "pycharm": {
     "name": "#%%\n"
    }
   }
  },
  {
   "cell_type": "code",
   "execution_count": 56,
   "outputs": [],
   "source": [
    "df['employ_year'] = [x.year for x in df['employ_ts']]\n",
    "df['employ_month'] = [x.month for x in df['employ_ts']]\n",
    "df['employ_day'] = [x.day for x in df['employ_ts']]\n",
    "df['employ_hour'] = [x.hour for x in df['employ_ts']]\n",
    "df['employ_minute'] = [x.minute for x in df['employ_ts']]\n",
    "df['employ_dt'] = [x.date() for x in df['employ_ts']]"
   ],
   "metadata": {
    "collapsed": false,
    "pycharm": {
     "name": "#%%\n"
    }
   }
  },
  {
   "cell_type": "code",
   "execution_count": 57,
   "outputs": [],
   "source": [
    "df['email_fix'] = df.apply(lambda row: fix_email(row), axis=1)"
   ],
   "metadata": {
    "collapsed": false,
    "pycharm": {
     "name": "#%%\n"
    }
   }
  },
  {
   "cell_type": "code",
   "execution_count": 58,
   "outputs": [
    {
     "data": {
      "text/plain": "          rec_id         ssn first_name middle_name  last_name gender  \\\n0      r64930958  f169308549      danny      harold    wallace      f   \n1      r49823664  g196248364     george       allen   morrison      m   \n2      r93715161  e111796351    stephon        hill     warren      f   \n3      r13797518  f113787195    matthew           e      heuer      m   \n4      r56226376  g166722356     melisa           t    kellogg      f   \n...          ...         ...        ...         ...        ...    ...   \n19995  r52518161  i161581251     gracie      little  ratcliffe      f   \n19996  r02061556  g152500166      allan      landon     hurdle      m   \n19997  r78814782  g178482871     joshua     michael       munn      f   \n19998  r74078696  h169776084      carol     lucille      harms      f   \n19999  r23042848  d142380248      javon        karl      golly      m   \n\n      current_age  birth_date                                 street_address  \\\n0              53   18/6/1964                                 42 bank street   \n1              10   12/3/2010                 1 leura lane watersley cottage   \n2              31  25/12/1989                39 mcnabb loop collier park vlg   \n3              23   3/11/1997                         16 walker avenue flt 2   \n4              63  12/11/1957               9 hallett close riverside garden   \n...           ...         ...                                            ...   \n19995          12   12/8/2008                 5 caporn avenue belgrave house   \n19996          52    3/8/1968                5 barrett drive floreat village   \n19997          12   22/4/2008   5 tiwi gardens road tiwi professional suites   \n19998          64   1/12/1956                          3 ford avenue harmony   \n19999          21   29/1/1999  66 waples road farmborough grove retrmnt vlge   \n\n              suburb postcode state       phone                     email  \\\n0          west ryde     2114   nsw  0297335601   danny.wallace@gmail.com   \n1           hamilton     3300   vic         NaN       spfefrcmeq@mail.com   \n2               como     6152    wa  0871245514     stephon77@hotmail.com   \n3            mitcham     3132   vic  0306974454          heuer21@mail.com   \n4            douglas     4814   qld  0732902798                       NaN   \n...              ...      ...   ...         ...                       ...   \n19995       belgrave     3160   vic  0350799998  gracie.ratcliffe@aol.com   \n19996  alice springs     0870    nt  0860047509        sspgooetal@aol.com   \n19997           tiwi     0810    nt  0869895100   joshua.munn@mail.com.au   \n19998        medowie     2318   nsw  0251342443      harms.carol@mail.com   \n19999      unanderra     2526   nsw  0281673485   javon.golly@mail.com.au   \n\n              education           occupation  salary credit_card_number  \\\n0       advance-diploma   legal-professional  112638   3321271655315968   \n1        primary-school                  NaN       0                NaN   \n2      secondary-school        casual-worker    9203   8296553479632282   \n3       bachelor-degree   legal-professional     NaN   9146477569607818   \n4        certificate-iv     other-technician  102427   1038252846505843   \n...                 ...                  ...     ...                ...   \n19995  secondary-school                  NaN       0                NaN   \n19996   certificate-iii       ict-technician   81792   6942787195925603   \n19997  secondary-school                  NaN       0                NaN   \n19998     certificate-i               clerks   -9999   1065138163971671   \n19999   advance-diploma  health-professional   -9999   3034332893550534   \n\n      years_of_experience    employment_timestamp                 employ_ts  \\\n0                      37  2017-06-02t23:53+00:00 2017-06-02 23:53:00+00:00   \n1                       0  2020-04-20t03:39+00:00 2020-04-20 03:39:00+00:00   \n2                      12  2020-05-20t06:28+00:00 2020-05-20 06:28:00+00:00   \n3                       4  2020-06-26t11:01+00:00 2020-06-26 11:01:00+00:00   \n4                      41  2017-08-16t03:18+00:00 2017-08-16 03:18:00+00:00   \n...                   ...                     ...                       ...   \n19995                   0  2020-07-12t17:35+00:00 2020-07-12 17:35:00+00:00   \n19996                  31  2018-06-01t20:09+00:00 2018-06-01 20:09:00+00:00   \n19997                   0  2020-05-21t01:32+00:00 2020-05-21 01:32:00+00:00   \n19998                  45  2020-04-24t00:34+00:00 2020-04-24 00:34:00+00:00   \n19999                   2  2020-07-01t11:27+00:00 2020-07-01 11:27:00+00:00   \n\n       employ_year  employ_month  employ_day  employ_hour  employ_minute  \\\n0             2017             6           2           23             53   \n1             2020             4          20            3             39   \n2             2020             5          20            6             28   \n3             2020             6          26           11              1   \n4             2017             8          16            3             18   \n...            ...           ...         ...          ...            ...   \n19995         2020             7          12           17             35   \n19996         2018             6           1           20              9   \n19997         2020             5          21            1             32   \n19998         2020             4          24            0             34   \n19999         2020             7           1           11             27   \n\n        employ_dt                 email_fix  \n0      2017-06-02   danny.wallace@gmail.com  \n1      2020-04-20       spfefrcmeq@mail.com  \n2      2020-05-20     stephon77@hotmail.com  \n3      2020-06-26          heuer21@mail.com  \n4      2017-08-16                   unknown  \n...           ...                       ...  \n19995  2020-07-12  gracie.ratcliffe@aol.com  \n19996  2018-06-01        sspgooetal@aol.com  \n19997  2020-05-21   joshua.munn@mail.com.au  \n19998  2020-04-24      harms.carol@mail.com  \n19999  2020-07-01   javon.golly@mail.com.au  \n\n[20000 rows x 28 columns]",
      "text/html": "<div>\n<style scoped>\n    .dataframe tbody tr th:only-of-type {\n        vertical-align: middle;\n    }\n\n    .dataframe tbody tr th {\n        vertical-align: top;\n    }\n\n    .dataframe thead th {\n        text-align: right;\n    }\n</style>\n<table border=\"1\" class=\"dataframe\">\n  <thead>\n    <tr style=\"text-align: right;\">\n      <th></th>\n      <th>rec_id</th>\n      <th>ssn</th>\n      <th>first_name</th>\n      <th>middle_name</th>\n      <th>last_name</th>\n      <th>gender</th>\n      <th>current_age</th>\n      <th>birth_date</th>\n      <th>street_address</th>\n      <th>suburb</th>\n      <th>postcode</th>\n      <th>state</th>\n      <th>phone</th>\n      <th>email</th>\n      <th>education</th>\n      <th>occupation</th>\n      <th>salary</th>\n      <th>credit_card_number</th>\n      <th>years_of_experience</th>\n      <th>employment_timestamp</th>\n      <th>employ_ts</th>\n      <th>employ_year</th>\n      <th>employ_month</th>\n      <th>employ_day</th>\n      <th>employ_hour</th>\n      <th>employ_minute</th>\n      <th>employ_dt</th>\n      <th>email_fix</th>\n    </tr>\n  </thead>\n  <tbody>\n    <tr>\n      <th>0</th>\n      <td>r64930958</td>\n      <td>f169308549</td>\n      <td>danny</td>\n      <td>harold</td>\n      <td>wallace</td>\n      <td>f</td>\n      <td>53</td>\n      <td>18/6/1964</td>\n      <td>42 bank street</td>\n      <td>west ryde</td>\n      <td>2114</td>\n      <td>nsw</td>\n      <td>0297335601</td>\n      <td>danny.wallace@gmail.com</td>\n      <td>advance-diploma</td>\n      <td>legal-professional</td>\n      <td>112638</td>\n      <td>3321271655315968</td>\n      <td>37</td>\n      <td>2017-06-02t23:53+00:00</td>\n      <td>2017-06-02 23:53:00+00:00</td>\n      <td>2017</td>\n      <td>6</td>\n      <td>2</td>\n      <td>23</td>\n      <td>53</td>\n      <td>2017-06-02</td>\n      <td>danny.wallace@gmail.com</td>\n    </tr>\n    <tr>\n      <th>1</th>\n      <td>r49823664</td>\n      <td>g196248364</td>\n      <td>george</td>\n      <td>allen</td>\n      <td>morrison</td>\n      <td>m</td>\n      <td>10</td>\n      <td>12/3/2010</td>\n      <td>1 leura lane watersley cottage</td>\n      <td>hamilton</td>\n      <td>3300</td>\n      <td>vic</td>\n      <td>NaN</td>\n      <td>spfefrcmeq@mail.com</td>\n      <td>primary-school</td>\n      <td>NaN</td>\n      <td>0</td>\n      <td>NaN</td>\n      <td>0</td>\n      <td>2020-04-20t03:39+00:00</td>\n      <td>2020-04-20 03:39:00+00:00</td>\n      <td>2020</td>\n      <td>4</td>\n      <td>20</td>\n      <td>3</td>\n      <td>39</td>\n      <td>2020-04-20</td>\n      <td>spfefrcmeq@mail.com</td>\n    </tr>\n    <tr>\n      <th>2</th>\n      <td>r93715161</td>\n      <td>e111796351</td>\n      <td>stephon</td>\n      <td>hill</td>\n      <td>warren</td>\n      <td>f</td>\n      <td>31</td>\n      <td>25/12/1989</td>\n      <td>39 mcnabb loop collier park vlg</td>\n      <td>como</td>\n      <td>6152</td>\n      <td>wa</td>\n      <td>0871245514</td>\n      <td>stephon77@hotmail.com</td>\n      <td>secondary-school</td>\n      <td>casual-worker</td>\n      <td>9203</td>\n      <td>8296553479632282</td>\n      <td>12</td>\n      <td>2020-05-20t06:28+00:00</td>\n      <td>2020-05-20 06:28:00+00:00</td>\n      <td>2020</td>\n      <td>5</td>\n      <td>20</td>\n      <td>6</td>\n      <td>28</td>\n      <td>2020-05-20</td>\n      <td>stephon77@hotmail.com</td>\n    </tr>\n    <tr>\n      <th>3</th>\n      <td>r13797518</td>\n      <td>f113787195</td>\n      <td>matthew</td>\n      <td>e</td>\n      <td>heuer</td>\n      <td>m</td>\n      <td>23</td>\n      <td>3/11/1997</td>\n      <td>16 walker avenue flt 2</td>\n      <td>mitcham</td>\n      <td>3132</td>\n      <td>vic</td>\n      <td>0306974454</td>\n      <td>heuer21@mail.com</td>\n      <td>bachelor-degree</td>\n      <td>legal-professional</td>\n      <td>NaN</td>\n      <td>9146477569607818</td>\n      <td>4</td>\n      <td>2020-06-26t11:01+00:00</td>\n      <td>2020-06-26 11:01:00+00:00</td>\n      <td>2020</td>\n      <td>6</td>\n      <td>26</td>\n      <td>11</td>\n      <td>1</td>\n      <td>2020-06-26</td>\n      <td>heuer21@mail.com</td>\n    </tr>\n    <tr>\n      <th>4</th>\n      <td>r56226376</td>\n      <td>g166722356</td>\n      <td>melisa</td>\n      <td>t</td>\n      <td>kellogg</td>\n      <td>f</td>\n      <td>63</td>\n      <td>12/11/1957</td>\n      <td>9 hallett close riverside garden</td>\n      <td>douglas</td>\n      <td>4814</td>\n      <td>qld</td>\n      <td>0732902798</td>\n      <td>NaN</td>\n      <td>certificate-iv</td>\n      <td>other-technician</td>\n      <td>102427</td>\n      <td>1038252846505843</td>\n      <td>41</td>\n      <td>2017-08-16t03:18+00:00</td>\n      <td>2017-08-16 03:18:00+00:00</td>\n      <td>2017</td>\n      <td>8</td>\n      <td>16</td>\n      <td>3</td>\n      <td>18</td>\n      <td>2017-08-16</td>\n      <td>unknown</td>\n    </tr>\n    <tr>\n      <th>...</th>\n      <td>...</td>\n      <td>...</td>\n      <td>...</td>\n      <td>...</td>\n      <td>...</td>\n      <td>...</td>\n      <td>...</td>\n      <td>...</td>\n      <td>...</td>\n      <td>...</td>\n      <td>...</td>\n      <td>...</td>\n      <td>...</td>\n      <td>...</td>\n      <td>...</td>\n      <td>...</td>\n      <td>...</td>\n      <td>...</td>\n      <td>...</td>\n      <td>...</td>\n      <td>...</td>\n      <td>...</td>\n      <td>...</td>\n      <td>...</td>\n      <td>...</td>\n      <td>...</td>\n      <td>...</td>\n      <td>...</td>\n    </tr>\n    <tr>\n      <th>19995</th>\n      <td>r52518161</td>\n      <td>i161581251</td>\n      <td>gracie</td>\n      <td>little</td>\n      <td>ratcliffe</td>\n      <td>f</td>\n      <td>12</td>\n      <td>12/8/2008</td>\n      <td>5 caporn avenue belgrave house</td>\n      <td>belgrave</td>\n      <td>3160</td>\n      <td>vic</td>\n      <td>0350799998</td>\n      <td>gracie.ratcliffe@aol.com</td>\n      <td>secondary-school</td>\n      <td>NaN</td>\n      <td>0</td>\n      <td>NaN</td>\n      <td>0</td>\n      <td>2020-07-12t17:35+00:00</td>\n      <td>2020-07-12 17:35:00+00:00</td>\n      <td>2020</td>\n      <td>7</td>\n      <td>12</td>\n      <td>17</td>\n      <td>35</td>\n      <td>2020-07-12</td>\n      <td>gracie.ratcliffe@aol.com</td>\n    </tr>\n    <tr>\n      <th>19996</th>\n      <td>r02061556</td>\n      <td>g152500166</td>\n      <td>allan</td>\n      <td>landon</td>\n      <td>hurdle</td>\n      <td>m</td>\n      <td>52</td>\n      <td>3/8/1968</td>\n      <td>5 barrett drive floreat village</td>\n      <td>alice springs</td>\n      <td>0870</td>\n      <td>nt</td>\n      <td>0860047509</td>\n      <td>sspgooetal@aol.com</td>\n      <td>certificate-iii</td>\n      <td>ict-technician</td>\n      <td>81792</td>\n      <td>6942787195925603</td>\n      <td>31</td>\n      <td>2018-06-01t20:09+00:00</td>\n      <td>2018-06-01 20:09:00+00:00</td>\n      <td>2018</td>\n      <td>6</td>\n      <td>1</td>\n      <td>20</td>\n      <td>9</td>\n      <td>2018-06-01</td>\n      <td>sspgooetal@aol.com</td>\n    </tr>\n    <tr>\n      <th>19997</th>\n      <td>r78814782</td>\n      <td>g178482871</td>\n      <td>joshua</td>\n      <td>michael</td>\n      <td>munn</td>\n      <td>f</td>\n      <td>12</td>\n      <td>22/4/2008</td>\n      <td>5 tiwi gardens road tiwi professional suites</td>\n      <td>tiwi</td>\n      <td>0810</td>\n      <td>nt</td>\n      <td>0869895100</td>\n      <td>joshua.munn@mail.com.au</td>\n      <td>secondary-school</td>\n      <td>NaN</td>\n      <td>0</td>\n      <td>NaN</td>\n      <td>0</td>\n      <td>2020-05-21t01:32+00:00</td>\n      <td>2020-05-21 01:32:00+00:00</td>\n      <td>2020</td>\n      <td>5</td>\n      <td>21</td>\n      <td>1</td>\n      <td>32</td>\n      <td>2020-05-21</td>\n      <td>joshua.munn@mail.com.au</td>\n    </tr>\n    <tr>\n      <th>19998</th>\n      <td>r74078696</td>\n      <td>h169776084</td>\n      <td>carol</td>\n      <td>lucille</td>\n      <td>harms</td>\n      <td>f</td>\n      <td>64</td>\n      <td>1/12/1956</td>\n      <td>3 ford avenue harmony</td>\n      <td>medowie</td>\n      <td>2318</td>\n      <td>nsw</td>\n      <td>0251342443</td>\n      <td>harms.carol@mail.com</td>\n      <td>certificate-i</td>\n      <td>clerks</td>\n      <td>-9999</td>\n      <td>1065138163971671</td>\n      <td>45</td>\n      <td>2020-04-24t00:34+00:00</td>\n      <td>2020-04-24 00:34:00+00:00</td>\n      <td>2020</td>\n      <td>4</td>\n      <td>24</td>\n      <td>0</td>\n      <td>34</td>\n      <td>2020-04-24</td>\n      <td>harms.carol@mail.com</td>\n    </tr>\n    <tr>\n      <th>19999</th>\n      <td>r23042848</td>\n      <td>d142380248</td>\n      <td>javon</td>\n      <td>karl</td>\n      <td>golly</td>\n      <td>m</td>\n      <td>21</td>\n      <td>29/1/1999</td>\n      <td>66 waples road farmborough grove retrmnt vlge</td>\n      <td>unanderra</td>\n      <td>2526</td>\n      <td>nsw</td>\n      <td>0281673485</td>\n      <td>javon.golly@mail.com.au</td>\n      <td>advance-diploma</td>\n      <td>health-professional</td>\n      <td>-9999</td>\n      <td>3034332893550534</td>\n      <td>2</td>\n      <td>2020-07-01t11:27+00:00</td>\n      <td>2020-07-01 11:27:00+00:00</td>\n      <td>2020</td>\n      <td>7</td>\n      <td>1</td>\n      <td>11</td>\n      <td>27</td>\n      <td>2020-07-01</td>\n      <td>javon.golly@mail.com.au</td>\n    </tr>\n  </tbody>\n</table>\n<p>20000 rows × 28 columns</p>\n</div>"
     },
     "metadata": {},
     "output_type": "display_data"
    }
   ],
   "source": [
    "display(df)"
   ],
   "metadata": {
    "collapsed": false,
    "pycharm": {
     "name": "#%%\n"
    }
   }
  },
  {
   "cell_type": "code",
   "execution_count": 59,
   "outputs": [],
   "source": [
    "# Validate if the suburb entered matches the postcode entered (0 = no, 1 = yes, invalid = postcode doesn't exist)\n",
    "pc = pd.read_csv('australian_postcodes.csv', dtype=str)\n",
    "pc = pc[['postcode', 'locality', 'state']]\n",
    "pc1 = pc.groupby('postcode')['locality'].apply(list)\n",
    "df = df.replace(np.nan, '', regex=True)"
   ],
   "metadata": {
    "collapsed": false,
    "pycharm": {
     "name": "#%%\n"
    }
   }
  },
  {
   "cell_type": "code",
   "execution_count": 60,
   "outputs": [],
   "source": [
    "def pcode_valid(row):\n",
    "    if row['postcode'] != '' and row['suburb'] != '':\n",
    "        try:\n",
    "            pcode_src = row['postcode']\n",
    "            suburb_src = row['suburb']\n",
    "            suburbs_lookup = [x.lower() for x in pc1[pcode_src]]\n",
    "            if suburb_src in suburbs_lookup:\n",
    "                return 1\n",
    "            else:\n",
    "                return 0\n",
    "        except KeyError:\n",
    "            return 'invalid postcode'"
   ],
   "metadata": {
    "collapsed": false,
    "pycharm": {
     "name": "#%%\n"
    }
   }
  },
  {
   "cell_type": "code",
   "execution_count": 61,
   "outputs": [],
   "source": [
    "df['pcode_check'] = df.apply(lambda row: pcode_valid(row), axis=1)"
   ],
   "metadata": {
    "collapsed": false,
    "pycharm": {
     "name": "#%%\n"
    }
   }
  },
  {
   "cell_type": "code",
   "execution_count": 62,
   "outputs": [],
   "source": [
    "pc2 = pc\n",
    "pc2['key'] = pc.locality + pc.state\n",
    "pc2['key'] = pc2.key.str.lower()"
   ],
   "metadata": {
    "collapsed": false,
    "pycharm": {
     "name": "#%%\n"
    }
   }
  },
  {
   "cell_type": "code",
   "execution_count": 63,
   "outputs": [],
   "source": [
    "def suburb_valid(row):\n",
    "    if row['postcode'] != '' and row['suburb'] != '' and row['state'] != '':\n",
    "        pcode_src = row['postcode']\n",
    "        suburb_src = row['suburb']\n",
    "        state_src = row['state']\n",
    "        src_key = suburb_src + state_src\n",
    "        try:\n",
    "            postcode_lookup = pc2.loc[pc2['key'] == src_key]['postcode'].values[0]\n",
    "            if pcode_src == postcode_lookup:\n",
    "                return 1\n",
    "            else:\n",
    "                return 0\n",
    "        except IndexError:\n",
    "            return 'invalid locality'"
   ],
   "metadata": {
    "collapsed": false,
    "pycharm": {
     "name": "#%%\n"
    }
   }
  },
  {
   "cell_type": "code",
   "execution_count": 64,
   "outputs": [],
   "source": [
    "df['suburb_check'] = df.apply(lambda row: suburb_valid(row), axis=1)"
   ],
   "metadata": {
    "collapsed": false,
    "pycharm": {
     "name": "#%%\n"
    }
   }
  },
  {
   "cell_type": "code",
   "execution_count": 65,
   "outputs": [],
   "source": [
    "# Convert date columns\n",
    "cols = ['birth_date']\n",
    "for col in cols:\n",
    "    df[col+'_dt'] = [datetime.strptime(x, '%d/%m/%Y') for x in df[col]]"
   ],
   "metadata": {
    "collapsed": false,
    "pycharm": {
     "name": "#%%\n"
    }
   }
  },
  {
   "cell_type": "code",
   "execution_count": 66,
   "outputs": [],
   "source": [
    "df.to_csv('education_clean_2.csv', index=False)"
   ],
   "metadata": {
    "collapsed": false,
    "pycharm": {
     "name": "#%%\n"
    }
   }
  },
  {
   "cell_type": "code",
   "execution_count": 66,
   "outputs": [],
   "source": [],
   "metadata": {
    "collapsed": false,
    "pycharm": {
     "name": "#%%\n"
    }
   }
  }
 ],
 "metadata": {
  "kernelspec": {
   "display_name": "Python 3",
   "language": "python",
   "name": "python3"
  },
  "language_info": {
   "codemirror_mode": {
    "name": "ipython",
    "version": 2
   },
   "file_extension": ".py",
   "mimetype": "text/x-python",
   "name": "python",
   "nbconvert_exporter": "python",
   "pygments_lexer": "ipython2",
   "version": "2.7.6"
  }
 },
 "nbformat": 4,
 "nbformat_minor": 0
}