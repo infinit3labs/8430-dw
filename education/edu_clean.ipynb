{
 "cells": [
  {
   "cell_type": "code",
   "execution_count": 1,
   "metadata": {
    "collapsed": true
   },
   "outputs": [],
   "source": [
    "import pandas as pd\n",
    "import numpy as np"
   ]
  },
  {
   "cell_type": "code",
   "execution_count": 2,
   "outputs": [],
   "source": [
    "pd.set_option('display.max_columns', None)"
   ],
   "metadata": {
    "collapsed": false,
    "pycharm": {
     "name": "#%%\n"
    }
   }
  },
  {
   "cell_type": "code",
   "execution_count": 3,
   "outputs": [],
   "source": [
    "df = pd.read_csv('education_merged.tsv', sep='\\t', dtype=str)"
   ],
   "metadata": {
    "collapsed": false,
    "pycharm": {
     "name": "#%%\n"
    }
   }
  },
  {
   "cell_type": "code",
   "execution_count": 4,
   "outputs": [],
   "source": [
    "# Remove whitespace and replace double spaces with single spaces\n",
    "for col in df.columns:\n",
    "    df[col] = df[col].str.strip()\n",
    "    df[col] = df[col].str.replace('  ', ' ')"
   ],
   "metadata": {
    "collapsed": false,
    "pycharm": {
     "name": "#%%\n"
    }
   }
  },
  {
   "cell_type": "code",
   "execution_count": 5,
   "outputs": [],
   "source": [
    "# Clean credit card and phone - contains double spaces as a separator\n",
    "cols = ['credit_card_number', 'phone']\n",
    "for col in cols:\n",
    "    df[col] = df[col].str.replace(' ', '')"
   ],
   "metadata": {
    "collapsed": false,
    "pycharm": {
     "name": "#%%\n"
    }
   }
  },
  {
   "cell_type": "code",
   "execution_count": 6,
   "outputs": [],
   "source": [
    "# Convert all to lower case\n",
    "for col in df.columns:\n",
    "    df[col] = df[col].str.lower()"
   ],
   "metadata": {
    "collapsed": false,
    "pycharm": {
     "name": "#%%\n"
    }
   }
  },
  {
   "cell_type": "code",
   "execution_count": 7,
   "outputs": [],
   "source": [
    "# Fix '24' in timestamp - should be 00\n",
    "cols = ['employment_timestamp']\n",
    "for col in cols:\n",
    "    df[col] = df[col].str.replace('t24', 't00')"
   ],
   "metadata": {
    "collapsed": false,
    "pycharm": {
     "name": "#%%\n"
    }
   }
  },
  {
   "cell_type": "code",
   "execution_count": 8,
   "outputs": [],
   "source": [
    "# Apply regex to determine if an email is valid or not: for this exercise, if it contains @ and at least one dot after the @\n",
    "def fix_email(row):\n",
    "    email = str(row['email'])\n",
    "    if '@' not in email:\n",
    "        try:\n",
    "            pre = email.split('.com')[0]\n",
    "            post = email.split('.com')[1]\n",
    "            pre_dot = pre.rfind('.')\n",
    "            domain = pre[pre_dot+1:]\n",
    "            user = pre[:pre_dot]\n",
    "            return f'{user}@{domain}.com{post}'\n",
    "        except IndexError:\n",
    "            return 'unknown'\n",
    "    else:\n",
    "        return email"
   ],
   "metadata": {
    "collapsed": false,
    "pycharm": {
     "name": "#%%\n"
    }
   }
  },
  {
   "cell_type": "code",
   "execution_count": 9,
   "outputs": [],
   "source": [
    "# Convert timestamp string to a datetime object to create additional time attributes\n",
    "from datetime import datetime\n",
    "df['employ_ts'] = [datetime.strptime(x, '%Y-%m-%dt%H:%M%z') for x in df['employment_timestamp']]"
   ],
   "metadata": {
    "collapsed": false,
    "pycharm": {
     "name": "#%%\n"
    }
   }
  },
  {
   "cell_type": "code",
   "execution_count": 10,
   "outputs": [],
   "source": [
    "df['employ_year'] = [x.year for x in df['employ_ts']]\n",
    "df['employ_month'] = [x.month for x in df['employ_ts']]\n",
    "df['employ_day'] = [x.day for x in df['employ_ts']]\n",
    "df['employ_hour'] = [x.hour for x in df['employ_ts']]\n",
    "df['employ_minute'] = [x.minute for x in df['employ_ts']]\n",
    "df['employ_dt'] = [x.date() for x in df['employ_ts']]"
   ],
   "metadata": {
    "collapsed": false,
    "pycharm": {
     "name": "#%%\n"
    }
   }
  },
  {
   "cell_type": "code",
   "execution_count": 11,
   "outputs": [],
   "source": [
    "# Apply email fix function above to test for valid email\n",
    "df['email_fix'] = df.apply(lambda row: fix_email(row), axis=1)"
   ],
   "metadata": {
    "collapsed": false,
    "pycharm": {
     "name": "#%%\n"
    }
   }
  },
  {
   "cell_type": "code",
   "execution_count": 12,
   "outputs": [
    {
     "data": {
      "text/plain": "          rec_id         ssn first_name middle_name  last_name gender  \\\n0      r00002288  i120208008    suzanne      yvonne   williams      f   \n1      r00005402  a104000205   mckenzie      louise    waddell      f   \n2      r00008727  h180070027     harold      eugene    godfrey      m   \n3      r00008736  a100780306      james     enrique     bryant      f   \n4      r00013881  a101880013     steven           c  greenberg      f   \n...          ...         ...        ...         ...        ...    ...   \n19166  r99977316  d197139679       karl         NaN  battersby      f   \n19167  r99978797  b187797999    wardell       lucas   lacewell      f   \n19168  r99982682  i182899926      aaron    alphonso       odom      m   \n19169  r99983010  b198900913    timothy      samuel   shumaker      f   \n19170  r99996705  d169997095    raymond       locke   ratliffe      m   \n\n      current_age  birth_date                               street_address  \\\n0              49   16/1/1971               133 lennox street cornet place   \n1              30    9/6/1990             17 walker street grevillea court   \n2              77   15/4/1943  258 spring street yukana retirement village   \n3              22   22/2/1994                             35 jubilee drive   \n4              59   24/9/1961     258 spring street yukana retirement vlge   \n...           ...         ...                                          ...   \n19166          45   19/6/1975                4 maud street rosetta village   \n19167          62   10/3/1958            21 seabrook avenue solander house   \n19168          73   30/6/1946                                4 agnew place   \n19169          25   31/8/1995                    670 princes highway apt 7   \n19170          19  18/12/2001           9 browning boulevard pacific haven   \n\n              suburb postcode state       phone                       email  \\\n0        maryborough     4650   qld  0779994542           suzanne54@aol.com   \n1      crescent head     2440   nsw  0295693627           waddell67@aol.com   \n2          toowoomba     4350   qld  0706828739  harold.godfrey@hotmail.com   \n3            waikiki     6169    wa         NaN                         NaN   \n4          toowoomba     4350   qld  0744145113        steven58@hotmail.com   \n...              ...      ...   ...         ...                         ...   \n19166  victor harbor     5211    sa  0896511605    battersby.karl@yahoo.com   \n19167   port douglas     4871   qld  0784750792        btcqkqcgqg@gmail.com   \n19168       armadale     6112    wa  0880637411              odom8@mail.com   \n19169        berwick     3806   vic  0364805172      hinnseklfj@mail.com.au   \n19170      caloundra     4551   qld  0763313356                         NaN   \n\n                     education            occupation salary  \\\n0               certificate-iv    engineering-worker  68521   \n1               certificate-ii   construction-worker  51258   \n2              certificate-iii              re-tired      0   \n3         graduate-certificate       chief-executive    NaN   \n4      senior-secondary-school      machinary-driver  -9999   \n...                        ...                   ...    ...   \n19166            certificate-i  other-service-worker  57925   \n19167            certificate-i       clerical-worker    NaN   \n19168          advance-diploma      other-technician  91999   \n19169            certificate-i                 carer  31357   \n19170            certificate-i       clerical-worker  30304   \n\n      credit_card_number years_of_experience    employment_timestamp  \\\n0       0069861693959066                  27  2017-03-15t20:09+00:00   \n1       1443975475513789                   9  2018-02-16t11:09+00:00   \n2       1266345222664678                  45  2020-04-14t06:28+00:00   \n3       5867776465639458                   7  2016-02-24t22:50+00:00   \n4       0841430012480474                  33  2013-10-15t21:45+00:00   \n...                  ...                 ...                     ...   \n19166   1405897848384726                  22  2016-01-13t11:07+00:00   \n19167   2979491057432168                  42  2019-06-05t02:49+00:00   \n19168   5101089869620641                  52  2016-01-14t10:50+00:00   \n19169   8687363058657882                   6  2020-05-03t09:50+00:00   \n19170   2492562495786565                   0  2020-07-19t16:32+00:00   \n\n                      employ_ts  employ_year  employ_month  employ_day  \\\n0     2017-03-15 20:09:00+00:00         2017             3          15   \n1     2018-02-16 11:09:00+00:00         2018             2          16   \n2     2020-04-14 06:28:00+00:00         2020             4          14   \n3     2016-02-24 22:50:00+00:00         2016             2          24   \n4     2013-10-15 21:45:00+00:00         2013            10          15   \n...                         ...          ...           ...         ...   \n19166 2016-01-13 11:07:00+00:00         2016             1          13   \n19167 2019-06-05 02:49:00+00:00         2019             6           5   \n19168 2016-01-14 10:50:00+00:00         2016             1          14   \n19169 2020-05-03 09:50:00+00:00         2020             5           3   \n19170 2020-07-19 16:32:00+00:00         2020             7          19   \n\n       employ_hour  employ_minute   employ_dt                   email_fix  \n0               20              9  2017-03-15           suzanne54@aol.com  \n1               11              9  2018-02-16           waddell67@aol.com  \n2                6             28  2020-04-14  harold.godfrey@hotmail.com  \n3               22             50  2016-02-24                     unknown  \n4               21             45  2013-10-15        steven58@hotmail.com  \n...            ...            ...         ...                         ...  \n19166           11              7  2016-01-13    battersby.karl@yahoo.com  \n19167            2             49  2019-06-05        btcqkqcgqg@gmail.com  \n19168           10             50  2016-01-14              odom8@mail.com  \n19169            9             50  2020-05-03      hinnseklfj@mail.com.au  \n19170           16             32  2020-07-19                     unknown  \n\n[19171 rows x 28 columns]",
      "text/html": "<div>\n<style scoped>\n    .dataframe tbody tr th:only-of-type {\n        vertical-align: middle;\n    }\n\n    .dataframe tbody tr th {\n        vertical-align: top;\n    }\n\n    .dataframe thead th {\n        text-align: right;\n    }\n</style>\n<table border=\"1\" class=\"dataframe\">\n  <thead>\n    <tr style=\"text-align: right;\">\n      <th></th>\n      <th>rec_id</th>\n      <th>ssn</th>\n      <th>first_name</th>\n      <th>middle_name</th>\n      <th>last_name</th>\n      <th>gender</th>\n      <th>current_age</th>\n      <th>birth_date</th>\n      <th>street_address</th>\n      <th>suburb</th>\n      <th>postcode</th>\n      <th>state</th>\n      <th>phone</th>\n      <th>email</th>\n      <th>education</th>\n      <th>occupation</th>\n      <th>salary</th>\n      <th>credit_card_number</th>\n      <th>years_of_experience</th>\n      <th>employment_timestamp</th>\n      <th>employ_ts</th>\n      <th>employ_year</th>\n      <th>employ_month</th>\n      <th>employ_day</th>\n      <th>employ_hour</th>\n      <th>employ_minute</th>\n      <th>employ_dt</th>\n      <th>email_fix</th>\n    </tr>\n  </thead>\n  <tbody>\n    <tr>\n      <th>0</th>\n      <td>r00002288</td>\n      <td>i120208008</td>\n      <td>suzanne</td>\n      <td>yvonne</td>\n      <td>williams</td>\n      <td>f</td>\n      <td>49</td>\n      <td>16/1/1971</td>\n      <td>133 lennox street cornet place</td>\n      <td>maryborough</td>\n      <td>4650</td>\n      <td>qld</td>\n      <td>0779994542</td>\n      <td>suzanne54@aol.com</td>\n      <td>certificate-iv</td>\n      <td>engineering-worker</td>\n      <td>68521</td>\n      <td>0069861693959066</td>\n      <td>27</td>\n      <td>2017-03-15t20:09+00:00</td>\n      <td>2017-03-15 20:09:00+00:00</td>\n      <td>2017</td>\n      <td>3</td>\n      <td>15</td>\n      <td>20</td>\n      <td>9</td>\n      <td>2017-03-15</td>\n      <td>suzanne54@aol.com</td>\n    </tr>\n    <tr>\n      <th>1</th>\n      <td>r00005402</td>\n      <td>a104000205</td>\n      <td>mckenzie</td>\n      <td>louise</td>\n      <td>waddell</td>\n      <td>f</td>\n      <td>30</td>\n      <td>9/6/1990</td>\n      <td>17 walker street grevillea court</td>\n      <td>crescent head</td>\n      <td>2440</td>\n      <td>nsw</td>\n      <td>0295693627</td>\n      <td>waddell67@aol.com</td>\n      <td>certificate-ii</td>\n      <td>construction-worker</td>\n      <td>51258</td>\n      <td>1443975475513789</td>\n      <td>9</td>\n      <td>2018-02-16t11:09+00:00</td>\n      <td>2018-02-16 11:09:00+00:00</td>\n      <td>2018</td>\n      <td>2</td>\n      <td>16</td>\n      <td>11</td>\n      <td>9</td>\n      <td>2018-02-16</td>\n      <td>waddell67@aol.com</td>\n    </tr>\n    <tr>\n      <th>2</th>\n      <td>r00008727</td>\n      <td>h180070027</td>\n      <td>harold</td>\n      <td>eugene</td>\n      <td>godfrey</td>\n      <td>m</td>\n      <td>77</td>\n      <td>15/4/1943</td>\n      <td>258 spring street yukana retirement village</td>\n      <td>toowoomba</td>\n      <td>4350</td>\n      <td>qld</td>\n      <td>0706828739</td>\n      <td>harold.godfrey@hotmail.com</td>\n      <td>certificate-iii</td>\n      <td>re-tired</td>\n      <td>0</td>\n      <td>1266345222664678</td>\n      <td>45</td>\n      <td>2020-04-14t06:28+00:00</td>\n      <td>2020-04-14 06:28:00+00:00</td>\n      <td>2020</td>\n      <td>4</td>\n      <td>14</td>\n      <td>6</td>\n      <td>28</td>\n      <td>2020-04-14</td>\n      <td>harold.godfrey@hotmail.com</td>\n    </tr>\n    <tr>\n      <th>3</th>\n      <td>r00008736</td>\n      <td>a100780306</td>\n      <td>james</td>\n      <td>enrique</td>\n      <td>bryant</td>\n      <td>f</td>\n      <td>22</td>\n      <td>22/2/1994</td>\n      <td>35 jubilee drive</td>\n      <td>waikiki</td>\n      <td>6169</td>\n      <td>wa</td>\n      <td>NaN</td>\n      <td>NaN</td>\n      <td>graduate-certificate</td>\n      <td>chief-executive</td>\n      <td>NaN</td>\n      <td>5867776465639458</td>\n      <td>7</td>\n      <td>2016-02-24t22:50+00:00</td>\n      <td>2016-02-24 22:50:00+00:00</td>\n      <td>2016</td>\n      <td>2</td>\n      <td>24</td>\n      <td>22</td>\n      <td>50</td>\n      <td>2016-02-24</td>\n      <td>unknown</td>\n    </tr>\n    <tr>\n      <th>4</th>\n      <td>r00013881</td>\n      <td>a101880013</td>\n      <td>steven</td>\n      <td>c</td>\n      <td>greenberg</td>\n      <td>f</td>\n      <td>59</td>\n      <td>24/9/1961</td>\n      <td>258 spring street yukana retirement vlge</td>\n      <td>toowoomba</td>\n      <td>4350</td>\n      <td>qld</td>\n      <td>0744145113</td>\n      <td>steven58@hotmail.com</td>\n      <td>senior-secondary-school</td>\n      <td>machinary-driver</td>\n      <td>-9999</td>\n      <td>0841430012480474</td>\n      <td>33</td>\n      <td>2013-10-15t21:45+00:00</td>\n      <td>2013-10-15 21:45:00+00:00</td>\n      <td>2013</td>\n      <td>10</td>\n      <td>15</td>\n      <td>21</td>\n      <td>45</td>\n      <td>2013-10-15</td>\n      <td>steven58@hotmail.com</td>\n    </tr>\n    <tr>\n      <th>...</th>\n      <td>...</td>\n      <td>...</td>\n      <td>...</td>\n      <td>...</td>\n      <td>...</td>\n      <td>...</td>\n      <td>...</td>\n      <td>...</td>\n      <td>...</td>\n      <td>...</td>\n      <td>...</td>\n      <td>...</td>\n      <td>...</td>\n      <td>...</td>\n      <td>...</td>\n      <td>...</td>\n      <td>...</td>\n      <td>...</td>\n      <td>...</td>\n      <td>...</td>\n      <td>...</td>\n      <td>...</td>\n      <td>...</td>\n      <td>...</td>\n      <td>...</td>\n      <td>...</td>\n      <td>...</td>\n      <td>...</td>\n    </tr>\n    <tr>\n      <th>19166</th>\n      <td>r99977316</td>\n      <td>d197139679</td>\n      <td>karl</td>\n      <td>NaN</td>\n      <td>battersby</td>\n      <td>f</td>\n      <td>45</td>\n      <td>19/6/1975</td>\n      <td>4 maud street rosetta village</td>\n      <td>victor harbor</td>\n      <td>5211</td>\n      <td>sa</td>\n      <td>0896511605</td>\n      <td>battersby.karl@yahoo.com</td>\n      <td>certificate-i</td>\n      <td>other-service-worker</td>\n      <td>57925</td>\n      <td>1405897848384726</td>\n      <td>22</td>\n      <td>2016-01-13t11:07+00:00</td>\n      <td>2016-01-13 11:07:00+00:00</td>\n      <td>2016</td>\n      <td>1</td>\n      <td>13</td>\n      <td>11</td>\n      <td>7</td>\n      <td>2016-01-13</td>\n      <td>battersby.karl@yahoo.com</td>\n    </tr>\n    <tr>\n      <th>19167</th>\n      <td>r99978797</td>\n      <td>b187797999</td>\n      <td>wardell</td>\n      <td>lucas</td>\n      <td>lacewell</td>\n      <td>f</td>\n      <td>62</td>\n      <td>10/3/1958</td>\n      <td>21 seabrook avenue solander house</td>\n      <td>port douglas</td>\n      <td>4871</td>\n      <td>qld</td>\n      <td>0784750792</td>\n      <td>btcqkqcgqg@gmail.com</td>\n      <td>certificate-i</td>\n      <td>clerical-worker</td>\n      <td>NaN</td>\n      <td>2979491057432168</td>\n      <td>42</td>\n      <td>2019-06-05t02:49+00:00</td>\n      <td>2019-06-05 02:49:00+00:00</td>\n      <td>2019</td>\n      <td>6</td>\n      <td>5</td>\n      <td>2</td>\n      <td>49</td>\n      <td>2019-06-05</td>\n      <td>btcqkqcgqg@gmail.com</td>\n    </tr>\n    <tr>\n      <th>19168</th>\n      <td>r99982682</td>\n      <td>i182899926</td>\n      <td>aaron</td>\n      <td>alphonso</td>\n      <td>odom</td>\n      <td>m</td>\n      <td>73</td>\n      <td>30/6/1946</td>\n      <td>4 agnew place</td>\n      <td>armadale</td>\n      <td>6112</td>\n      <td>wa</td>\n      <td>0880637411</td>\n      <td>odom8@mail.com</td>\n      <td>advance-diploma</td>\n      <td>other-technician</td>\n      <td>91999</td>\n      <td>5101089869620641</td>\n      <td>52</td>\n      <td>2016-01-14t10:50+00:00</td>\n      <td>2016-01-14 10:50:00+00:00</td>\n      <td>2016</td>\n      <td>1</td>\n      <td>14</td>\n      <td>10</td>\n      <td>50</td>\n      <td>2016-01-14</td>\n      <td>odom8@mail.com</td>\n    </tr>\n    <tr>\n      <th>19169</th>\n      <td>r99983010</td>\n      <td>b198900913</td>\n      <td>timothy</td>\n      <td>samuel</td>\n      <td>shumaker</td>\n      <td>f</td>\n      <td>25</td>\n      <td>31/8/1995</td>\n      <td>670 princes highway apt 7</td>\n      <td>berwick</td>\n      <td>3806</td>\n      <td>vic</td>\n      <td>0364805172</td>\n      <td>hinnseklfj@mail.com.au</td>\n      <td>certificate-i</td>\n      <td>carer</td>\n      <td>31357</td>\n      <td>8687363058657882</td>\n      <td>6</td>\n      <td>2020-05-03t09:50+00:00</td>\n      <td>2020-05-03 09:50:00+00:00</td>\n      <td>2020</td>\n      <td>5</td>\n      <td>3</td>\n      <td>9</td>\n      <td>50</td>\n      <td>2020-05-03</td>\n      <td>hinnseklfj@mail.com.au</td>\n    </tr>\n    <tr>\n      <th>19170</th>\n      <td>r99996705</td>\n      <td>d169997095</td>\n      <td>raymond</td>\n      <td>locke</td>\n      <td>ratliffe</td>\n      <td>m</td>\n      <td>19</td>\n      <td>18/12/2001</td>\n      <td>9 browning boulevard pacific haven</td>\n      <td>caloundra</td>\n      <td>4551</td>\n      <td>qld</td>\n      <td>0763313356</td>\n      <td>NaN</td>\n      <td>certificate-i</td>\n      <td>clerical-worker</td>\n      <td>30304</td>\n      <td>2492562495786565</td>\n      <td>0</td>\n      <td>2020-07-19t16:32+00:00</td>\n      <td>2020-07-19 16:32:00+00:00</td>\n      <td>2020</td>\n      <td>7</td>\n      <td>19</td>\n      <td>16</td>\n      <td>32</td>\n      <td>2020-07-19</td>\n      <td>unknown</td>\n    </tr>\n  </tbody>\n</table>\n<p>19171 rows × 28 columns</p>\n</div>"
     },
     "metadata": {},
     "output_type": "display_data"
    }
   ],
   "source": [
    "display(df)"
   ],
   "metadata": {
    "collapsed": false,
    "pycharm": {
     "name": "#%%\n"
    }
   }
  },
  {
   "cell_type": "code",
   "execution_count": 59,
   "outputs": [],
   "source": [
    "# # Validate if the suburb entered matches the postcode entered (0 = no, 1 = yes, invalid = postcode doesn't exist)\n",
    "# # Where it is invalid the values can be manually updated with a lookup - but this is not done for this exercise\n",
    "# # Relevance of location not important for the analysis requested - so not updated in the final dataset\n",
    "# pc = pd.read_csv('australian_postcodes.csv', dtype=str)\n",
    "# pc = pc[['postcode', 'locality', 'state']]\n",
    "# pc1 = pc.groupby('postcode')['locality'].apply(list)\n",
    "# df = df.replace(np.nan, '', regex=True)"
   ],
   "metadata": {
    "collapsed": false,
    "pycharm": {
     "name": "#%%\n"
    }
   }
  },
  {
   "cell_type": "code",
   "execution_count": 60,
   "outputs": [],
   "source": [
    "# def pcode_valid(row):\n",
    "#     if row['postcode'] != '' and row['suburb'] != '':\n",
    "#         try:\n",
    "#             pcode_src = row['postcode']\n",
    "#             suburb_src = row['suburb']\n",
    "#             suburbs_lookup = [x.lower() for x in pc1[pcode_src]]\n",
    "#             if suburb_src in suburbs_lookup:\n",
    "#                 return 1\n",
    "#             else:\n",
    "#                 return 0\n",
    "#         except KeyError:\n",
    "#             return 'invalid postcode'"
   ],
   "metadata": {
    "collapsed": false,
    "pycharm": {
     "name": "#%%\n"
    }
   }
  },
  {
   "cell_type": "code",
   "execution_count": 61,
   "outputs": [],
   "source": [
    "# df['pcode_check'] = df.apply(lambda row: pcode_valid(row), axis=1)"
   ],
   "metadata": {
    "collapsed": false,
    "pycharm": {
     "name": "#%%\n"
    }
   }
  },
  {
   "cell_type": "code",
   "execution_count": 62,
   "outputs": [],
   "source": [
    "# pc2 = pc\n",
    "# pc2['key'] = pc.locality + pc.state\n",
    "# pc2['key'] = pc2.key.str.lower()"
   ],
   "metadata": {
    "collapsed": false,
    "pycharm": {
     "name": "#%%\n"
    }
   }
  },
  {
   "cell_type": "code",
   "execution_count": 63,
   "outputs": [],
   "source": [
    "# def suburb_valid(row):\n",
    "#     if row['postcode'] != '' and row['suburb'] != '' and row['state'] != '':\n",
    "#         pcode_src = row['postcode']\n",
    "#         suburb_src = row['suburb']\n",
    "#         state_src = row['state']\n",
    "#         src_key = suburb_src + state_src\n",
    "#         try:\n",
    "#             postcode_lookup = pc2.loc[pc2['key'] == src_key]['postcode'].values[0]\n",
    "#             if pcode_src == postcode_lookup:\n",
    "#                 return 1\n",
    "#             else:\n",
    "#                 return 0\n",
    "#         except IndexError:\n",
    "#             return 'invalid locality'"
   ],
   "metadata": {
    "collapsed": false,
    "pycharm": {
     "name": "#%%\n"
    }
   }
  },
  {
   "cell_type": "code",
   "execution_count": 64,
   "outputs": [],
   "source": [
    "# df['suburb_check'] = df.apply(lambda row: suburb_valid(row), axis=1)"
   ],
   "metadata": {
    "collapsed": false,
    "pycharm": {
     "name": "#%%\n"
    }
   }
  },
  {
   "cell_type": "code",
   "execution_count": 13,
   "outputs": [],
   "source": [
    "# Convert date columns to yyyy-mm-dd for input into database\n",
    "cols = ['birth_date']\n",
    "for col in cols:\n",
    "    df[col+'_dt'] = [datetime.strptime(x, '%d/%m/%Y') for x in df[col]]"
   ],
   "metadata": {
    "collapsed": false,
    "pycharm": {
     "name": "#%%\n"
    }
   }
  },
  {
   "cell_type": "code",
   "execution_count": 14,
   "outputs": [],
   "source": [
    "df.to_csv('education_clean_3.csv', index=False)"
   ],
   "metadata": {
    "collapsed": false,
    "pycharm": {
     "name": "#%%\n"
    }
   }
  },
  {
   "cell_type": "code",
   "execution_count": 66,
   "outputs": [],
   "source": [],
   "metadata": {
    "collapsed": false,
    "pycharm": {
     "name": "#%%\n"
    }
   }
  }
 ],
 "metadata": {
  "kernelspec": {
   "display_name": "Python 3",
   "language": "python",
   "name": "python3"
  },
  "language_info": {
   "codemirror_mode": {
    "name": "ipython",
    "version": 2
   },
   "file_extension": ".py",
   "mimetype": "text/x-python",
   "name": "python",
   "nbconvert_exporter": "python",
   "pygments_lexer": "ipython2",
   "version": "2.7.6"
  }
 },
 "nbformat": 4,
 "nbformat_minor": 0
}