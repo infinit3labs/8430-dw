{
 "cells": [
  {
   "cell_type": "code",
   "execution_count": 22,
   "metadata": {
    "collapsed": true
   },
   "outputs": [],
   "source": [
    "import pandas as pd\n",
    "import os\n",
    "import sqlalchemy as sa\n",
    "import numpy as np"
   ]
  },
  {
   "cell_type": "code",
   "execution_count": 23,
   "outputs": [],
   "source": [
    "pd.set_option('display.max_columns', None)"
   ],
   "metadata": {
    "collapsed": false,
    "pycharm": {
     "name": "#%%\n"
    }
   }
  },
  {
   "cell_type": "code",
   "execution_count": 24,
   "outputs": [],
   "source": [
    "db_user = os.getenv('SQL_USER')\n",
    "db_host = os.getenv('SQL_HOST')\n",
    "db_pwd = os.getenv('SQL_PWD')"
   ],
   "metadata": {
    "collapsed": false,
    "pycharm": {
     "name": "#%%\n"
    }
   }
  },
  {
   "cell_type": "code",
   "execution_count": 25,
   "outputs": [],
   "source": [
    "engine = sa.create_engine(f'mssql+pyodbc://{db_user}:{db_pwd}@{db_host}/wrangling?driver=ODBC+Driver+17+for+SQL+Server')"
   ],
   "metadata": {
    "collapsed": false,
    "pycharm": {
     "name": "#%%\n"
    }
   }
  },
  {
   "cell_type": "code",
   "execution_count": 26,
   "outputs": [],
   "source": [
    "df = pd.read_sql_table('temp_final', engine, 'dbo')"
   ],
   "metadata": {
    "collapsed": false,
    "pycharm": {
     "name": "#%%\n"
    }
   }
  },
  {
   "cell_type": "code",
   "execution_count": 27,
   "outputs": [
    {
     "data": {
      "text/plain": "              ssn   first_name middle_name last_name gender  \\\n0      a100050102       justin       elton     verga      m   \n1      a100091149  christopher      jerome   herring      m   \n2      a100222723        billy       david      ross      m   \n3      a100248307       howard     stephen    turner      m   \n4      a100317978        keith      andrew      darr      m   \n...           ...          ...         ...       ...    ...   \n16060  i199840951         evan      maston     bruno      m   \n16061  i199919157      jillian        erin    perell      f   \n16062  i199940217       martha       renee   jackson      f   \n16063  i199953012       thomas      joseph     petty      m   \n16064  i199996413       monroe     lamonte   collier      m   \n\n       age_at_consultation  birth_date medicare_number  \\\n0                       36  1980-06-07  8250 99889 1 2   \n1                       21  1995-10-20  2939 34141 2 3   \n2                       15  1998-05-17  5417 95547 2 3   \n3                       36  1985-01-09  6472 28876 1 1   \n4                       14  2002-07-01  4693 25183 1 2   \n...                    ...         ...             ...   \n16060                   23  1996-04-03  4352 69591 2 3   \n16061                   33  1984-11-22  3005 36572 1 1   \n16062                   15  2000-05-11  8818 54716 2 2   \n16063                   27  1989-04-22  9821 42905 2 2   \n16064                   47  1971-02-07  4419 58367 1 1   \n\n                                      street_address           suburb state  \\\n0             40 marcus clarke street canberra house    canberra city   act   \n1                17 inner harbour drive marina palms  patterson lakes   vic   \n2                      41 cavenagh street plaza bldg           darwin    nt   \n3                         1351 sidonia road balkebah          baynton   vic   \n4                             4 morris way jerrabung           bunyip   vic   \n...                                              ...              ...   ...   \n16060                       42 borenore lane kenvale         borenore   nsw   \n16061                   3 collins close masonic vlge       lake haven   nsw   \n16062   22 mitchell street central specialist clinic           darwin    nt   \n16063  20 dalley street st vincents private hospital          lismore   nsw   \n16064                        1 harveys road oberland         armidale   nsw   \n\n      postcode         phone                            email  \\\n0         2601  02 5920 4201            verga.justin@mail.com   \n1         3197  03 6566 8753  christopher.herring@mail.com.au   \n2         0800  08 4559 6907               ross94@mail.com.au   \n3         3444  03 4442 1139          howard.turner@gmail.com   \n4         3815  03 8293 5481               darr60@mail.com.au   \n...        ...           ...                              ...   \n16060     2800  02 1588 8711              bruno50@hotmail.com   \n16061     2263  02 9404 9177          perell.jillian@mail.com   \n16062     0800  08 6383 0084       jackson.martha@mail.com.au   \n16063     2480  02 5323 4883                  petty88@aol.com   \n16064     2350  02 3151 8733             monroe10@hotmail.com   \n\n         marital_status  height  weight  bmi  blood_pressure  \\\n0               married     191      67   18              76   \n1      married-de-facto     174     108   35              77   \n2        not-applicable     176      73   23              79   \n3               married     187     128   36              74   \n4        not-applicable     157      45   18              70   \n...                 ...     ...     ...  ...             ...   \n16060           married     194      75   19              74   \n16061           married     199      84   21              76   \n16062    not-applicable     177      61   19              65   \n16063           widowed     176     140   45              78   \n16064       not-married     174     111   36              74   \n\n       cholesterol_level  smoking_status                  clinical_notes  \\\n0                    138               0         urinary-tract-infection   \n1                    160               0                       back-pain   \n2                    191               0                        insomnia   \n3                    132               0                        insomnia   \n4                    139               0                  shuffling-gait   \n...                  ...             ...                             ...   \n16060                181               0                  depressed-mood   \n16061                140               0                             flu   \n16062                218               0                      leg-injury   \n16063                266               1  cataract-right-eye-(worsening)   \n16064                195               0                    pre-glaucoma   \n\n          consultation_timestamp                education  \\\n0      2016-01-26 06:44:00+00:00           certificate-iv   \n1      2016-07-18 13:58:00+00:00          certificate-iii   \n2      2013-03-26 21:59:00+00:00         secondary-school   \n3      2020-07-23 06:51:00+00:00           certificate-ii   \n4      2016-08-17 21:12:00+00:00  senior-secondary-school   \n...                          ...                      ...   \n16060  2018-12-19 16:05:00+00:00          advance-diploma   \n16061  2017-08-18 00:14:00+00:00          advance-diploma   \n16062  2015-07-11 01:52:00+00:00          certificate-iii   \n16063  2016-06-08 08:10:00+00:00          advance-diploma   \n16064  2018-03-12 03:34:00+00:00  senior-secondary-school   \n\n                     occupation  salary   credit_card_number  \\\n0                  other-worker   78359  7426 3365 3452 2350   \n1                ict-technician  104897  7356 0165 1634 7804   \n2              machinary-driver   14251  5837 2758 2366 5640   \n3      personal-services-worker   78420  3951 5724 9004 2669   \n4                 casual-worker    6909  8247 4592 3961 9751   \n...                         ...     ...                  ...   \n16060    art-media-professional  103367  4496 1676 9466 2010   \n16061    education-professional  112247  9392 1545 1088 9225   \n16062         automotive-worker   91101  8278 6665 0763 8863   \n16063          ict-professional   87913  5666 8118 7243 3499   \n16064               farm-worker   16152  4264 4192 1712 6497   \n\n       years_of_experience       employment_timestamp medical_rec_id  \\\n0                       21  2020-04-15 13:24:00+00:00      rec-86693   \n1                        6  2020-06-13 01:21:00+00:00      rec-10443   \n2                        3  2020-04-05 06:45:00+00:00      rec-71086   \n3                       15  2019-09-27 12:53:00+00:00      rec-56402   \n4                        1  2020-01-24 07:11:00+00:00        rec-674   \n...                    ...                        ...            ...   \n16060                    5  2020-04-02 07:41:00+00:00      rec-96364   \n16061                   17  2020-02-16 06:38:00+00:00       rec-6949   \n16062                    1  2020-05-20 04:18:00+00:00       rec-2966   \n16063                   12  2020-04-17 18:38:00+00:00      rec-67404   \n16064                   30  2020-03-12 15:13:00+00:00      rec-94652   \n\n      education_rec_id  \n0            r15002000  \n1            r90040119  \n2            r23272200  \n3            r20407803  \n4            r97030187  \n...                ...  \n16060        r40995189  \n16061        r19995719  \n16062        r97914920  \n16063        r91953920  \n16064        r99934619  \n\n[16065 rows x 31 columns]",
      "text/html": "<div>\n<style scoped>\n    .dataframe tbody tr th:only-of-type {\n        vertical-align: middle;\n    }\n\n    .dataframe tbody tr th {\n        vertical-align: top;\n    }\n\n    .dataframe thead th {\n        text-align: right;\n    }\n</style>\n<table border=\"1\" class=\"dataframe\">\n  <thead>\n    <tr style=\"text-align: right;\">\n      <th></th>\n      <th>ssn</th>\n      <th>first_name</th>\n      <th>middle_name</th>\n      <th>last_name</th>\n      <th>gender</th>\n      <th>age_at_consultation</th>\n      <th>birth_date</th>\n      <th>medicare_number</th>\n      <th>street_address</th>\n      <th>suburb</th>\n      <th>state</th>\n      <th>postcode</th>\n      <th>phone</th>\n      <th>email</th>\n      <th>marital_status</th>\n      <th>height</th>\n      <th>weight</th>\n      <th>bmi</th>\n      <th>blood_pressure</th>\n      <th>cholesterol_level</th>\n      <th>smoking_status</th>\n      <th>clinical_notes</th>\n      <th>consultation_timestamp</th>\n      <th>education</th>\n      <th>occupation</th>\n      <th>salary</th>\n      <th>credit_card_number</th>\n      <th>years_of_experience</th>\n      <th>employment_timestamp</th>\n      <th>medical_rec_id</th>\n      <th>education_rec_id</th>\n    </tr>\n  </thead>\n  <tbody>\n    <tr>\n      <th>0</th>\n      <td>a100050102</td>\n      <td>justin</td>\n      <td>elton</td>\n      <td>verga</td>\n      <td>m</td>\n      <td>36</td>\n      <td>1980-06-07</td>\n      <td>8250 99889 1 2</td>\n      <td>40 marcus clarke street canberra house</td>\n      <td>canberra city</td>\n      <td>act</td>\n      <td>2601</td>\n      <td>02 5920 4201</td>\n      <td>verga.justin@mail.com</td>\n      <td>married</td>\n      <td>191</td>\n      <td>67</td>\n      <td>18</td>\n      <td>76</td>\n      <td>138</td>\n      <td>0</td>\n      <td>urinary-tract-infection</td>\n      <td>2016-01-26 06:44:00+00:00</td>\n      <td>certificate-iv</td>\n      <td>other-worker</td>\n      <td>78359</td>\n      <td>7426 3365 3452 2350</td>\n      <td>21</td>\n      <td>2020-04-15 13:24:00+00:00</td>\n      <td>rec-86693</td>\n      <td>r15002000</td>\n    </tr>\n    <tr>\n      <th>1</th>\n      <td>a100091149</td>\n      <td>christopher</td>\n      <td>jerome</td>\n      <td>herring</td>\n      <td>m</td>\n      <td>21</td>\n      <td>1995-10-20</td>\n      <td>2939 34141 2 3</td>\n      <td>17 inner harbour drive marina palms</td>\n      <td>patterson lakes</td>\n      <td>vic</td>\n      <td>3197</td>\n      <td>03 6566 8753</td>\n      <td>christopher.herring@mail.com.au</td>\n      <td>married-de-facto</td>\n      <td>174</td>\n      <td>108</td>\n      <td>35</td>\n      <td>77</td>\n      <td>160</td>\n      <td>0</td>\n      <td>back-pain</td>\n      <td>2016-07-18 13:58:00+00:00</td>\n      <td>certificate-iii</td>\n      <td>ict-technician</td>\n      <td>104897</td>\n      <td>7356 0165 1634 7804</td>\n      <td>6</td>\n      <td>2020-06-13 01:21:00+00:00</td>\n      <td>rec-10443</td>\n      <td>r90040119</td>\n    </tr>\n    <tr>\n      <th>2</th>\n      <td>a100222723</td>\n      <td>billy</td>\n      <td>david</td>\n      <td>ross</td>\n      <td>m</td>\n      <td>15</td>\n      <td>1998-05-17</td>\n      <td>5417 95547 2 3</td>\n      <td>41 cavenagh street plaza bldg</td>\n      <td>darwin</td>\n      <td>nt</td>\n      <td>0800</td>\n      <td>08 4559 6907</td>\n      <td>ross94@mail.com.au</td>\n      <td>not-applicable</td>\n      <td>176</td>\n      <td>73</td>\n      <td>23</td>\n      <td>79</td>\n      <td>191</td>\n      <td>0</td>\n      <td>insomnia</td>\n      <td>2013-03-26 21:59:00+00:00</td>\n      <td>secondary-school</td>\n      <td>machinary-driver</td>\n      <td>14251</td>\n      <td>5837 2758 2366 5640</td>\n      <td>3</td>\n      <td>2020-04-05 06:45:00+00:00</td>\n      <td>rec-71086</td>\n      <td>r23272200</td>\n    </tr>\n    <tr>\n      <th>3</th>\n      <td>a100248307</td>\n      <td>howard</td>\n      <td>stephen</td>\n      <td>turner</td>\n      <td>m</td>\n      <td>36</td>\n      <td>1985-01-09</td>\n      <td>6472 28876 1 1</td>\n      <td>1351 sidonia road balkebah</td>\n      <td>baynton</td>\n      <td>vic</td>\n      <td>3444</td>\n      <td>03 4442 1139</td>\n      <td>howard.turner@gmail.com</td>\n      <td>married</td>\n      <td>187</td>\n      <td>128</td>\n      <td>36</td>\n      <td>74</td>\n      <td>132</td>\n      <td>0</td>\n      <td>insomnia</td>\n      <td>2020-07-23 06:51:00+00:00</td>\n      <td>certificate-ii</td>\n      <td>personal-services-worker</td>\n      <td>78420</td>\n      <td>3951 5724 9004 2669</td>\n      <td>15</td>\n      <td>2019-09-27 12:53:00+00:00</td>\n      <td>rec-56402</td>\n      <td>r20407803</td>\n    </tr>\n    <tr>\n      <th>4</th>\n      <td>a100317978</td>\n      <td>keith</td>\n      <td>andrew</td>\n      <td>darr</td>\n      <td>m</td>\n      <td>14</td>\n      <td>2002-07-01</td>\n      <td>4693 25183 1 2</td>\n      <td>4 morris way jerrabung</td>\n      <td>bunyip</td>\n      <td>vic</td>\n      <td>3815</td>\n      <td>03 8293 5481</td>\n      <td>darr60@mail.com.au</td>\n      <td>not-applicable</td>\n      <td>157</td>\n      <td>45</td>\n      <td>18</td>\n      <td>70</td>\n      <td>139</td>\n      <td>0</td>\n      <td>shuffling-gait</td>\n      <td>2016-08-17 21:12:00+00:00</td>\n      <td>senior-secondary-school</td>\n      <td>casual-worker</td>\n      <td>6909</td>\n      <td>8247 4592 3961 9751</td>\n      <td>1</td>\n      <td>2020-01-24 07:11:00+00:00</td>\n      <td>rec-674</td>\n      <td>r97030187</td>\n    </tr>\n    <tr>\n      <th>...</th>\n      <td>...</td>\n      <td>...</td>\n      <td>...</td>\n      <td>...</td>\n      <td>...</td>\n      <td>...</td>\n      <td>...</td>\n      <td>...</td>\n      <td>...</td>\n      <td>...</td>\n      <td>...</td>\n      <td>...</td>\n      <td>...</td>\n      <td>...</td>\n      <td>...</td>\n      <td>...</td>\n      <td>...</td>\n      <td>...</td>\n      <td>...</td>\n      <td>...</td>\n      <td>...</td>\n      <td>...</td>\n      <td>...</td>\n      <td>...</td>\n      <td>...</td>\n      <td>...</td>\n      <td>...</td>\n      <td>...</td>\n      <td>...</td>\n      <td>...</td>\n      <td>...</td>\n    </tr>\n    <tr>\n      <th>16060</th>\n      <td>i199840951</td>\n      <td>evan</td>\n      <td>maston</td>\n      <td>bruno</td>\n      <td>m</td>\n      <td>23</td>\n      <td>1996-04-03</td>\n      <td>4352 69591 2 3</td>\n      <td>42 borenore lane kenvale</td>\n      <td>borenore</td>\n      <td>nsw</td>\n      <td>2800</td>\n      <td>02 1588 8711</td>\n      <td>bruno50@hotmail.com</td>\n      <td>married</td>\n      <td>194</td>\n      <td>75</td>\n      <td>19</td>\n      <td>74</td>\n      <td>181</td>\n      <td>0</td>\n      <td>depressed-mood</td>\n      <td>2018-12-19 16:05:00+00:00</td>\n      <td>advance-diploma</td>\n      <td>art-media-professional</td>\n      <td>103367</td>\n      <td>4496 1676 9466 2010</td>\n      <td>5</td>\n      <td>2020-04-02 07:41:00+00:00</td>\n      <td>rec-96364</td>\n      <td>r40995189</td>\n    </tr>\n    <tr>\n      <th>16061</th>\n      <td>i199919157</td>\n      <td>jillian</td>\n      <td>erin</td>\n      <td>perell</td>\n      <td>f</td>\n      <td>33</td>\n      <td>1984-11-22</td>\n      <td>3005 36572 1 1</td>\n      <td>3 collins close masonic vlge</td>\n      <td>lake haven</td>\n      <td>nsw</td>\n      <td>2263</td>\n      <td>02 9404 9177</td>\n      <td>perell.jillian@mail.com</td>\n      <td>married</td>\n      <td>199</td>\n      <td>84</td>\n      <td>21</td>\n      <td>76</td>\n      <td>140</td>\n      <td>0</td>\n      <td>flu</td>\n      <td>2017-08-18 00:14:00+00:00</td>\n      <td>advance-diploma</td>\n      <td>education-professional</td>\n      <td>112247</td>\n      <td>9392 1545 1088 9225</td>\n      <td>17</td>\n      <td>2020-02-16 06:38:00+00:00</td>\n      <td>rec-6949</td>\n      <td>r19995719</td>\n    </tr>\n    <tr>\n      <th>16062</th>\n      <td>i199940217</td>\n      <td>martha</td>\n      <td>renee</td>\n      <td>jackson</td>\n      <td>f</td>\n      <td>15</td>\n      <td>2000-05-11</td>\n      <td>8818 54716 2 2</td>\n      <td>22 mitchell street central specialist clinic</td>\n      <td>darwin</td>\n      <td>nt</td>\n      <td>0800</td>\n      <td>08 6383 0084</td>\n      <td>jackson.martha@mail.com.au</td>\n      <td>not-applicable</td>\n      <td>177</td>\n      <td>61</td>\n      <td>19</td>\n      <td>65</td>\n      <td>218</td>\n      <td>0</td>\n      <td>leg-injury</td>\n      <td>2015-07-11 01:52:00+00:00</td>\n      <td>certificate-iii</td>\n      <td>automotive-worker</td>\n      <td>91101</td>\n      <td>8278 6665 0763 8863</td>\n      <td>1</td>\n      <td>2020-05-20 04:18:00+00:00</td>\n      <td>rec-2966</td>\n      <td>r97914920</td>\n    </tr>\n    <tr>\n      <th>16063</th>\n      <td>i199953012</td>\n      <td>thomas</td>\n      <td>joseph</td>\n      <td>petty</td>\n      <td>m</td>\n      <td>27</td>\n      <td>1989-04-22</td>\n      <td>9821 42905 2 2</td>\n      <td>20 dalley street st vincents private hospital</td>\n      <td>lismore</td>\n      <td>nsw</td>\n      <td>2480</td>\n      <td>02 5323 4883</td>\n      <td>petty88@aol.com</td>\n      <td>widowed</td>\n      <td>176</td>\n      <td>140</td>\n      <td>45</td>\n      <td>78</td>\n      <td>266</td>\n      <td>1</td>\n      <td>cataract-right-eye-(worsening)</td>\n      <td>2016-06-08 08:10:00+00:00</td>\n      <td>advance-diploma</td>\n      <td>ict-professional</td>\n      <td>87913</td>\n      <td>5666 8118 7243 3499</td>\n      <td>12</td>\n      <td>2020-04-17 18:38:00+00:00</td>\n      <td>rec-67404</td>\n      <td>r91953920</td>\n    </tr>\n    <tr>\n      <th>16064</th>\n      <td>i199996413</td>\n      <td>monroe</td>\n      <td>lamonte</td>\n      <td>collier</td>\n      <td>m</td>\n      <td>47</td>\n      <td>1971-02-07</td>\n      <td>4419 58367 1 1</td>\n      <td>1 harveys road oberland</td>\n      <td>armidale</td>\n      <td>nsw</td>\n      <td>2350</td>\n      <td>02 3151 8733</td>\n      <td>monroe10@hotmail.com</td>\n      <td>not-married</td>\n      <td>174</td>\n      <td>111</td>\n      <td>36</td>\n      <td>74</td>\n      <td>195</td>\n      <td>0</td>\n      <td>pre-glaucoma</td>\n      <td>2018-03-12 03:34:00+00:00</td>\n      <td>senior-secondary-school</td>\n      <td>farm-worker</td>\n      <td>16152</td>\n      <td>4264 4192 1712 6497</td>\n      <td>30</td>\n      <td>2020-03-12 15:13:00+00:00</td>\n      <td>rec-94652</td>\n      <td>r99934619</td>\n    </tr>\n  </tbody>\n</table>\n<p>16065 rows × 31 columns</p>\n</div>"
     },
     "metadata": {},
     "output_type": "display_data"
    }
   ],
   "source": [
    "display(df)"
   ],
   "metadata": {
    "collapsed": false,
    "pycharm": {
     "name": "#%%\n"
    }
   }
  },
  {
   "cell_type": "code",
   "execution_count": 28,
   "outputs": [
    {
     "data": {
      "text/plain": "      postcode                        locality state\n0         0200                             ANU   ACT\n1         0200  Australian National University   ACT\n2         0800                          DARWIN    NT\n3         0801                          DARWIN    NT\n4         0804                           PARAP    NT\n...        ...                             ...   ...\n18436     9013                        BRISBANE   QLD\n18437     9015                        BRISBANE   QLD\n18438     9464                    NORTHGATE MC   QLD\n18439     9726                   GOLD COAST MC   QLD\n18440     9999                      NORTH POLE   VIC\n\n[18441 rows x 3 columns]",
      "text/html": "<div>\n<style scoped>\n    .dataframe tbody tr th:only-of-type {\n        vertical-align: middle;\n    }\n\n    .dataframe tbody tr th {\n        vertical-align: top;\n    }\n\n    .dataframe thead th {\n        text-align: right;\n    }\n</style>\n<table border=\"1\" class=\"dataframe\">\n  <thead>\n    <tr style=\"text-align: right;\">\n      <th></th>\n      <th>postcode</th>\n      <th>locality</th>\n      <th>state</th>\n    </tr>\n  </thead>\n  <tbody>\n    <tr>\n      <th>0</th>\n      <td>0200</td>\n      <td>ANU</td>\n      <td>ACT</td>\n    </tr>\n    <tr>\n      <th>1</th>\n      <td>0200</td>\n      <td>Australian National University</td>\n      <td>ACT</td>\n    </tr>\n    <tr>\n      <th>2</th>\n      <td>0800</td>\n      <td>DARWIN</td>\n      <td>NT</td>\n    </tr>\n    <tr>\n      <th>3</th>\n      <td>0801</td>\n      <td>DARWIN</td>\n      <td>NT</td>\n    </tr>\n    <tr>\n      <th>4</th>\n      <td>0804</td>\n      <td>PARAP</td>\n      <td>NT</td>\n    </tr>\n    <tr>\n      <th>...</th>\n      <td>...</td>\n      <td>...</td>\n      <td>...</td>\n    </tr>\n    <tr>\n      <th>18436</th>\n      <td>9013</td>\n      <td>BRISBANE</td>\n      <td>QLD</td>\n    </tr>\n    <tr>\n      <th>18437</th>\n      <td>9015</td>\n      <td>BRISBANE</td>\n      <td>QLD</td>\n    </tr>\n    <tr>\n      <th>18438</th>\n      <td>9464</td>\n      <td>NORTHGATE MC</td>\n      <td>QLD</td>\n    </tr>\n    <tr>\n      <th>18439</th>\n      <td>9726</td>\n      <td>GOLD COAST MC</td>\n      <td>QLD</td>\n    </tr>\n    <tr>\n      <th>18440</th>\n      <td>9999</td>\n      <td>NORTH POLE</td>\n      <td>VIC</td>\n    </tr>\n  </tbody>\n</table>\n<p>18441 rows × 3 columns</p>\n</div>"
     },
     "metadata": {},
     "output_type": "display_data"
    }
   ],
   "source": [
    "# Validate if the suburb entered matches the postcode entered (0 = no, 1 = yes, invalid = postcode doesn't exist)\n",
    "pc = pd.read_csv('postcodes.csv', dtype=str)\n",
    "pc = pc[['postcode', 'locality', 'state']]\n",
    "display(pc)"
   ],
   "metadata": {
    "collapsed": false,
    "pycharm": {
     "name": "#%%\n"
    }
   }
  },
  {
   "cell_type": "code",
   "execution_count": 29,
   "outputs": [],
   "source": [
    "pc1 = pc.groupby('postcode')['locality'].apply(list)\n",
    "df = df.replace(np.nan, '', regex=True)"
   ],
   "metadata": {
    "collapsed": false,
    "pycharm": {
     "name": "#%%\n"
    }
   }
  },
  {
   "cell_type": "code",
   "execution_count": 30,
   "outputs": [
    {
     "data": {
      "text/plain": "postcode\n0200                [ANU, Australian National University]\n0800                                             [DARWIN]\n0801                                             [DARWIN]\n0804                                              [PARAP]\n0810    [ALAWA, BRINKIN, CASUARINA, COCONUT GROVE, JIN...\n                              ...                        \n9013                                           [BRISBANE]\n9015                                           [BRISBANE]\n9464                                       [NORTHGATE MC]\n9726                                      [GOLD COAST MC]\n9999                                         [NORTH POLE]\nName: locality, Length: 3167, dtype: object"
     },
     "metadata": {},
     "output_type": "display_data"
    }
   ],
   "source": [
    "display(pc1)"
   ],
   "metadata": {
    "collapsed": false,
    "pycharm": {
     "name": "#%%\n"
    }
   }
  },
  {
   "cell_type": "code",
   "execution_count": 31,
   "outputs": [],
   "source": [
    "def pcode_valid(row):\n",
    "    if row['postcode'] != '' and row['suburb'] != '':\n",
    "        try:\n",
    "            pcode_src = row['postcode']\n",
    "            suburb_src = row['suburb']\n",
    "            suburbs_lookup = [x.lower() for x in pc1[pcode_src]]\n",
    "            if suburb_src in suburbs_lookup:\n",
    "                return 1\n",
    "            else:\n",
    "                return 0\n",
    "        except KeyError:\n",
    "            return 'invalid postcode'"
   ],
   "metadata": {
    "collapsed": false,
    "pycharm": {
     "name": "#%%\n"
    }
   }
  },
  {
   "cell_type": "code",
   "execution_count": 32,
   "outputs": [],
   "source": [
    "df['pcode_check'] = df.apply(lambda row: pcode_valid(row), axis=1)"
   ],
   "metadata": {
    "collapsed": false,
    "pycharm": {
     "name": "#%%\n"
    }
   }
  },
  {
   "cell_type": "code",
   "execution_count": 33,
   "outputs": [
    {
     "data": {
      "text/plain": "              ssn   first_name middle_name last_name gender  \\\n0      a100050102       justin       elton     verga      m   \n1      a100091149  christopher      jerome   herring      m   \n2      a100222723        billy       david      ross      m   \n3      a100248307       howard     stephen    turner      m   \n4      a100317978        keith      andrew      darr      m   \n...           ...          ...         ...       ...    ...   \n16060  i199840951         evan      maston     bruno      m   \n16061  i199919157      jillian        erin    perell      f   \n16062  i199940217       martha       renee   jackson      f   \n16063  i199953012       thomas      joseph     petty      m   \n16064  i199996413       monroe     lamonte   collier      m   \n\n       age_at_consultation  birth_date medicare_number  \\\n0                       36  1980-06-07  8250 99889 1 2   \n1                       21  1995-10-20  2939 34141 2 3   \n2                       15  1998-05-17  5417 95547 2 3   \n3                       36  1985-01-09  6472 28876 1 1   \n4                       14  2002-07-01  4693 25183 1 2   \n...                    ...         ...             ...   \n16060                   23  1996-04-03  4352 69591 2 3   \n16061                   33  1984-11-22  3005 36572 1 1   \n16062                   15  2000-05-11  8818 54716 2 2   \n16063                   27  1989-04-22  9821 42905 2 2   \n16064                   47  1971-02-07  4419 58367 1 1   \n\n                                      street_address           suburb state  \\\n0             40 marcus clarke street canberra house    canberra city   act   \n1                17 inner harbour drive marina palms  patterson lakes   vic   \n2                      41 cavenagh street plaza bldg           darwin    nt   \n3                         1351 sidonia road balkebah          baynton   vic   \n4                             4 morris way jerrabung           bunyip   vic   \n...                                              ...              ...   ...   \n16060                       42 borenore lane kenvale         borenore   nsw   \n16061                   3 collins close masonic vlge       lake haven   nsw   \n16062   22 mitchell street central specialist clinic           darwin    nt   \n16063  20 dalley street st vincents private hospital          lismore   nsw   \n16064                        1 harveys road oberland         armidale   nsw   \n\n      postcode         phone                            email  \\\n0         2601  02 5920 4201            verga.justin@mail.com   \n1         3197  03 6566 8753  christopher.herring@mail.com.au   \n2         0800  08 4559 6907               ross94@mail.com.au   \n3         3444  03 4442 1139          howard.turner@gmail.com   \n4         3815  03 8293 5481               darr60@mail.com.au   \n...        ...           ...                              ...   \n16060     2800  02 1588 8711              bruno50@hotmail.com   \n16061     2263  02 9404 9177          perell.jillian@mail.com   \n16062     0800  08 6383 0084       jackson.martha@mail.com.au   \n16063     2480  02 5323 4883                  petty88@aol.com   \n16064     2350  02 3151 8733             monroe10@hotmail.com   \n\n         marital_status  height  weight  bmi  blood_pressure  \\\n0               married     191      67   18              76   \n1      married-de-facto     174     108   35              77   \n2        not-applicable     176      73   23              79   \n3               married     187     128   36              74   \n4        not-applicable     157      45   18              70   \n...                 ...     ...     ...  ...             ...   \n16060           married     194      75   19              74   \n16061           married     199      84   21              76   \n16062    not-applicable     177      61   19              65   \n16063           widowed     176     140   45              78   \n16064       not-married     174     111   36              74   \n\n       cholesterol_level  smoking_status                  clinical_notes  \\\n0                    138               0         urinary-tract-infection   \n1                    160               0                       back-pain   \n2                    191               0                        insomnia   \n3                    132               0                        insomnia   \n4                    139               0                  shuffling-gait   \n...                  ...             ...                             ...   \n16060                181               0                  depressed-mood   \n16061                140               0                             flu   \n16062                218               0                      leg-injury   \n16063                266               1  cataract-right-eye-(worsening)   \n16064                195               0                    pre-glaucoma   \n\n          consultation_timestamp                education  \\\n0      2016-01-26 06:44:00+00:00           certificate-iv   \n1      2016-07-18 13:58:00+00:00          certificate-iii   \n2      2013-03-26 21:59:00+00:00         secondary-school   \n3      2020-07-23 06:51:00+00:00           certificate-ii   \n4      2016-08-17 21:12:00+00:00  senior-secondary-school   \n...                          ...                      ...   \n16060  2018-12-19 16:05:00+00:00          advance-diploma   \n16061  2017-08-18 00:14:00+00:00          advance-diploma   \n16062  2015-07-11 01:52:00+00:00          certificate-iii   \n16063  2016-06-08 08:10:00+00:00          advance-diploma   \n16064  2018-03-12 03:34:00+00:00  senior-secondary-school   \n\n                     occupation  salary   credit_card_number  \\\n0                  other-worker   78359  7426 3365 3452 2350   \n1                ict-technician  104897  7356 0165 1634 7804   \n2              machinary-driver   14251  5837 2758 2366 5640   \n3      personal-services-worker   78420  3951 5724 9004 2669   \n4                 casual-worker    6909  8247 4592 3961 9751   \n...                         ...     ...                  ...   \n16060    art-media-professional  103367  4496 1676 9466 2010   \n16061    education-professional  112247  9392 1545 1088 9225   \n16062         automotive-worker   91101  8278 6665 0763 8863   \n16063          ict-professional   87913  5666 8118 7243 3499   \n16064               farm-worker   16152  4264 4192 1712 6497   \n\n       years_of_experience       employment_timestamp medical_rec_id  \\\n0                       21  2020-04-15 13:24:00+00:00      rec-86693   \n1                        6  2020-06-13 01:21:00+00:00      rec-10443   \n2                        3  2020-04-05 06:45:00+00:00      rec-71086   \n3                       15  2019-09-27 12:53:00+00:00      rec-56402   \n4                        1  2020-01-24 07:11:00+00:00        rec-674   \n...                    ...                        ...            ...   \n16060                    5  2020-04-02 07:41:00+00:00      rec-96364   \n16061                   17  2020-02-16 06:38:00+00:00       rec-6949   \n16062                    1  2020-05-20 04:18:00+00:00       rec-2966   \n16063                   12  2020-04-17 18:38:00+00:00      rec-67404   \n16064                   30  2020-03-12 15:13:00+00:00      rec-94652   \n\n      education_rec_id pcode_check  \n0            r15002000           0  \n1            r90040119           1  \n2            r23272200           1  \n3            r20407803           1  \n4            r97030187           1  \n...                ...         ...  \n16060        r40995189           1  \n16061        r19995719           1  \n16062        r97914920           1  \n16063        r91953920           1  \n16064        r99934619           1  \n\n[16065 rows x 32 columns]",
      "text/html": "<div>\n<style scoped>\n    .dataframe tbody tr th:only-of-type {\n        vertical-align: middle;\n    }\n\n    .dataframe tbody tr th {\n        vertical-align: top;\n    }\n\n    .dataframe thead th {\n        text-align: right;\n    }\n</style>\n<table border=\"1\" class=\"dataframe\">\n  <thead>\n    <tr style=\"text-align: right;\">\n      <th></th>\n      <th>ssn</th>\n      <th>first_name</th>\n      <th>middle_name</th>\n      <th>last_name</th>\n      <th>gender</th>\n      <th>age_at_consultation</th>\n      <th>birth_date</th>\n      <th>medicare_number</th>\n      <th>street_address</th>\n      <th>suburb</th>\n      <th>state</th>\n      <th>postcode</th>\n      <th>phone</th>\n      <th>email</th>\n      <th>marital_status</th>\n      <th>height</th>\n      <th>weight</th>\n      <th>bmi</th>\n      <th>blood_pressure</th>\n      <th>cholesterol_level</th>\n      <th>smoking_status</th>\n      <th>clinical_notes</th>\n      <th>consultation_timestamp</th>\n      <th>education</th>\n      <th>occupation</th>\n      <th>salary</th>\n      <th>credit_card_number</th>\n      <th>years_of_experience</th>\n      <th>employment_timestamp</th>\n      <th>medical_rec_id</th>\n      <th>education_rec_id</th>\n      <th>pcode_check</th>\n    </tr>\n  </thead>\n  <tbody>\n    <tr>\n      <th>0</th>\n      <td>a100050102</td>\n      <td>justin</td>\n      <td>elton</td>\n      <td>verga</td>\n      <td>m</td>\n      <td>36</td>\n      <td>1980-06-07</td>\n      <td>8250 99889 1 2</td>\n      <td>40 marcus clarke street canberra house</td>\n      <td>canberra city</td>\n      <td>act</td>\n      <td>2601</td>\n      <td>02 5920 4201</td>\n      <td>verga.justin@mail.com</td>\n      <td>married</td>\n      <td>191</td>\n      <td>67</td>\n      <td>18</td>\n      <td>76</td>\n      <td>138</td>\n      <td>0</td>\n      <td>urinary-tract-infection</td>\n      <td>2016-01-26 06:44:00+00:00</td>\n      <td>certificate-iv</td>\n      <td>other-worker</td>\n      <td>78359</td>\n      <td>7426 3365 3452 2350</td>\n      <td>21</td>\n      <td>2020-04-15 13:24:00+00:00</td>\n      <td>rec-86693</td>\n      <td>r15002000</td>\n      <td>0</td>\n    </tr>\n    <tr>\n      <th>1</th>\n      <td>a100091149</td>\n      <td>christopher</td>\n      <td>jerome</td>\n      <td>herring</td>\n      <td>m</td>\n      <td>21</td>\n      <td>1995-10-20</td>\n      <td>2939 34141 2 3</td>\n      <td>17 inner harbour drive marina palms</td>\n      <td>patterson lakes</td>\n      <td>vic</td>\n      <td>3197</td>\n      <td>03 6566 8753</td>\n      <td>christopher.herring@mail.com.au</td>\n      <td>married-de-facto</td>\n      <td>174</td>\n      <td>108</td>\n      <td>35</td>\n      <td>77</td>\n      <td>160</td>\n      <td>0</td>\n      <td>back-pain</td>\n      <td>2016-07-18 13:58:00+00:00</td>\n      <td>certificate-iii</td>\n      <td>ict-technician</td>\n      <td>104897</td>\n      <td>7356 0165 1634 7804</td>\n      <td>6</td>\n      <td>2020-06-13 01:21:00+00:00</td>\n      <td>rec-10443</td>\n      <td>r90040119</td>\n      <td>1</td>\n    </tr>\n    <tr>\n      <th>2</th>\n      <td>a100222723</td>\n      <td>billy</td>\n      <td>david</td>\n      <td>ross</td>\n      <td>m</td>\n      <td>15</td>\n      <td>1998-05-17</td>\n      <td>5417 95547 2 3</td>\n      <td>41 cavenagh street plaza bldg</td>\n      <td>darwin</td>\n      <td>nt</td>\n      <td>0800</td>\n      <td>08 4559 6907</td>\n      <td>ross94@mail.com.au</td>\n      <td>not-applicable</td>\n      <td>176</td>\n      <td>73</td>\n      <td>23</td>\n      <td>79</td>\n      <td>191</td>\n      <td>0</td>\n      <td>insomnia</td>\n      <td>2013-03-26 21:59:00+00:00</td>\n      <td>secondary-school</td>\n      <td>machinary-driver</td>\n      <td>14251</td>\n      <td>5837 2758 2366 5640</td>\n      <td>3</td>\n      <td>2020-04-05 06:45:00+00:00</td>\n      <td>rec-71086</td>\n      <td>r23272200</td>\n      <td>1</td>\n    </tr>\n    <tr>\n      <th>3</th>\n      <td>a100248307</td>\n      <td>howard</td>\n      <td>stephen</td>\n      <td>turner</td>\n      <td>m</td>\n      <td>36</td>\n      <td>1985-01-09</td>\n      <td>6472 28876 1 1</td>\n      <td>1351 sidonia road balkebah</td>\n      <td>baynton</td>\n      <td>vic</td>\n      <td>3444</td>\n      <td>03 4442 1139</td>\n      <td>howard.turner@gmail.com</td>\n      <td>married</td>\n      <td>187</td>\n      <td>128</td>\n      <td>36</td>\n      <td>74</td>\n      <td>132</td>\n      <td>0</td>\n      <td>insomnia</td>\n      <td>2020-07-23 06:51:00+00:00</td>\n      <td>certificate-ii</td>\n      <td>personal-services-worker</td>\n      <td>78420</td>\n      <td>3951 5724 9004 2669</td>\n      <td>15</td>\n      <td>2019-09-27 12:53:00+00:00</td>\n      <td>rec-56402</td>\n      <td>r20407803</td>\n      <td>1</td>\n    </tr>\n    <tr>\n      <th>4</th>\n      <td>a100317978</td>\n      <td>keith</td>\n      <td>andrew</td>\n      <td>darr</td>\n      <td>m</td>\n      <td>14</td>\n      <td>2002-07-01</td>\n      <td>4693 25183 1 2</td>\n      <td>4 morris way jerrabung</td>\n      <td>bunyip</td>\n      <td>vic</td>\n      <td>3815</td>\n      <td>03 8293 5481</td>\n      <td>darr60@mail.com.au</td>\n      <td>not-applicable</td>\n      <td>157</td>\n      <td>45</td>\n      <td>18</td>\n      <td>70</td>\n      <td>139</td>\n      <td>0</td>\n      <td>shuffling-gait</td>\n      <td>2016-08-17 21:12:00+00:00</td>\n      <td>senior-secondary-school</td>\n      <td>casual-worker</td>\n      <td>6909</td>\n      <td>8247 4592 3961 9751</td>\n      <td>1</td>\n      <td>2020-01-24 07:11:00+00:00</td>\n      <td>rec-674</td>\n      <td>r97030187</td>\n      <td>1</td>\n    </tr>\n    <tr>\n      <th>...</th>\n      <td>...</td>\n      <td>...</td>\n      <td>...</td>\n      <td>...</td>\n      <td>...</td>\n      <td>...</td>\n      <td>...</td>\n      <td>...</td>\n      <td>...</td>\n      <td>...</td>\n      <td>...</td>\n      <td>...</td>\n      <td>...</td>\n      <td>...</td>\n      <td>...</td>\n      <td>...</td>\n      <td>...</td>\n      <td>...</td>\n      <td>...</td>\n      <td>...</td>\n      <td>...</td>\n      <td>...</td>\n      <td>...</td>\n      <td>...</td>\n      <td>...</td>\n      <td>...</td>\n      <td>...</td>\n      <td>...</td>\n      <td>...</td>\n      <td>...</td>\n      <td>...</td>\n      <td>...</td>\n    </tr>\n    <tr>\n      <th>16060</th>\n      <td>i199840951</td>\n      <td>evan</td>\n      <td>maston</td>\n      <td>bruno</td>\n      <td>m</td>\n      <td>23</td>\n      <td>1996-04-03</td>\n      <td>4352 69591 2 3</td>\n      <td>42 borenore lane kenvale</td>\n      <td>borenore</td>\n      <td>nsw</td>\n      <td>2800</td>\n      <td>02 1588 8711</td>\n      <td>bruno50@hotmail.com</td>\n      <td>married</td>\n      <td>194</td>\n      <td>75</td>\n      <td>19</td>\n      <td>74</td>\n      <td>181</td>\n      <td>0</td>\n      <td>depressed-mood</td>\n      <td>2018-12-19 16:05:00+00:00</td>\n      <td>advance-diploma</td>\n      <td>art-media-professional</td>\n      <td>103367</td>\n      <td>4496 1676 9466 2010</td>\n      <td>5</td>\n      <td>2020-04-02 07:41:00+00:00</td>\n      <td>rec-96364</td>\n      <td>r40995189</td>\n      <td>1</td>\n    </tr>\n    <tr>\n      <th>16061</th>\n      <td>i199919157</td>\n      <td>jillian</td>\n      <td>erin</td>\n      <td>perell</td>\n      <td>f</td>\n      <td>33</td>\n      <td>1984-11-22</td>\n      <td>3005 36572 1 1</td>\n      <td>3 collins close masonic vlge</td>\n      <td>lake haven</td>\n      <td>nsw</td>\n      <td>2263</td>\n      <td>02 9404 9177</td>\n      <td>perell.jillian@mail.com</td>\n      <td>married</td>\n      <td>199</td>\n      <td>84</td>\n      <td>21</td>\n      <td>76</td>\n      <td>140</td>\n      <td>0</td>\n      <td>flu</td>\n      <td>2017-08-18 00:14:00+00:00</td>\n      <td>advance-diploma</td>\n      <td>education-professional</td>\n      <td>112247</td>\n      <td>9392 1545 1088 9225</td>\n      <td>17</td>\n      <td>2020-02-16 06:38:00+00:00</td>\n      <td>rec-6949</td>\n      <td>r19995719</td>\n      <td>1</td>\n    </tr>\n    <tr>\n      <th>16062</th>\n      <td>i199940217</td>\n      <td>martha</td>\n      <td>renee</td>\n      <td>jackson</td>\n      <td>f</td>\n      <td>15</td>\n      <td>2000-05-11</td>\n      <td>8818 54716 2 2</td>\n      <td>22 mitchell street central specialist clinic</td>\n      <td>darwin</td>\n      <td>nt</td>\n      <td>0800</td>\n      <td>08 6383 0084</td>\n      <td>jackson.martha@mail.com.au</td>\n      <td>not-applicable</td>\n      <td>177</td>\n      <td>61</td>\n      <td>19</td>\n      <td>65</td>\n      <td>218</td>\n      <td>0</td>\n      <td>leg-injury</td>\n      <td>2015-07-11 01:52:00+00:00</td>\n      <td>certificate-iii</td>\n      <td>automotive-worker</td>\n      <td>91101</td>\n      <td>8278 6665 0763 8863</td>\n      <td>1</td>\n      <td>2020-05-20 04:18:00+00:00</td>\n      <td>rec-2966</td>\n      <td>r97914920</td>\n      <td>1</td>\n    </tr>\n    <tr>\n      <th>16063</th>\n      <td>i199953012</td>\n      <td>thomas</td>\n      <td>joseph</td>\n      <td>petty</td>\n      <td>m</td>\n      <td>27</td>\n      <td>1989-04-22</td>\n      <td>9821 42905 2 2</td>\n      <td>20 dalley street st vincents private hospital</td>\n      <td>lismore</td>\n      <td>nsw</td>\n      <td>2480</td>\n      <td>02 5323 4883</td>\n      <td>petty88@aol.com</td>\n      <td>widowed</td>\n      <td>176</td>\n      <td>140</td>\n      <td>45</td>\n      <td>78</td>\n      <td>266</td>\n      <td>1</td>\n      <td>cataract-right-eye-(worsening)</td>\n      <td>2016-06-08 08:10:00+00:00</td>\n      <td>advance-diploma</td>\n      <td>ict-professional</td>\n      <td>87913</td>\n      <td>5666 8118 7243 3499</td>\n      <td>12</td>\n      <td>2020-04-17 18:38:00+00:00</td>\n      <td>rec-67404</td>\n      <td>r91953920</td>\n      <td>1</td>\n    </tr>\n    <tr>\n      <th>16064</th>\n      <td>i199996413</td>\n      <td>monroe</td>\n      <td>lamonte</td>\n      <td>collier</td>\n      <td>m</td>\n      <td>47</td>\n      <td>1971-02-07</td>\n      <td>4419 58367 1 1</td>\n      <td>1 harveys road oberland</td>\n      <td>armidale</td>\n      <td>nsw</td>\n      <td>2350</td>\n      <td>02 3151 8733</td>\n      <td>monroe10@hotmail.com</td>\n      <td>not-married</td>\n      <td>174</td>\n      <td>111</td>\n      <td>36</td>\n      <td>74</td>\n      <td>195</td>\n      <td>0</td>\n      <td>pre-glaucoma</td>\n      <td>2018-03-12 03:34:00+00:00</td>\n      <td>senior-secondary-school</td>\n      <td>farm-worker</td>\n      <td>16152</td>\n      <td>4264 4192 1712 6497</td>\n      <td>30</td>\n      <td>2020-03-12 15:13:00+00:00</td>\n      <td>rec-94652</td>\n      <td>r99934619</td>\n      <td>1</td>\n    </tr>\n  </tbody>\n</table>\n<p>16065 rows × 32 columns</p>\n</div>"
     },
     "metadata": {},
     "output_type": "display_data"
    }
   ],
   "source": [
    "display(df)"
   ],
   "metadata": {
    "collapsed": false,
    "pycharm": {
     "name": "#%%\n"
    }
   }
  },
  {
   "cell_type": "code",
   "execution_count": 36,
   "outputs": [],
   "source": [
    "df.to_csv('final_export_pcode_check.csv', index=False)"
   ],
   "metadata": {
    "collapsed": false,
    "pycharm": {
     "name": "#%%\n"
    }
   }
  },
  {
   "cell_type": "code",
   "execution_count": null,
   "outputs": [],
   "source": [],
   "metadata": {
    "collapsed": false,
    "pycharm": {
     "name": "#%%\n"
    }
   }
  }
 ],
 "metadata": {
  "kernelspec": {
   "display_name": "Python 3",
   "language": "python",
   "name": "python3"
  },
  "language_info": {
   "codemirror_mode": {
    "name": "ipython",
    "version": 2
   },
   "file_extension": ".py",
   "mimetype": "text/x-python",
   "name": "python",
   "nbconvert_exporter": "python",
   "pygments_lexer": "ipython2",
   "version": "2.7.6"
  }
 },
 "nbformat": 4,
 "nbformat_minor": 0
}